{
 "cells": [
  {
   "cell_type": "code",
   "execution_count": 2,
   "metadata": {},
   "outputs": [],
   "source": [
    "import pandas as pd\n",
    "import numpy as np\n",
    "\n",
    "from sklearn.model_selection import train_test_split\n",
    "from sklearn.metrics import accuracy_score, precision_score, recall_score\n",
    "\n",
    "from sklearn.linear_model import LogisticRegression\n",
    "from sklearn.tree import DecisionTreeClassifier"
   ]
  },
  {
   "cell_type": "code",
   "execution_count": 3,
   "metadata": {},
   "outputs": [
    {
     "data": {
      "text/html": [
       "<div>\n",
       "<style scoped>\n",
       "    .dataframe tbody tr th:only-of-type {\n",
       "        vertical-align: middle;\n",
       "    }\n",
       "\n",
       "    .dataframe tbody tr th {\n",
       "        vertical-align: top;\n",
       "    }\n",
       "\n",
       "    .dataframe thead th {\n",
       "        text-align: right;\n",
       "    }\n",
       "</style>\n",
       "<table border=\"1\" class=\"dataframe\">\n",
       "  <thead>\n",
       "    <tr style=\"text-align: right;\">\n",
       "      <th></th>\n",
       "      <th>Survived</th>\n",
       "      <th>Pclass</th>\n",
       "      <th>Sex</th>\n",
       "      <th>Age</th>\n",
       "      <th>SibSp</th>\n",
       "      <th>Parch</th>\n",
       "      <th>Fare</th>\n",
       "      <th>Embarked_C</th>\n",
       "      <th>Embarked_Q</th>\n",
       "      <th>Embarked_S</th>\n",
       "    </tr>\n",
       "  </thead>\n",
       "  <tbody>\n",
       "    <tr>\n",
       "      <th>0</th>\n",
       "      <td>0</td>\n",
       "      <td>3</td>\n",
       "      <td>0</td>\n",
       "      <td>30.0</td>\n",
       "      <td>0</td>\n",
       "      <td>0</td>\n",
       "      <td>8.6625</td>\n",
       "      <td>0</td>\n",
       "      <td>0</td>\n",
       "      <td>1</td>\n",
       "    </tr>\n",
       "    <tr>\n",
       "      <th>1</th>\n",
       "      <td>0</td>\n",
       "      <td>3</td>\n",
       "      <td>0</td>\n",
       "      <td>25.0</td>\n",
       "      <td>1</td>\n",
       "      <td>0</td>\n",
       "      <td>7.9250</td>\n",
       "      <td>0</td>\n",
       "      <td>0</td>\n",
       "      <td>1</td>\n",
       "    </tr>\n",
       "    <tr>\n",
       "      <th>2</th>\n",
       "      <td>0</td>\n",
       "      <td>1</td>\n",
       "      <td>1</td>\n",
       "      <td>36.0</td>\n",
       "      <td>1</td>\n",
       "      <td>0</td>\n",
       "      <td>78.8500</td>\n",
       "      <td>0</td>\n",
       "      <td>0</td>\n",
       "      <td>1</td>\n",
       "    </tr>\n",
       "    <tr>\n",
       "      <th>3</th>\n",
       "      <td>0</td>\n",
       "      <td>3</td>\n",
       "      <td>1</td>\n",
       "      <td>20.0</td>\n",
       "      <td>0</td>\n",
       "      <td>0</td>\n",
       "      <td>9.8458</td>\n",
       "      <td>0</td>\n",
       "      <td>0</td>\n",
       "      <td>1</td>\n",
       "    </tr>\n",
       "    <tr>\n",
       "      <th>4</th>\n",
       "      <td>1</td>\n",
       "      <td>2</td>\n",
       "      <td>1</td>\n",
       "      <td>31.0</td>\n",
       "      <td>0</td>\n",
       "      <td>0</td>\n",
       "      <td>13.0000</td>\n",
       "      <td>0</td>\n",
       "      <td>0</td>\n",
       "      <td>1</td>\n",
       "    </tr>\n",
       "  </tbody>\n",
       "</table>\n",
       "</div>"
      ],
      "text/plain": [
       "   Survived  Pclass  Sex   Age  SibSp  Parch     Fare  Embarked_C  Embarked_Q  \\\n",
       "0         0       3    0  30.0      0      0   8.6625           0           0   \n",
       "1         0       3    0  25.0      1      0   7.9250           0           0   \n",
       "2         0       1    1  36.0      1      0  78.8500           0           0   \n",
       "3         0       3    1  20.0      0      0   9.8458           0           0   \n",
       "4         1       2    1  31.0      0      0  13.0000           0           0   \n",
       "\n",
       "   Embarked_S  \n",
       "0           1  \n",
       "1           1  \n",
       "2           1  \n",
       "3           1  \n",
       "4           1  "
      ]
     },
     "execution_count": 3,
     "metadata": {},
     "output_type": "execute_result"
    }
   ],
   "source": [
    "titanic_df = pd.read_csv('datasets/titanic_processed.csv')\n",
    "titanic_df.head()"
   ]
  },
  {
   "cell_type": "code",
   "execution_count": 6,
   "metadata": {},
   "outputs": [],
   "source": [
    "X = titanic_df.drop('Survived', axis=1)\n",
    "\n",
    "Y = titanic_df['Survived']\n",
    "\n",
    "x_train, x_test, y_train, y_test = train_test_split(X,Y, test_size=.2)"
   ]
  },
  {
   "cell_type": "code",
   "execution_count": 9,
   "metadata": {},
   "outputs": [],
   "source": [
    "#helper function\n",
    "def summarize_classification(y_test, y_pred):\n",
    "    acc=accuracy_score(y_test, y_pred, normalize=True)#fraction %\n",
    "    num_acc = accuracy_score(y_test, y_pred, normalize=False)#raw number\n",
    "    \n",
    "    prec=precision_score(y_test, y_pred)\n",
    "    recall = recall_score(y_test, y_pred)\n",
    "    res = {'test data count':len(y_test), 'accuracy count':num_acc, 'accuracy':acc, 'precision':prec, 'recall':recall}\n",
    "    print(res,\"\\n\")\n",
    "    return res"
   ]
  },
  {
   "cell_type": "code",
   "execution_count": 10,
   "metadata": {},
   "outputs": [
    {
     "data": {
      "text/plain": [
       "{'max_depth': 5}"
      ]
     },
     "execution_count": 10,
     "metadata": {},
     "output_type": "execute_result"
    }
   ],
   "source": [
    "from sklearn.model_selection import GridSearchCV\n",
    "\n",
    "parameters = {'max_depth':[2,4,5,7,9,10]}# 6 parameters = 6 models\n",
    "\n",
    "grid_search = GridSearchCV(DecisionTreeClassifier(), parameters, cv=3, return_train_score=True)\n",
    "#cv=3 means use three-fold croass validation (split dataset into 3 parts) 2 of 3 used to train and the other used to test\n",
    "#default train_score for classification = accuracy\n",
    "grid_search.fit(x_train, y_train)\n",
    "\n",
    "grid_search.best_params_"
   ]
  },
  {
   "cell_type": "code",
   "execution_count": 11,
   "metadata": {},
   "outputs": [
    {
     "name": "stdout",
     "output_type": "stream",
     "text": [
      "Parameters:  {'max_depth': 2}\n",
      "Mean test score:  0.7697670101178873\n",
      "Rank:  6\n",
      "Parameters:  {'max_depth': 4}\n",
      "Mean test score:  0.7821312540610786\n",
      "Rank:  4\n",
      "Parameters:  {'max_depth': 5}\n",
      "Mean test score:  0.8137473312911908\n",
      "Rank:  1\n",
      "Parameters:  {'max_depth': 7}\n",
      "Mean test score:  0.785602896129212\n",
      "Rank:  2\n",
      "Parameters:  {'max_depth': 9}\n",
      "Mean test score:  0.7838113803026084\n",
      "Rank:  3\n",
      "Parameters:  {'max_depth': 10}\n",
      "Mean test score:  0.7803118908382066\n",
      "Rank:  5\n"
     ]
    }
   ],
   "source": [
    "for i in range(6):\n",
    "    print('Parameters: ', grid_search.cv_results_['params'][i])\n",
    "    print('Mean test score: ', grid_search.cv_results_['mean_test_score'][i])\n",
    "    print('Rank: ', grid_search.cv_results_['rank_test_score'][i])"
   ]
  },
  {
   "cell_type": "code",
   "execution_count": 12,
   "metadata": {},
   "outputs": [],
   "source": [
    "decision_tree_model=DecisionTreeClassifier(max_depth=grid_search.best_params_['max_depth']).fit(x_train, y_train)"
   ]
  },
  {
   "cell_type": "code",
   "execution_count": 13,
   "metadata": {},
   "outputs": [],
   "source": [
    "y_pred = decision_tree_model.predict(x_test)"
   ]
  },
  {
   "cell_type": "code",
   "execution_count": 14,
   "metadata": {},
   "outputs": [
    {
     "name": "stdout",
     "output_type": "stream",
     "text": [
      "{'test data count': 143, 'accuracy': 0.7972027972027972, 'precision': 0.8863636363636364, 'recall': 0.6190476190476191, 'accuracy count': 114} \n",
      "\n"
     ]
    },
    {
     "data": {
      "text/plain": [
       "{'test data count': 143,\n",
       " 'accuracy': 0.7972027972027972,\n",
       " 'precision': 0.8863636363636364,\n",
       " 'recall': 0.6190476190476191,\n",
       " 'accuracy count': 114}"
      ]
     },
     "execution_count": 14,
     "metadata": {},
     "output_type": "execute_result"
    }
   ],
   "source": [
    "summarize_classification(y_test, y_pred)"
   ]
  },
  {
   "cell_type": "code",
   "execution_count": 15,
   "metadata": {},
   "outputs": [
    {
     "data": {
      "text/plain": [
       "{'C': 1, 'penalty': 'l1'}"
      ]
     },
     "execution_count": 15,
     "metadata": {},
     "output_type": "execute_result"
    }
   ],
   "source": [
    "parameters = { 'penalty': ['l1', 'l2'], 'C': [.1, .4, .8, 1,2,5]}# L1 or L2 and diff penalty values\n",
    "grid_search = GridSearchCV(LogisticRegression(solver='liblinear'), parameters, cv=3, return_train_score=True)\n",
    "#10 total models\n",
    "grid_search.fit(x_train, y_train)\n",
    "\n",
    "grid_search.best_params_\n",
    "# in the case of a tie , grid search just gives 1 set of parameters"
   ]
  },
  {
   "cell_type": "code",
   "execution_count": 16,
   "metadata": {},
   "outputs": [
    {
     "name": "stdout",
     "output_type": "stream",
     "text": [
      "Parameters:  {'C': 0.1, 'penalty': 'l1'}\n",
      "mean test score:  0.7803768680961664\n",
      "rank:  12\n",
      "Parameters:  {'C': 0.1, 'penalty': 'l2'}\n",
      "mean test score:  0.7821312540610786\n",
      "rank:  11\n",
      "Parameters:  {'C': 0.4, 'penalty': 'l1'}\n",
      "mean test score:  0.7979578576069803\n",
      "rank:  8\n",
      "Parameters:  {'C': 0.4, 'penalty': 'l2'}\n",
      "mean test score:  0.7944676506080014\n",
      "rank:  10\n",
      "Parameters:  {'C': 0.8, 'penalty': 'l1'}\n",
      "mean test score:  0.8032302979671401\n",
      "rank:  6\n",
      "Parameters:  {'C': 0.8, 'penalty': 'l2'}\n",
      "mean test score:  0.7962127541074909\n",
      "rank:  9\n",
      "Parameters:  {'C': 1, 'penalty': 'l1'}\n",
      "mean test score:  0.8067576348278104\n",
      "rank:  1\n",
      "Parameters:  {'C': 1, 'penalty': 'l2'}\n",
      "mean test score:  0.7979671400724033\n",
      "rank:  7\n",
      "Parameters:  {'C': 2, 'penalty': 'l1'}\n",
      "mean test score:  0.805003248862898\n",
      "rank:  2\n",
      "Parameters:  {'C': 2, 'penalty': 'l2'}\n",
      "mean test score:  0.8032395804325629\n",
      "rank:  5\n",
      "Parameters:  {'C': 5, 'penalty': 'l1'}\n",
      "mean test score:  0.805003248862898\n",
      "rank:  2\n",
      "Parameters:  {'C': 5, 'penalty': 'l2'}\n",
      "mean test score:  0.8032488628979856\n",
      "rank:  4\n"
     ]
    }
   ],
   "source": [
    "for i in range(12):\n",
    "    print('Parameters: ', grid_search.cv_results_['params'][i])\n",
    "    print('mean test score: ', grid_search.cv_results_['mean_test_score'][i])\n",
    "    print('rank: ', grid_search.cv_results_['rank_test_score'][i])"
   ]
  },
  {
   "cell_type": "code",
   "execution_count": 17,
   "metadata": {},
   "outputs": [],
   "source": [
    "logistic_model = LogisticRegression(solver='liblinear', penalty=grid_search.best_params_['penalty'],\n",
    "                                    C=grid_search.best_params_['C']).fit(x_train, y_train)"
   ]
  },
  {
   "cell_type": "code",
   "execution_count": 18,
   "metadata": {},
   "outputs": [],
   "source": [
    "y_pred = logistic_model.predict(x_test)"
   ]
  },
  {
   "cell_type": "code",
   "execution_count": 19,
   "metadata": {},
   "outputs": [
    {
     "name": "stdout",
     "output_type": "stream",
     "text": [
      "{'test data count': 143, 'accuracy': 0.7762237762237763, 'precision': 0.7818181818181819, 'recall': 0.6825396825396826, 'accuracy count': 111} \n",
      "\n"
     ]
    },
    {
     "data": {
      "text/plain": [
       "{'test data count': 143,\n",
       " 'accuracy': 0.7762237762237763,\n",
       " 'precision': 0.7818181818181819,\n",
       " 'recall': 0.6825396825396826,\n",
       " 'accuracy count': 111}"
      ]
     },
     "execution_count": 19,
     "metadata": {},
     "output_type": "execute_result"
    }
   ],
   "source": [
    "summarize_classification(y_test, y_pred)"
   ]
  },
  {
   "cell_type": "code",
   "execution_count": null,
   "metadata": {},
   "outputs": [],
   "source": []
  }
 ],
 "metadata": {
  "kernelspec": {
   "display_name": "Python 3",
   "language": "python",
   "name": "python3"
  },
  "language_info": {
   "codemirror_mode": {
    "name": "ipython",
    "version": 3
   },
   "file_extension": ".py",
   "mimetype": "text/x-python",
   "name": "python",
   "nbconvert_exporter": "python",
   "pygments_lexer": "ipython3",
   "version": "3.8.3"
  }
 },
 "nbformat": 4,
 "nbformat_minor": 4
}
