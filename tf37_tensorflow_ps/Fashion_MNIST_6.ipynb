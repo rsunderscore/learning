{
 "cells": [
  {
   "cell_type": "markdown",
   "metadata": {
    "colab_type": "text",
    "id": "bC7-g3yGJCdW"
   },
   "source": [
    "# Fashion-MNIST Neural Network\n",
    "\n",
    "This notebook implements a simple NN consisting of two dense layers, and uses this network to classify Fashion-MNIST images.\n",
    "\n",
    "These Fashion-MNIST images consist of clothing items from these ten classes. (*T-shirt/top, Trouser, Pullover, Dress, Coat, Sandal, Shirt, Sneaker, Bag, Ankle boot)*\n",
    "\n",
    "https://github.com/zalandoresearch/fashion-mnist\n",
    "built into keras"
   ]
  },
  {
   "cell_type": "markdown",
   "metadata": {
    "colab_type": "text",
    "id": "tL0ZtKVL6NN4"
   },
   "source": [
    "## Load correct version of TensorFlow\n",
    "\n",
    "Before we use TensorFlow we must load the correct version. We want version 2.x. To do this we execute the Colab commands below. Note that these commands ONLY WORK IN COLAB."
   ]
  },
  {
   "cell_type": "code",
   "execution_count": 2,
   "metadata": {
    "colab": {},
    "colab_type": "code",
    "id": "leSo_zfF6QXV"
   },
   "outputs": [],
   "source": [
    "# Install TensorFlow using Colab's tensorflow_version command\n",
    "try:\n",
    "  # %tensorflow_version only exists in Colab.\n",
    "  %tensorflow_version 2.x\n",
    "except Exception:\n",
    "  pass\n"
   ]
  },
  {
   "cell_type": "markdown",
   "metadata": {
    "colab_type": "text",
    "id": "Sy_y_E9_NFc8"
   },
   "source": [
    "## Import Libraries\n",
    "\n",
    "We import TensorFlow, Numpy, and Matplotlib libraries.  \n",
    "\n",
    "Numpy is a powerful n-dimensional array library that\n",
    "allows us to easily create and manipulate arrays of data, and more!\n",
    "\n",
    "Numpy also allows us to convert TensorFlow's native data structures,\n",
    "to Python native data types.\n",
    "\n",
    "Matplotlib is a graphics plot library"
   ]
  },
  {
   "cell_type": "code",
   "execution_count": 3,
   "metadata": {
    "colab": {},
    "colab_type": "code",
    "id": "RgDK_bJeJpua"
   },
   "outputs": [
    {
     "name": "stdout",
     "output_type": "stream",
     "text": [
      "2.1.0\n"
     ]
    }
   ],
   "source": [
    "# Import libraries\n",
    "import tensorflow as tf\n",
    "import numpy as np\n",
    "import matplotlib.pyplot as plt\n",
    "\n",
    "print(tf.__version__)"
   ]
  },
  {
   "cell_type": "markdown",
   "metadata": {
    "colab_type": "text",
    "id": "EMWdw_E_QPhY"
   },
   "source": [
    "## Problem Statement\n",
    "\n",
    "Using example data, train a model that will correctly predict the class of images of fashion items.\n",
    "\n"
   ]
  },
  {
   "cell_type": "markdown",
   "metadata": {
    "colab_type": "text",
    "id": "N49Xfo21RTr9"
   },
   "source": [
    "## Get Data\n",
    "\n",
    "### About the Fashion-MNIST dataset\n",
    "\n",
    "The Fashion-MNIST dataset is a widely available dataset.  It is documented at the https://github.com/zalandoresearch/fashion-mnist\n",
    "\n",
    "Each image in the dataset is 28 X 28 pixels.  The pixel values are a grayscale with values ranging from 0 to 255.\n",
    "\n",
    "Associated with each image is a number from 0 to 9 specifying the class of the fashion item in the image.  The values for the classes are:\n",
    "\n",
    "| Label | Description |\n",
    "|-------|-------------|\n",
    "| 0     | T-shirt/top |\n",
    "|   1    | Trouser    | \n",
    "|  2     |  Pullover  |\n",
    "|   3    |    Dress    |\n",
    "|    4   |    Coat      |\n",
    "|   5    | Sandal     |\n",
    "|   6    | Shirt         |\n",
    "|    7   |  Sneaker  |\n",
    "|   8    |  Bag          |\n",
    "|  9     | Ankle boot |\n",
    "\n",
    "There are 60,000 Training examples and 10,000 Testing examples. "
   ]
  },
  {
   "cell_type": "markdown",
   "metadata": {
    "colab_type": "text",
    "id": "qswhm4c7nMVl"
   },
   "source": [
    "We will need these class names later in the code.  So we create an list of names we can index by the class label number.  For example, class_names[2] = 'Pullover' and class_names[9] = 'Ankle boot'."
   ]
  },
  {
   "cell_type": "code",
   "execution_count": 4,
   "metadata": {
    "colab": {},
    "colab_type": "code",
    "id": "zK737-ABm7od"
   },
   "outputs": [],
   "source": [
    "# Define class names to display\n",
    "class_names = ['T-shirt/top', 'Trouser', 'Pullover', 'Dress', 'Coat',\n",
    "                  'Sandal', 'Shirt', 'Sneaker', 'Bag', 'Ankle boot']"
   ]
  },
  {
   "cell_type": "markdown",
   "metadata": {
    "colab_type": "text",
    "id": "YcAJeHCCm_TW"
   },
   "source": [
    "Fashion-MNIST is one of the datasets provided with Keras in Tensorflow.  Keras' Dataset library provides a load_data() method that will download the dataset of 60,000 Training images and their corresponding 60,000 labels, and 10,000 Test images and their corresponding 10,000 labels."
   ]
  },
  {
   "cell_type": "code",
   "execution_count": 6,
   "metadata": {},
   "outputs": [
    {
     "data": {
      "text/plain": [
       "['boston_housing',\n",
       " 'cifar10',\n",
       " 'cifar100',\n",
       " 'fashion_mnist',\n",
       " 'imdb',\n",
       " 'mnist',\n",
       " 'reuters']"
      ]
     },
     "execution_count": 6,
     "metadata": {},
     "output_type": "execute_result"
    }
   ],
   "source": [
    "[x for x in dir(tf.keras.datasets) if '_' != x[0] ]"
   ]
  },
  {
   "cell_type": "code",
   "execution_count": 7,
   "metadata": {
    "colab": {},
    "colab_type": "code",
    "id": "1MMs613GNLe4"
   },
   "outputs": [
    {
     "name": "stdout",
     "output_type": "stream",
     "text": [
      "Downloading data from https://storage.googleapis.com/tensorflow/tf-keras-datasets/train-labels-idx1-ubyte.gz\n",
      "32768/29515 [=================================] - 0s 0us/step\n",
      "Downloading data from https://storage.googleapis.com/tensorflow/tf-keras-datasets/train-images-idx3-ubyte.gz\n",
      "26427392/26421880 [==============================] - 1s 0us/step\n",
      "Downloading data from https://storage.googleapis.com/tensorflow/tf-keras-datasets/t10k-labels-idx1-ubyte.gz\n",
      "8192/5148 [===============================================] - 0s 0us/step\n",
      "Downloading data from https://storage.googleapis.com/tensorflow/tf-keras-datasets/t10k-images-idx3-ubyte.gz\n",
      "4423680/4422102 [==============================] - 0s 0us/step\n",
      "Wall time: 2.49 s\n"
     ]
    }
   ],
   "source": [
    "%%time\n",
    "fashion_mnist = tf.keras.datasets.fashion_mnist\n",
    "(train_images, train_labels), (test_images, test_labels) = fashion_mnist.load_data()\n"
   ]
  },
  {
   "cell_type": "markdown",
   "metadata": {
    "colab_type": "text",
    "id": "oAcxPIjJkLKZ"
   },
   "source": [
    "### Explore the data\n",
    "\n",
    "Let's look at our data."
   ]
  },
  {
   "cell_type": "code",
   "execution_count": 8,
   "metadata": {
    "colab": {},
    "colab_type": "code",
    "id": "Umx96CdYV-yz"
   },
   "outputs": [
    {
     "name": "stdout",
     "output_type": "stream",
     "text": [
      "Training data: (60000, 28, 28) (60000,)\n",
      "Test data: (10000, 28, 28) (10000,)\n"
     ]
    }
   ],
   "source": [
    "# Print the shape of the data tensors we loaded.  Should be:\n",
    "#   60,000 training 28X28 images and their labels, and 10,000 testing images and their labels\n",
    "print ('Training data:', train_images.shape, train_labels.shape)\n",
    "print ('Test data:', test_images.shape, test_labels.shape)"
   ]
  },
  {
   "cell_type": "markdown",
   "metadata": {
    "colab_type": "text",
    "id": "4Jq_XBs9Xa6C"
   },
   "source": [
    "### Inspect data\n",
    "Each image should be a 28 X 28 image and have a gray scale value of 0-255. Let's display an arbitrary image.\n",
    "\n",
    "You should see:  \n",
    "* A title that specifies the class of the image, whose description is shown on the table above.\n",
    "* The image \n",
    "* The 28 by 28 width and height pixel index \n",
    "* and on the right the grayscale legend associated with the pixel values."
   ]
  },
  {
   "cell_type": "code",
   "execution_count": 9,
   "metadata": {
    "colab": {},
    "colab_type": "code",
    "id": "ni0bRFhjWP1y"
   },
   "outputs": [],
   "source": [
    "def show_training_image(index):\n",
    "  img_label = str(train_labels[index]) + ' (' +  class_names[train_labels[index]] + ')'\n",
    "  plt.figure()\n",
    "  plt.title('Image Label ' + img_label) \n",
    "  plt.imshow(train_images[index], cmap='gray')  # data is grayscale, but displays in color without cmap='gray'\n",
    "  plt.colorbar()\n",
    "  plt.show()\n"
   ]
  },
  {
   "cell_type": "code",
   "execution_count": 10,
   "metadata": {
    "colab": {},
    "colab_type": "code",
    "id": "gJa1Wq_4acop"
   },
   "outputs": [
    {
     "data": {
      "image/png": "[encoded data removed]",
      "text/plain": [
       "<Figure size 432x288 with 2 Axes>"
      ]
     },
     "metadata": {
      "needs_background": "light"
     },
     "output_type": "display_data"
    }
   ],
   "source": [
    "img_index = 100\n",
    "show_training_image(img_index)"
   ]
  },
  {
   "cell_type": "markdown",
   "metadata": {
    "colab_type": "text",
    "id": "Db_TW6wccWHw"
   },
   "source": [
    "## Prepare Data\n",
    "\n",
    "As usual we need to do some pre-processing of the data.  Here we want to scale the pixels values from 0 to 255 to 0.0 to 1.0.  We scale both the training and testing image values."
   ]
  },
  {
   "cell_type": "code",
   "execution_count": 11,
   "metadata": {
    "colab": {},
    "colab_type": "code",
    "id": "o0vDE9tBYUWx"
   },
   "outputs": [
    {
     "data": {
      "image/png": "[encoded data removed]",
      "text/plain": [
       "<Figure size 432x288 with 2 Axes>"
      ]
     },
     "metadata": {
      "needs_background": "light"
     },
     "output_type": "display_data"
    }
   ],
   "source": [
    "# scale training and testing image values\n",
    "train_images = train_images / 255.0\n",
    "test_images = test_images / 255.0\n",
    "\n",
    "# Print the image again and notice the values now range from 0 to 1.\n",
    "#   And the image looks the same, just on a different scale. \n",
    "show_training_image(img_index)"
   ]
  },
  {
   "cell_type": "markdown",
   "metadata": {
    "colab_type": "text",
    "id": "ZAAj8oXkeBsY"
   },
   "source": [
    "## Create Model\n",
    "\n",
    "We can now create the model we are going to train with the data.\n",
    "\n",
    "This will be a simple model that:\n",
    "* Flattens the 28 X 28 pixel values into a long stream of 28 by 28 = 784 pixel values - Note this is a Keras layer but is not a neural network layer. Notice the input_shape parameter contains only the shape of a single data element.  There are n data elements each with this same shape. \n",
    "* Passes each pixel value as the input to each of the 128 neurons.  \n",
    "* And finally passes values to the last layer that contains 10 neurons, one for each of the ten classes (t-shirt, pullover, etc).  Each of these 10 neurons uses the Softmax activation function to determine the probability that the image is each class.  The final output from the model is a vector of probabilities that the image is of each class.  Such as :\n",
    "[0.01, 0.05, 0.04, 0.06, 0.50, 0.20, 0.04, 0.00, 0.03, 0.07].  This example vector adds up to 1.0 and shows the probability that the image is class 0 (T-shirt/top) is 0.01 (1%), class 1 (Trousers) is 0.05 (5%), class 2 (Pullover) is 0.04 (4%), ....\n"
   ]
  },
  {
   "cell_type": "code",
   "execution_count": 12,
   "metadata": {
    "colab": {},
    "colab_type": "code",
    "id": "0N2R893MdSZn"
   },
   "outputs": [],
   "source": [
    "\n",
    "model = tf.keras.models.Sequential()      # Create a new sequential model\n",
    "model.add(tf.keras.layers.Flatten(input_shape=(28,28)))    # keras processing layer - no neurons\n",
    "model.add(tf.keras.layers.Dense(128, activation='relu', name='dense-128-relu'))   # 128 neurons connected to pixels\n",
    "model.add(tf.keras.layers.Dense(10, activation='softmax', name='dense-10-softmax')) # determines probability of each of the 10 classes\n",
    "#using softmax to calc probabilities for diff  classes"
   ]
  },
  {
   "cell_type": "markdown",
   "metadata": {
    "colab_type": "text",
    "id": "6nu2185LTBq8"
   },
   "source": [
    "### Structure of the model\n",
    "\n",
    "To make it easy for us to visualize the model, Keras models have a summary method.  When we call it we see our model structure.  \n",
    "\n",
    "For completeness we also show the shape of the input data.\n"
   ]
  },
  {
   "cell_type": "code",
   "execution_count": 13,
   "metadata": {
    "colab": {},
    "colab_type": "code",
    "id": "0gXXuAqQURdH"
   },
   "outputs": [
    {
     "name": "stdout",
     "output_type": "stream",
     "text": [
      "Input Shape: (60000, 28, 28)\n",
      "\n",
      "Model: \"sequential\"\n",
      "_________________________________________________________________\n",
      "Layer (type)                 Output Shape              Param #   \n",
      "=================================================================\n",
      "flatten (Flatten)            (None, 784)               0         \n",
      "_________________________________________________________________\n",
      "dense-128-relu (Dense)       (None, 128)               100480    \n",
      "_________________________________________________________________\n",
      "dense-10-softmax (Dense)     (None, 10)                1290      \n",
      "=================================================================\n",
      "Total params: 101,770\n",
      "Trainable params: 101,770\n",
      "Non-trainable params: 0\n",
      "_________________________________________________________________\n",
      "None\n"
     ]
    }
   ],
   "source": [
    "print('Input Shape:', train_images.shape)\n",
    "print()\n",
    "print(model.summary())"
   ]
  },
  {
   "cell_type": "markdown",
   "metadata": {
    "colab_type": "text",
    "id": "BJTmzxCJ3Bpi"
   },
   "source": [
    "### Compile the model\n",
    "\n",
    "Before we can train the model we need to specify how the model will learn from the training data.  To do this we specify:\n",
    "*  loss - how we measure loss (error).  We will use sparse_categorical_crossentropy, which determines the highest predicted class and calculates loss based on how often this is the correct class.\n",
    "*     optimizer - how the model will update the model's weights to reduce the loss.  We use the Adam variant of Mini-batch Gradient Descent.\n",
    "* metrics  - the metrics used for evaluation of training and test.  In this case we use accuracy, that is how often the images are correctly classified.  Higher is better. (1.00 would be perfect (100%), 0,75 = 75%, 0.25 = 25%, ...) \n"
   ]
  },
  {
   "cell_type": "code",
   "execution_count": 14,
   "metadata": {
    "colab": {},
    "colab_type": "code",
    "id": "TW9pZ8kw2Nid"
   },
   "outputs": [
    {
     "name": "stdout",
     "output_type": "stream",
     "text": [
      "Wall time: 43.9 ms\n"
     ]
    }
   ],
   "source": [
    "%%time\n",
    "model.compile(optimizer='adam',\n",
    "              loss='sparse_categorical_crossentropy',\n",
    "              metrics=['accuracy'])\n"
   ]
  },
  {
   "cell_type": "markdown",
   "metadata": {
    "colab_type": "text",
    "id": "T7wyz8jh6ZA6"
   },
   "source": [
    "## Train the Model\n",
    "Now that we have our data and model, and have specified how the model will learn from the data we can train it."
   ]
  },
  {
   "cell_type": "code",
   "execution_count": 15,
   "metadata": {
    "colab": {},
    "colab_type": "code",
    "id": "osxdZq5y6qF1"
   },
   "outputs": [
    {
     "name": "stdout",
     "output_type": "stream",
     "text": [
      "Train on 60000 samples\n",
      "Epoch 1/40\n",
      "60000/60000 [==============================] - 3s 44us/sample - loss: 0.4967 - accuracy: 0.8255\n",
      "Epoch 2/40\n",
      "60000/60000 [==============================] - 2s 37us/sample - loss: 0.3736 - accuracy: 0.8650\n",
      "Epoch 3/40\n",
      "60000/60000 [==============================] - 2s 39us/sample - loss: 0.3335 - accuracy: 0.8779\n",
      "Epoch 4/40\n",
      "60000/60000 [==============================] - 2s 38us/sample - loss: 0.3137 - accuracy: 0.8845\n",
      "Epoch 5/40\n",
      "60000/60000 [==============================] - 2s 39us/sample - loss: 0.2935 - accuracy: 0.8913\n",
      "Epoch 6/40\n",
      "60000/60000 [==============================] - 2s 37us/sample - loss: 0.2787 - accuracy: 0.8963\n",
      "Epoch 7/40\n",
      "60000/60000 [==============================] - 2s 39us/sample - loss: 0.2679 - accuracy: 0.9007\n",
      "Epoch 8/40\n",
      "60000/60000 [==============================] - 2s 40us/sample - loss: 0.2561 - accuracy: 0.9054\n",
      "Epoch 9/40\n",
      "60000/60000 [==============================] - 2s 37us/sample - loss: 0.2469 - accuracy: 0.9087\n",
      "Epoch 10/40\n",
      "60000/60000 [==============================] - 2s 37us/sample - loss: 0.2394 - accuracy: 0.9099\n",
      "Epoch 11/40\n",
      "60000/60000 [==============================] - 2s 36us/sample - loss: 0.2307 - accuracy: 0.9147\n",
      "Epoch 12/40\n",
      "60000/60000 [==============================] - 2s 36us/sample - loss: 0.2230 - accuracy: 0.9166\n",
      "Epoch 13/40\n",
      "60000/60000 [==============================] - 2s 36us/sample - loss: 0.2151 - accuracy: 0.9182\n",
      "Epoch 14/40\n",
      "60000/60000 [==============================] - 2s 37us/sample - loss: 0.2097 - accuracy: 0.9202\n",
      "Epoch 15/40\n",
      "60000/60000 [==============================] - 2s 36us/sample - loss: 0.2046 - accuracy: 0.9227\n",
      "Epoch 16/40\n",
      "60000/60000 [==============================] - 2s 36us/sample - loss: 0.1974 - accuracy: 0.9261\n",
      "Epoch 17/40\n",
      "60000/60000 [==============================] - 2s 36us/sample - loss: 0.1947 - accuracy: 0.9264\n",
      "Epoch 18/40\n",
      "60000/60000 [==============================] - 2s 36us/sample - loss: 0.1893 - accuracy: 0.9290\n",
      "Epoch 19/40\n",
      "60000/60000 [==============================] - 2s 36us/sample - loss: 0.1829 - accuracy: 0.9310\n",
      "Epoch 20/40\n",
      "60000/60000 [==============================] - 2s 36us/sample - loss: 0.1787 - accuracy: 0.9331\n",
      "Epoch 21/40\n",
      "60000/60000 [==============================] - 2s 36us/sample - loss: 0.1739 - accuracy: 0.9347\n",
      "Epoch 22/40\n",
      "60000/60000 [==============================] - 2s 36us/sample - loss: 0.1707 - accuracy: 0.9357\n",
      "Epoch 23/40\n",
      "60000/60000 [==============================] - 2s 37us/sample - loss: 0.1649 - accuracy: 0.9380\n",
      "Epoch 24/40\n",
      "60000/60000 [==============================] - 2s 36us/sample - loss: 0.1634 - accuracy: 0.9376\n",
      "Epoch 25/40\n",
      "60000/60000 [==============================] - 2s 38us/sample - loss: 0.1594 - accuracy: 0.9398\n",
      "Epoch 26/40\n",
      "60000/60000 [==============================] - 2s 37us/sample - loss: 0.1555 - accuracy: 0.9409\n",
      "Epoch 27/40\n",
      "60000/60000 [==============================] - 2s 39us/sample - loss: 0.1528 - accuracy: 0.9418\n",
      "Epoch 28/40\n",
      "60000/60000 [==============================] - 2s 41us/sample - loss: 0.1476 - accuracy: 0.9440\n",
      "Epoch 29/40\n",
      "60000/60000 [==============================] - 2s 36us/sample - loss: 0.1440 - accuracy: 0.9448\n",
      "Epoch 30/40\n",
      "60000/60000 [==============================] - 2s 36us/sample - loss: 0.1405 - accuracy: 0.9469\n",
      "Epoch 31/40\n",
      "60000/60000 [==============================] - 2s 36us/sample - loss: 0.1381 - accuracy: 0.9482\n",
      "Epoch 32/40\n",
      "60000/60000 [==============================] - 2s 37us/sample - loss: 0.1368 - accuracy: 0.9480\n",
      "Epoch 33/40\n",
      "60000/60000 [==============================] - 2s 36us/sample - loss: 0.1331 - accuracy: 0.9491\n",
      "Epoch 34/40\n",
      "60000/60000 [==============================] - 2s 37us/sample - loss: 0.1301 - accuracy: 0.9502\n",
      "Epoch 35/40\n",
      "60000/60000 [==============================] - 2s 37us/sample - loss: 0.1289 - accuracy: 0.9513\n",
      "Epoch 36/40\n",
      "60000/60000 [==============================] - 2s 39us/sample - loss: 0.1251 - accuracy: 0.9523\n",
      "Epoch 37/40\n",
      "60000/60000 [==============================] - 2s 37us/sample - loss: 0.1240 - accuracy: 0.9529\n",
      "Epoch 38/40\n",
      "60000/60000 [==============================] - 2s 37us/sample - loss: 0.1221 - accuracy: 0.9542\n",
      "Epoch 39/40\n",
      "60000/60000 [==============================] - 2s 37us/sample - loss: 0.1190 - accuracy: 0.9552\n",
      "Epoch 40/40\n",
      "60000/60000 [==============================] - 2s 40us/sample - loss: 0.1164 - accuracy: 0.9557\n",
      "Wall time: 1min 29s\n"
     ]
    }
   ],
   "source": [
    "%%time\n",
    "#90 seconds\n",
    "train_hist = model.fit(train_images, train_labels, epochs=40)"
   ]
  },
  {
   "cell_type": "markdown",
   "metadata": {
    "colab_type": "text",
    "id": "R2TLdEfR9tus"
   },
   "source": [
    "Plot the training to makes sure it is converging."
   ]
  },
  {
   "cell_type": "code",
   "execution_count": 16,
   "metadata": {
    "colab": {},
    "colab_type": "code",
    "id": "5hCztJ2o90DS"
   },
   "outputs": [],
   "source": [
    "def plot_acc(hist):\n",
    "  # plot the accuracy\n",
    "  plt.title('Accuracy History')\n",
    "  plt.plot(hist.history['accuracy'])\n",
    "  plt.ylabel('Accuracy')\n",
    "  plt.xlabel('epoch')\n",
    "  plt.show()\n",
    "  \n",
    "def plot_loss(hist):\n",
    "  # plot the loss\n",
    "  plt.title('Loss History')\n",
    "  plt.plot(hist.history['loss'])\n",
    "  plt.ylabel('loss')\n",
    "  plt.xlabel('epoch')\n",
    "  plt.show()\n",
    "\n"
   ]
  },
  {
   "cell_type": "code",
   "execution_count": 17,
   "metadata": {
    "colab": {},
    "colab_type": "code",
    "id": "Zljp5aHqv514"
   },
   "outputs": [
    {
     "data": {
      "image/png": "[encoded data removed]",
      "text/plain": [
       "<Figure size 432x288 with 1 Axes>"
      ]
     },
     "metadata": {
      "needs_background": "light"
     },
     "output_type": "display_data"
    },
    {
     "data": {
      "image/png": "[encoded data removed]",
      "text/plain": [
       "<Figure size 432x288 with 1 Axes>"
      ]
     },
     "metadata": {
      "needs_background": "light"
     },
     "output_type": "display_data"
    }
   ],
   "source": [
    "plot_loss(train_hist)\n",
    "plot_acc(train_hist)"
   ]
  },
  {
   "cell_type": "markdown",
   "metadata": {
    "colab_type": "text",
    "id": "0WOXQpc99Ttj"
   },
   "source": [
    "## Evaluate Trained Model\n",
    "\n",
    "Once we have the model trained, we need to see how it will perform on data that it was not trained on, that is, test data. \n",
    "\n",
    "We do this with Keras' evaluation function and the test dataset we retrieved earlier.\n"
   ]
  },
  {
   "cell_type": "code",
   "execution_count": 18,
   "metadata": {
    "colab": {},
    "colab_type": "code",
    "id": "9yEEjOV69uay"
   },
   "outputs": [
    {
     "name": "stdout",
     "output_type": "stream",
     "text": [
      "max training accuracy: 0.95568335   test accuracy: 0.8884\n"
     ]
    }
   ],
   "source": [
    "test_loss, test_acc = model.evaluate(test_images, test_labels, verbose=0)\n",
    "\n",
    "print('max training accuracy:', max(train_hist.history['accuracy']), '  test accuracy:', test_acc)"
   ]
  },
  {
   "cell_type": "markdown",
   "metadata": {
    "colab_type": "text",
    "id": "nAB01AmFAYw6"
   },
   "source": [
    "## Training Results\n",
    "\n",
    "The model has **about 96% accuracy** on the training data.  And **only 88% accuracy** on testing data on which it was not trained. This is a classic sign that the model overfits the training data.  \n",
    "\n",
    "We need to determine how we can reduce this overfitting and get **good accuracy on both training and test data!**\n",
    "\n",
    "\n"
   ]
  },
  {
   "cell_type": "markdown",
   "metadata": {
    "colab_type": "text",
    "id": "6olDUcpiVkxe"
   },
   "source": [
    "# Monitoring and Improving our Trained Model’s Performance \n",
    "\n",
    "In this section, we want to make changes to improve the performance of our trained model.  By improved performance we mean having the model not overfit the training data and perform poorly on the testing data.\n",
    "\n",
    "There are serveral common techniques to fix this problem.  These include:\n",
    "\n",
    "1.   Reducing Model Complexity - removing neurons or layers\n",
    "2.   Dropout - Randomly removing the contributions from some neurons\n",
    "3.   Early Stopping - Terminating training as early as possible\n",
    "\n",
    "We will try these below.\n",
    "\n"
   ]
  },
  {
   "cell_type": "markdown",
   "metadata": {
    "colab_type": "text",
    "id": "gxM0Nan9ZjmK"
   },
   "source": [
    "## Monitoring performance with TensorBoard\n",
    "\n",
    "We want to ensure we are getting good data to evaluate the performance of our changes.  Fortunately the TensorFlow family include the tool **TensorBoard**.  \n",
    "\n",
    "TensorBoard provides us various ways to monitor the performance of our models including:\n",
    "\n",
    "*    Visualizing metrics such as loss and accuracy\n",
    "*    Comparision of training and evaluation metrics\n",
    "*    Visualizing the model graph (ops and layers)\n",
    "*    Viewing histograms of weights, biases, or other tensors as they change over time\n"
   ]
  },
  {
   "cell_type": "markdown",
   "metadata": {
    "colab_type": "text",
    "id": "rdydWnoYe7gy"
   },
   "source": [
    "TensorBoard can be run inside a Colab notebook, or if you are running your code directly in Python you can invoke TensorBoard from the command line."
   ]
  },
  {
   "cell_type": "code",
   "execution_count": 19,
   "metadata": {
    "colab": {},
    "colab_type": "code",
    "id": "3d1xtI7LjJyf"
   },
   "outputs": [],
   "source": [
    "import datetime"
   ]
  },
  {
   "cell_type": "code",
   "execution_count": 21,
   "metadata": {
    "colab": {},
    "colab_type": "code",
    "id": "m6dqMFnCbkC_"
   },
   "outputs": [],
   "source": [
    "# works only in colab - Load the tensorboard extension\n",
    "#% reload_ext tensorboard"
   ]
  },
  {
   "cell_type": "code",
   "execution_count": 36,
   "metadata": {},
   "outputs": [
    {
     "data": {
      "text/plain": [
       "['logs']"
      ]
     },
     "execution_count": 36,
     "metadata": {},
     "output_type": "execute_result"
    }
   ],
   "source": [
    "from glob import glob\n",
    "glob(\"*log*\")"
   ]
  },
  {
   "cell_type": "code",
   "execution_count": 35,
   "metadata": {
    "colab": {},
    "colab_type": "code",
    "id": "vaXgSi2yi550"
   },
   "outputs": [
    {
     "name": "stderr",
     "output_type": "stream",
     "text": [
      "The system cannot find the file specified.\n"
     ]
    }
   ],
   "source": [
    "# Clear any logs from previous runs\n",
    "#!rm -rf ./logs/ #only works on unix\n",
    "#recursive and don't prompt\n",
    "\n",
    "!rmdir /S /q \"logs\" \n",
    "#dels directory itself so remake it\n",
    "!mkdir logs"
   ]
  },
  {
   "cell_type": "code",
   "execution_count": 37,
   "metadata": {
    "colab": {},
    "colab_type": "code",
    "id": "08RQKiAXi_Yz"
   },
   "outputs": [],
   "source": [
    "# Start with a fresh model\n",
    "model = tf.keras.models.Sequential()      # Create a new sequential model\n",
    "model.add(tf.keras.layers.Flatten(input_shape=(28,28)))    # keras processing layer - no neurons\n",
    "model.add(tf.keras.layers.Dense(128, activation='relu', name='dense-128-relu'))   # 128 neurons connected to pixels\n",
    "model.add(tf.keras.layers.Dense(10, activation='softmax', name='dense-10-softmax')) # determine probability of each of the 10 classes"
   ]
  },
  {
   "cell_type": "code",
   "execution_count": 40,
   "metadata": {
    "colab": {},
    "colab_type": "code",
    "id": "Ig5AjqzkjEwM",
    "scrolled": true
   },
   "outputs": [
    {
     "name": "stdout",
     "output_type": "stream",
     "text": [
      "Train on 60000 samples, validate on 10000 samples\n",
      "Epoch 1/40\n",
      "60000/60000 [==============================] - 3s 52us/sample - loss: 0.4970 - accuracy: 0.8247 - val_loss: 0.4181 - val_accuracy: 0.8519\n",
      "Epoch 2/40\n",
      "60000/60000 [==============================] - 3s 50us/sample - loss: 0.3779 - accuracy: 0.8638 - val_loss: 0.4058 - val_accuracy: 0.8497\n",
      "Epoch 3/40\n",
      "60000/60000 [==============================] - 3s 48us/sample - loss: 0.3404 - accuracy: 0.8766 - val_loss: 0.3894 - val_accuracy: 0.8582\n",
      "Epoch 4/40\n",
      "60000/60000 [==============================] - 3s 46us/sample - loss: 0.3149 - accuracy: 0.8836 - val_loss: 0.3622 - val_accuracy: 0.8682\n",
      "Epoch 5/40\n",
      "60000/60000 [==============================] - 3s 43us/sample - loss: 0.2961 - accuracy: 0.8914 - val_loss: 0.3546 - val_accuracy: 0.8748\n",
      "Epoch 6/40\n",
      "60000/60000 [==============================] - 3s 44us/sample - loss: 0.2838 - accuracy: 0.8952 - val_loss: 0.3337 - val_accuracy: 0.8760\n",
      "Epoch 7/40\n",
      "60000/60000 [==============================] - 3s 46us/sample - loss: 0.2691 - accuracy: 0.8996 - val_loss: 0.3376 - val_accuracy: 0.8821\n",
      "Epoch 8/40\n",
      "60000/60000 [==============================] - 3s 46us/sample - loss: 0.2592 - accuracy: 0.9038 - val_loss: 0.3345 - val_accuracy: 0.8821\n",
      "Epoch 9/40\n",
      "60000/60000 [==============================] - 3s 47us/sample - loss: 0.2489 - accuracy: 0.9064 - val_loss: 0.3419 - val_accuracy: 0.8755\n",
      "Epoch 10/40\n",
      "60000/60000 [==============================] - 3s 48us/sample - loss: 0.2408 - accuracy: 0.9099 - val_loss: 0.3869 - val_accuracy: 0.8701\n",
      "Epoch 11/40\n",
      "60000/60000 [==============================] - 3s 48us/sample - loss: 0.2314 - accuracy: 0.9137 - val_loss: 0.3346 - val_accuracy: 0.8824\n",
      "Epoch 12/40\n",
      "60000/60000 [==============================] - 3s 45us/sample - loss: 0.2238 - accuracy: 0.9156 - val_loss: 0.3696 - val_accuracy: 0.8786\n",
      "Epoch 13/40\n",
      "60000/60000 [==============================] - 3s 44us/sample - loss: 0.2194 - accuracy: 0.9178 - val_loss: 0.3371 - val_accuracy: 0.8855\n",
      "Epoch 14/40\n",
      "60000/60000 [==============================] - 3s 48us/sample - loss: 0.2100 - accuracy: 0.9207 - val_loss: 0.3389 - val_accuracy: 0.8897\n",
      "Epoch 15/40\n",
      "60000/60000 [==============================] - 3s 47us/sample - loss: 0.2057 - accuracy: 0.9217 - val_loss: 0.3381 - val_accuracy: 0.8866\n",
      "Epoch 16/40\n",
      "60000/60000 [==============================] - 3s 46us/sample - loss: 0.1988 - accuracy: 0.9259 - val_loss: 0.3547 - val_accuracy: 0.8855\n",
      "Epoch 17/40\n",
      "60000/60000 [==============================] - 3s 45us/sample - loss: 0.1936 - accuracy: 0.9276 - val_loss: 0.3399 - val_accuracy: 0.8896\n",
      "Epoch 18/40\n",
      "60000/60000 [==============================] - 3s 46us/sample - loss: 0.1889 - accuracy: 0.9295 - val_loss: 0.3561 - val_accuracy: 0.8869\n",
      "Epoch 19/40\n",
      "60000/60000 [==============================] - 3s 46us/sample - loss: 0.1862 - accuracy: 0.9300 - val_loss: 0.3583 - val_accuracy: 0.8892\n",
      "Epoch 20/40\n",
      "60000/60000 [==============================] - 3s 45us/sample - loss: 0.1801 - accuracy: 0.9327 - val_loss: 0.3630 - val_accuracy: 0.8881\n",
      "Epoch 21/40\n",
      "60000/60000 [==============================] - 3s 46us/sample - loss: 0.1752 - accuracy: 0.9348 - val_loss: 0.3638 - val_accuracy: 0.8868\n",
      "Epoch 22/40\n",
      "60000/60000 [==============================] - 3s 46us/sample - loss: 0.1706 - accuracy: 0.9358 - val_loss: 0.3893 - val_accuracy: 0.8860\n",
      "Epoch 23/40\n",
      "60000/60000 [==============================] - 3s 45us/sample - loss: 0.1668 - accuracy: 0.9370 - val_loss: 0.3614 - val_accuracy: 0.8865\n",
      "Epoch 24/40\n",
      "60000/60000 [==============================] - 3s 46us/sample - loss: 0.1631 - accuracy: 0.9384 - val_loss: 0.3825 - val_accuracy: 0.8852\n",
      "Epoch 25/40\n",
      "60000/60000 [==============================] - 3s 47us/sample - loss: 0.1581 - accuracy: 0.9407 - val_loss: 0.3874 - val_accuracy: 0.8833\n",
      "Epoch 26/40\n",
      "60000/60000 [==============================] - 3s 47us/sample - loss: 0.1541 - accuracy: 0.9409 - val_loss: 0.4021 - val_accuracy: 0.8809\n",
      "Epoch 27/40\n",
      "60000/60000 [==============================] - 3s 42us/sample - loss: 0.1520 - accuracy: 0.9428 - val_loss: 0.3815 - val_accuracy: 0.8861\n",
      "Epoch 28/40\n",
      "60000/60000 [==============================] - 3s 47us/sample - loss: 0.1478 - accuracy: 0.9445 - val_loss: 0.4165 - val_accuracy: 0.8789\n",
      "Epoch 29/40\n",
      "60000/60000 [==============================] - 3s 48us/sample - loss: 0.1467 - accuracy: 0.9436 - val_loss: 0.3954 - val_accuracy: 0.8918\n",
      "Epoch 30/40\n",
      "60000/60000 [==============================] - 3s 47us/sample - loss: 0.1417 - accuracy: 0.9460 - val_loss: 0.3868 - val_accuracy: 0.8902\n",
      "Epoch 31/40\n",
      "60000/60000 [==============================] - 3s 45us/sample - loss: 0.1394 - accuracy: 0.9470 - val_loss: 0.3965 - val_accuracy: 0.8887\n",
      "Epoch 32/40\n",
      "60000/60000 [==============================] - 3s 45us/sample - loss: 0.1353 - accuracy: 0.9492 - val_loss: 0.4136 - val_accuracy: 0.8889\n",
      "Epoch 33/40\n",
      "60000/60000 [==============================] - 3s 47us/sample - loss: 0.1336 - accuracy: 0.9500 - val_loss: 0.4115 - val_accuracy: 0.8864\n",
      "Epoch 34/40\n",
      "60000/60000 [==============================] - 3s 45us/sample - loss: 0.1319 - accuracy: 0.9496 - val_loss: 0.4301 - val_accuracy: 0.8858\n",
      "Epoch 35/40\n",
      "60000/60000 [==============================] - 3s 44us/sample - loss: 0.1288 - accuracy: 0.9517 - val_loss: 0.4137 - val_accuracy: 0.8904\n",
      "Epoch 36/40\n",
      "60000/60000 [==============================] - 3s 49us/sample - loss: 0.1255 - accuracy: 0.9529 - val_loss: 0.4233 - val_accuracy: 0.8903\n",
      "Epoch 37/40\n",
      "60000/60000 [==============================] - 3s 49us/sample - loss: 0.1255 - accuracy: 0.9527 - val_loss: 0.4399 - val_accuracy: 0.8856\n",
      "Epoch 38/40\n",
      "60000/60000 [==============================] - 3s 49us/sample - loss: 0.1215 - accuracy: 0.9541 - val_loss: 0.4722 - val_accuracy: 0.8834\n",
      "Epoch 39/40\n",
      "60000/60000 [==============================] - 3s 49us/sample - loss: 0.1207 - accuracy: 0.9546 - val_loss: 0.4226 - val_accuracy: 0.8930\n",
      "Epoch 40/40\n",
      "60000/60000 [==============================] - 3s 47us/sample - loss: 0.1163 - accuracy: 0.9565 - val_loss: 0.4542 - val_accuracy: 0.8858\n"
     ]
    }
   ],
   "source": [
    "%%time\n",
    "model.compile(optimizer='adam',\n",
    "              loss='sparse_categorical_crossentropy',\n",
    "              metrics=['accuracy'])\n",
    "\n",
    "#adjusted for windows\n",
    "log_dir='logs\\\\fit\\\\' + datetime.datetime.now().strftime('%Y%m%d-%H%M%S')\n",
    "\n",
    "#only works on colab?\n",
    "tensorboard_callback = tf.keras.callbacks.TensorBoard(log_dir=log_dir, histogram_freq=1)\n",
    "\n",
    "# We add to the fit method the validation/test data.  This will cause the training model \n",
    "# to evaluate itself on the validation/test data on each epoch.  This provides per \n",
    "# epoch data points TensorBoard can plot so we can see the trend.\n",
    "train_hist = model.fit(train_images, train_labels, epochs=40,\n",
    "                       validation_data=(test_images, test_labels), \n",
    "                        callbacks=[tensorboard_callback])\n",
    "\n"
   ]
  },
  {
   "cell_type": "markdown",
   "metadata": {},
   "source": [
    "cli: tensorboard --logdir logs\\fit\n",
    "url http://localhost:6006/ "
   ]
  },
  {
   "cell_type": "code",
   "execution_count": 42,
   "metadata": {
    "colab": {},
    "colab_type": "code",
    "id": "wx9ATGksjWyV"
   },
   "outputs": [
    {
     "name": "stdout",
     "output_type": "stream",
     "text": [
      "^C\n",
      "Wall time: 2min 4s\n"
     ]
    }
   ],
   "source": [
    "%%time\n",
    "#may have 'delay'\n",
    "#!kill 1234   # sometime TensorBoard does not show all data.  If it shows reusing previous instance use kill command listed\n",
    "\n",
    "# %tensorboard --logdir logs/fit colab version\n",
    "#can't run like this b/c it never returns until ctrl+C (ctrl+break) pressed\n",
    "#!tensorboard --logdir logs\\fit"
   ]
  },
  {
   "cell_type": "markdown",
   "metadata": {
    "colab_type": "text",
    "id": "v05icTF1mDfB"
   },
   "source": [
    "## Fixing Fashion MNIST "
   ]
  },
  {
   "cell_type": "markdown",
   "metadata": {
    "colab_type": "text",
    "id": "E6zDDPjrFm17"
   },
   "source": [
    "### Reducing Model Complexity\n",
    "\n",
    "In a large model we can consider reducing the number of hidden layers.  But our model only has one hidden layer and we need it.  So the only thing to do is reduce the number of neurons in the hidden layer.  Everthing else is the same \n",
    "as above."
   ]
  },
  {
   "cell_type": "code",
   "execution_count": 0,
   "metadata": {
    "colab": {},
    "colab_type": "code",
    "id": "I1UvcFL9Qmps"
   },
   "outputs": [],
   "source": [
    "# Load the tensorboard extension\n",
    "#% reload_ext tensorboard"
   ]
  },
  {
   "cell_type": "code",
   "execution_count": 44,
   "metadata": {
    "colab": {},
    "colab_type": "code",
    "id": "UNwSQKJyQmp-"
   },
   "outputs": [
    {
     "name": "stdout",
     "output_type": "stream",
     "text": [
      "D:\\Users\\Rob\\Documents\\python\\tf37_tensorflow_ps\\logs\\fit\\20201124-195222\\train\\events.out.tfevents.1606265542.REDONE.7040.227152.v2"
     ]
    },
    {
     "name": "stderr",
     "output_type": "stream",
     "text": [
      "Access is denied.\n",
      "Access is denied.\n"
     ]
    },
    {
     "name": "stdout",
     "output_type": "stream",
     "text": [
      "\n",
      "D:\\Users\\Rob\\Documents\\python\\tf37_tensorflow_ps\\logs\\fit\\20201124-195222\\validation\\events.out.tfevents.1606265545.REDONE.7040.241775.v2\n"
     ]
    },
    {
     "name": "stderr",
     "output_type": "stream",
     "text": [
      "logs\\fit\\202011~1\\train\\events.out.tfevents.1606265542.REDONE.7040.227152.v2 - Access is denied.\n",
      "logs\\fit\\202011~1\\VALIDA~1\\events.out.tfevents.1606265545.REDONE.7040.241775.v2 - Access is denied.\n",
      "A subdirectory or file logs already exists.\n"
     ]
    }
   ],
   "source": [
    "# Clear any logs from previous runs\n",
    "#!rm -rf ./logs/ \n",
    "!del /S /Q \"logs\"\n",
    "!rmdir /S /q \"logs\" \n",
    "#dels directory itself so remake it\n",
    "!mkdir logs\n",
    "#permission errors when trying to clean up the files"
   ]
  },
  {
   "cell_type": "code",
   "execution_count": 45,
   "metadata": {
    "colab": {},
    "colab_type": "code",
    "id": "CCUSydw2QmqJ"
   },
   "outputs": [],
   "source": [
    "\n",
    "model = tf.keras.models.Sequential()      # Create a new sequential model\n",
    "model.add(tf.keras.layers.Flatten(input_shape=(28,28)))    # keras processing layer - no neurons\n",
    "model.add(tf.keras.layers.Dense(64, activation='relu', name='dense-64-relu'))   # 64 neurons connected to pixels\n",
    "#model.add(tf.keras.layers.Dense(128, activation='relu', name='dense-128-relu'))   # 128 neurons connected to pixels\n",
    "model.add(tf.keras.layers.Dense(10, activation='softmax', name='dense-10-softmax')) # determine probability of each of the 10 classes"
   ]
  },
  {
   "cell_type": "code",
   "execution_count": 47,
   "metadata": {
    "colab": {},
    "colab_type": "code",
    "id": "n8yt3SeaQmqN"
   },
   "outputs": [
    {
     "name": "stdout",
     "output_type": "stream",
     "text": [
      "Train on 60000 samples, validate on 10000 samples\n",
      "Epoch 1/40\n",
      "60000/60000 [==============================] - 3s 49us/sample - loss: 0.5193 - accuracy: 0.8210 - val_loss: 0.4677 - val_accuracy: 0.8375\n",
      "Epoch 2/40\n",
      "60000/60000 [==============================] - 3s 45us/sample - loss: 0.3905 - accuracy: 0.8619 - val_loss: 0.4120 - val_accuracy: 0.8543\n",
      "Epoch 3/40\n",
      "60000/60000 [==============================] - 3s 44us/sample - loss: 0.3546 - accuracy: 0.8729 - val_loss: 0.3959 - val_accuracy: 0.8596\n",
      "Epoch 4/40\n",
      "60000/60000 [==============================] - 3s 42us/sample - loss: 0.3298 - accuracy: 0.8806 - val_loss: 0.3868 - val_accuracy: 0.8649\n",
      "Epoch 5/40\n",
      "60000/60000 [==============================] - 3s 44us/sample - loss: 0.3143 - accuracy: 0.8852 - val_loss: 0.3671 - val_accuracy: 0.8698\n",
      "Epoch 6/40\n",
      "60000/60000 [==============================] - 2s 40us/sample - loss: 0.3004 - accuracy: 0.8913 - val_loss: 0.3640 - val_accuracy: 0.8706\n",
      "Epoch 7/40\n",
      "60000/60000 [==============================] - 2s 40us/sample - loss: 0.2891 - accuracy: 0.8943 - val_loss: 0.3781 - val_accuracy: 0.8616\n",
      "Epoch 8/40\n",
      "60000/60000 [==============================] - 2s 41us/sample - loss: 0.2773 - accuracy: 0.8985 - val_loss: 0.3514 - val_accuracy: 0.8800\n",
      "Epoch 9/40\n",
      "60000/60000 [==============================] - 3s 43us/sample - loss: 0.2713 - accuracy: 0.9002 - val_loss: 0.3600 - val_accuracy: 0.8718\n",
      "Epoch 10/40\n",
      "60000/60000 [==============================] - 2s 41us/sample - loss: 0.2623 - accuracy: 0.9033 - val_loss: 0.3481 - val_accuracy: 0.8806\n",
      "Epoch 11/40\n",
      "60000/60000 [==============================] - 2s 39us/sample - loss: 0.2546 - accuracy: 0.9058 - val_loss: 0.3556 - val_accuracy: 0.8746\n",
      "Epoch 12/40\n",
      "60000/60000 [==============================] - 2s 41us/sample - loss: 0.2451 - accuracy: 0.9086 - val_loss: 0.3508 - val_accuracy: 0.8792\n",
      "Epoch 13/40\n",
      "60000/60000 [==============================] - 3s 43us/sample - loss: 0.2412 - accuracy: 0.9110 - val_loss: 0.3536 - val_accuracy: 0.8801\n",
      "Epoch 14/40\n",
      "60000/60000 [==============================] - 3s 43us/sample - loss: 0.2355 - accuracy: 0.9125 - val_loss: 0.3336 - val_accuracy: 0.8839\n",
      "Epoch 15/40\n",
      "60000/60000 [==============================] - 3s 44us/sample - loss: 0.2306 - accuracy: 0.9135 - val_loss: 0.3583 - val_accuracy: 0.8755\n",
      "Epoch 16/40\n",
      "60000/60000 [==============================] - 3s 44us/sample - loss: 0.2260 - accuracy: 0.9160 - val_loss: 0.3484 - val_accuracy: 0.8831\n",
      "Epoch 17/40\n",
      "60000/60000 [==============================] - 3s 45us/sample - loss: 0.2196 - accuracy: 0.9175 - val_loss: 0.3570 - val_accuracy: 0.8798\n",
      "Epoch 18/40\n",
      "60000/60000 [==============================] - 3s 43us/sample - loss: 0.2152 - accuracy: 0.9209 - val_loss: 0.3454 - val_accuracy: 0.8839\n",
      "Epoch 19/40\n",
      "60000/60000 [==============================] - 3s 42us/sample - loss: 0.2129 - accuracy: 0.9211 - val_loss: 0.3426 - val_accuracy: 0.8840\n",
      "Epoch 20/40\n",
      "60000/60000 [==============================] - 2s 41us/sample - loss: 0.2084 - accuracy: 0.9219 - val_loss: 0.3621 - val_accuracy: 0.8799\n",
      "Epoch 21/40\n",
      "60000/60000 [==============================] - 2s 39us/sample - loss: 0.2047 - accuracy: 0.9233 - val_loss: 0.3621 - val_accuracy: 0.8811\n",
      "Epoch 22/40\n",
      "60000/60000 [==============================] - 3s 44us/sample - loss: 0.2003 - accuracy: 0.9256 - val_loss: 0.3641 - val_accuracy: 0.8825\n",
      "Epoch 23/40\n",
      "60000/60000 [==============================] - 2s 39us/sample - loss: 0.1969 - accuracy: 0.9262 - val_loss: 0.3542 - val_accuracy: 0.8857\n",
      "Epoch 24/40\n",
      "60000/60000 [==============================] - 2s 41us/sample - loss: 0.1936 - accuracy: 0.9266 - val_loss: 0.3857 - val_accuracy: 0.8756\n",
      "Epoch 25/40\n",
      "60000/60000 [==============================] - 2s 39us/sample - loss: 0.1901 - accuracy: 0.9291 - val_loss: 0.3565 - val_accuracy: 0.8841\n",
      "Epoch 26/40\n",
      "60000/60000 [==============================] - 3s 42us/sample - loss: 0.1870 - accuracy: 0.9298 - val_loss: 0.3661 - val_accuracy: 0.8833\n",
      "Epoch 27/40\n",
      "60000/60000 [==============================] - 3s 42us/sample - loss: 0.1858 - accuracy: 0.9308 - val_loss: 0.3792 - val_accuracy: 0.8790\n",
      "Epoch 28/40\n",
      "60000/60000 [==============================] - 3s 42us/sample - loss: 0.1811 - accuracy: 0.9320 - val_loss: 0.3672 - val_accuracy: 0.8859\n",
      "Epoch 29/40\n",
      "60000/60000 [==============================] - 2s 42us/sample - loss: 0.1789 - accuracy: 0.9337 - val_loss: 0.3930 - val_accuracy: 0.8808\n",
      "Epoch 30/40\n",
      "60000/60000 [==============================] - 2s 40us/sample - loss: 0.1778 - accuracy: 0.9326 - val_loss: 0.3917 - val_accuracy: 0.8799\n",
      "Epoch 31/40\n",
      "60000/60000 [==============================] - 3s 43us/sample - loss: 0.1742 - accuracy: 0.9341 - val_loss: 0.3743 - val_accuracy: 0.8838\n",
      "Epoch 32/40\n",
      "60000/60000 [==============================] - 3s 43us/sample - loss: 0.1715 - accuracy: 0.9351 - val_loss: 0.3800 - val_accuracy: 0.8847\n",
      "Epoch 33/40\n",
      "60000/60000 [==============================] - 3s 42us/sample - loss: 0.1698 - accuracy: 0.9361 - val_loss: 0.3873 - val_accuracy: 0.8828\n",
      "Epoch 34/40\n",
      "60000/60000 [==============================] - 2s 40us/sample - loss: 0.1672 - accuracy: 0.9372 - val_loss: 0.4057 - val_accuracy: 0.8808\n",
      "Epoch 35/40\n",
      "60000/60000 [==============================] - 2s 40us/sample - loss: 0.1658 - accuracy: 0.9376 - val_loss: 0.3910 - val_accuracy: 0.8847\n",
      "Epoch 36/40\n",
      "60000/60000 [==============================] - 2s 40us/sample - loss: 0.1637 - accuracy: 0.9385 - val_loss: 0.3825 - val_accuracy: 0.8850\n",
      "Epoch 37/40\n",
      "60000/60000 [==============================] - 2s 42us/sample - loss: 0.1604 - accuracy: 0.9388 - val_loss: 0.4076 - val_accuracy: 0.8820\n",
      "Epoch 38/40\n",
      "60000/60000 [==============================] - 2s 39us/sample - loss: 0.1573 - accuracy: 0.9406 - val_loss: 0.4005 - val_accuracy: 0.8845\n",
      "Epoch 39/40\n",
      "60000/60000 [==============================] - 3s 43us/sample - loss: 0.1566 - accuracy: 0.9403 - val_loss: 0.4112 - val_accuracy: 0.8843\n",
      "Epoch 40/40\n",
      "60000/60000 [==============================] - 3s 44us/sample - loss: 0.1548 - accuracy: 0.9410 - val_loss: 0.4316 - val_accuracy: 0.8797\n",
      "Wall time: 1min 41s\n"
     ]
    }
   ],
   "source": [
    "%%time\n",
    "model.compile(optimizer='adam',\n",
    "              loss='sparse_categorical_crossentropy',\n",
    "              metrics=['accuracy'])\n",
    "\n",
    "\n",
    "log_dir= 'logs\\\\fit2\\\\' + datetime.datetime.now().strftime('%Y%m%d-%H%M%S')\n",
    "tensorboard_callback = tf.keras.callbacks.TensorBoard(log_dir=log_dir, histogram_freq=1)\n",
    "\n",
    "# We add to the fit method the validation/test data.  This will cause the training model \n",
    "# to evaluate itself on the validation/test data on each epoch.  This provides per \n",
    "# epoch data points TensorBoard can plot so we can see the trend.\n",
    "train_hist = model.fit(train_images, train_labels, epochs=40,\n",
    "                       validation_data=(test_images, test_labels), \n",
    "                        callbacks=[tensorboard_callback])\n",
    "\n"
   ]
  },
  {
   "cell_type": "markdown",
   "metadata": {
    "colab_type": "text",
    "id": "Ke-rDI6UmGaX"
   },
   "source": [
    "#### Show the results with TensorBoard"
   ]
  },
  {
   "cell_type": "code",
   "execution_count": 48,
   "metadata": {
    "colab": {},
    "colab_type": "code",
    "id": "hox4ABkzmFWm"
   },
   "outputs": [],
   "source": [
    "#!kill 1234   # sometime TensorBoard does not show all data.  If it shows reusing previous instance use kill command listed\n",
    "#%tensorboard --logdir logs/fit\n",
    "#tensorboard --logdir logs\\fit2"
   ]
  },
  {
   "cell_type": "markdown",
   "metadata": {
    "colab_type": "text",
    "id": "qBwxV4HjFOwT"
   },
   "source": [
    "### Randomly dropout some neurons\n",
    "\n",
    "To randomly shut down the contribution from some neurons, we add a Keras dropout layer.  This layer randomly sets the outputs from the previous layer to 0.  How many outputs are set to 0 is defined by the parameter we pass.  To set 50% of \n",
    "the outputs to 0 pass 0.5.  For 20% pass 0.2.\n",
    "\n",
    "Also, the decision on which connections get dropped is a random selection that \n",
    "changes from epoch to epoch."
   ]
  },
  {
   "cell_type": "code",
   "execution_count": 49,
   "metadata": {
    "colab": {},
    "colab_type": "code",
    "id": "xSMjk8zBpc2A"
   },
   "outputs": [],
   "source": [
    "# Load the tensorboard extension\n",
    "#% reload_ext tensorboard"
   ]
  },
  {
   "cell_type": "code",
   "execution_count": 51,
   "metadata": {
    "colab": {},
    "colab_type": "code",
    "id": "3GcFNsSBpc2O"
   },
   "outputs": [
    {
     "name": "stdout",
     "output_type": "stream",
     "text": [
      "D:\\Users\\Rob\\Documents\\python\\tf37_tensorflow_ps\\logs\\fit\\20201124-195222\\train\\events.out.tfevents.1606265542.REDONE.7040.227152.v2"
     ]
    },
    {
     "name": "stderr",
     "output_type": "stream",
     "text": [
      "Access is denied.\n",
      "Access is denied.\n"
     ]
    },
    {
     "name": "stdout",
     "output_type": "stream",
     "text": [
      "\n",
      "D:\\Users\\Rob\\Documents\\python\\tf37_tensorflow_ps\\logs\\fit\\20201124-195222\\validation\\events.out.tfevents.1606265545.REDONE.7040.241775.v2\n",
      "Deleted file - D:\\Users\\Rob\\Documents\\python\\tf37_tensorflow_ps\\logs\\fit2\\20201124-202828\\train\\events.out.tfevents.1606267708.REDONE.7040.793814.v2\n",
      "Deleted file - D:\\Users\\Rob\\Documents\\python\\tf37_tensorflow_ps\\logs\\fit2\\20201124-202828\\train\\events.out.tfevents.1606267708.REDONE.profile-empty\n",
      "Deleted file - D:\\Users\\Rob\\Documents\\python\\tf37_tensorflow_ps\\logs\\fit2\\20201124-202828\\train\\plugins\\profile\\2020-11-24_20-28-28\\local.trace\n",
      "Deleted file - D:\\Users\\Rob\\Documents\\python\\tf37_tensorflow_ps\\logs\\fit2\\20201124-202828\\validation\\events.out.tfevents.1606267711.REDONE.7040.808437.v2\n"
     ]
    },
    {
     "name": "stderr",
     "output_type": "stream",
     "text": [
      "logs\\fit\\202011~1\\train\\events.out.tfevents.1606265542.REDONE.7040.227152.v2 - Access is denied.\n",
      "logs\\fit\\202011~1\\VALIDA~1\\events.out.tfevents.1606265545.REDONE.7040.241775.v2 - Access is denied.\n",
      "A subdirectory or file logs already exists.\n"
     ]
    }
   ],
   "source": [
    "# Clear any logs from previous runs\n",
    "#!rm -rf ./logs/ \n",
    "!del /S /Q \"logs\"\n",
    "!rmdir /S /q \"logs\" \n",
    "#dels directory itself so remake it\n",
    "!mkdir logs"
   ]
  },
  {
   "cell_type": "code",
   "execution_count": 53,
   "metadata": {
    "colab": {},
    "colab_type": "code",
    "id": "W9SazRfplKGA"
   },
   "outputs": [],
   "source": [
    "model = tf.keras.models.Sequential()      # Create a new sequential model\n",
    "model.add(tf.keras.layers.Flatten(input_shape=(28,28)))    # keras processing layer - no neurons\n",
    "model.add(tf.keras.layers.Dense(128, activation='relu', name='dense-128-relu'))   # 128 neurons connected to pixels\n",
    "####ADDED DROPOUT LAYER####\n",
    "model.add(tf.keras.layers.Dropout(0.2))  # dropout 20%\n",
    "model.add(tf.keras.layers.Dense(10, activation='softmax', name='dense-10-softmax')) # determine probability of each of the 10 classes"
   ]
  },
  {
   "cell_type": "code",
   "execution_count": 54,
   "metadata": {
    "colab": {},
    "colab_type": "code",
    "id": "OM9BuhuBlWo0"
   },
   "outputs": [],
   "source": [
    "model.compile(optimizer='adam',\n",
    "              loss='sparse_categorical_crossentropy',\n",
    "              metrics=['accuracy'])"
   ]
  },
  {
   "cell_type": "code",
   "execution_count": 55,
   "metadata": {
    "colab": {},
    "colab_type": "code",
    "id": "jM5sr1YGlcIb",
    "scrolled": true
   },
   "outputs": [
    {
     "name": "stdout",
     "output_type": "stream",
     "text": [
      "Train on 60000 samples, validate on 10000 samples\n",
      "Epoch 1/40\n",
      "60000/60000 [==============================] - 4s 61us/sample - loss: 0.5342 - accuracy: 0.8091 - val_loss: 0.4319 - val_accuracy: 0.8425\n",
      "Epoch 2/40\n",
      "60000/60000 [==============================] - 3s 53us/sample - loss: 0.4011 - accuracy: 0.8553 - val_loss: 0.3941 - val_accuracy: 0.8560\n",
      "Epoch 3/40\n",
      "60000/60000 [==============================] - 3s 52us/sample - loss: 0.3662 - accuracy: 0.8665 - val_loss: 0.4079 - val_accuracy: 0.8498\n",
      "Epoch 4/40\n",
      "60000/60000 [==============================] - 3s 55us/sample - loss: 0.3441 - accuracy: 0.8736 - val_loss: 0.3785 - val_accuracy: 0.8636\n",
      "Epoch 5/40\n",
      "60000/60000 [==============================] - 3s 56us/sample - loss: 0.3292 - accuracy: 0.8785 - val_loss: 0.3522 - val_accuracy: 0.8684\n",
      "Epoch 6/40\n",
      "60000/60000 [==============================] - 3s 55us/sample - loss: 0.3146 - accuracy: 0.8841 - val_loss: 0.3518 - val_accuracy: 0.8734\n",
      "Epoch 7/40\n",
      "60000/60000 [==============================] - 3s 55us/sample - loss: 0.3062 - accuracy: 0.8850 - val_loss: 0.3606 - val_accuracy: 0.8709\n",
      "Epoch 8/40\n",
      "60000/60000 [==============================] - 3s 52us/sample - loss: 0.2960 - accuracy: 0.8907 - val_loss: 0.3498 - val_accuracy: 0.8788\n",
      "Epoch 9/40\n",
      "60000/60000 [==============================] - 3s 54us/sample - loss: 0.2896 - accuracy: 0.8913 - val_loss: 0.3458 - val_accuracy: 0.8711\n",
      "Epoch 10/40\n",
      "60000/60000 [==============================] - 3s 50us/sample - loss: 0.2814 - accuracy: 0.8947 - val_loss: 0.3381 - val_accuracy: 0.8823\n",
      "Epoch 11/40\n",
      "60000/60000 [==============================] - 3s 46us/sample - loss: 0.2757 - accuracy: 0.8967 - val_loss: 0.3305 - val_accuracy: 0.8840\n",
      "Epoch 12/40\n",
      "60000/60000 [==============================] - 3s 48us/sample - loss: 0.2711 - accuracy: 0.8980 - val_loss: 0.3397 - val_accuracy: 0.8815\n",
      "Epoch 13/40\n",
      "60000/60000 [==============================] - 3s 51us/sample - loss: 0.2654 - accuracy: 0.9004 - val_loss: 0.3312 - val_accuracy: 0.8855\n",
      "Epoch 14/40\n",
      "60000/60000 [==============================] - 3s 47us/sample - loss: 0.2579 - accuracy: 0.9036 - val_loss: 0.3328 - val_accuracy: 0.8861\n",
      "Epoch 15/40\n",
      "60000/60000 [==============================] - 3s 48us/sample - loss: 0.2553 - accuracy: 0.9031 - val_loss: 0.3343 - val_accuracy: 0.8878\n",
      "Epoch 16/40\n",
      "60000/60000 [==============================] - 3s 49us/sample - loss: 0.2512 - accuracy: 0.9061 - val_loss: 0.3407 - val_accuracy: 0.8873\n",
      "Epoch 17/40\n",
      "60000/60000 [==============================] - 3s 47us/sample - loss: 0.2446 - accuracy: 0.9087 - val_loss: 0.3467 - val_accuracy: 0.8808\n",
      "Epoch 18/40\n",
      "60000/60000 [==============================] - 3s 47us/sample - loss: 0.2425 - accuracy: 0.9083 - val_loss: 0.3328 - val_accuracy: 0.8852\n",
      "Epoch 19/40\n",
      "60000/60000 [==============================] - 3s 47us/sample - loss: 0.2381 - accuracy: 0.9096 - val_loss: 0.3288 - val_accuracy: 0.8874\n",
      "Epoch 20/40\n",
      "60000/60000 [==============================] - 3s 46us/sample - loss: 0.2324 - accuracy: 0.9116 - val_loss: 0.3486 - val_accuracy: 0.8840\n",
      "Epoch 21/40\n",
      "60000/60000 [==============================] - 3s 47us/sample - loss: 0.2292 - accuracy: 0.9133 - val_loss: 0.3371 - val_accuracy: 0.8904\n",
      "Epoch 22/40\n",
      "60000/60000 [==============================] - 3s 47us/sample - loss: 0.2270 - accuracy: 0.9136 - val_loss: 0.3344 - val_accuracy: 0.8897\n",
      "Epoch 23/40\n",
      "60000/60000 [==============================] - 3s 48us/sample - loss: 0.2253 - accuracy: 0.9144 - val_loss: 0.3432 - val_accuracy: 0.8890\n",
      "Epoch 24/40\n",
      "60000/60000 [==============================] - 3s 54us/sample - loss: 0.2203 - accuracy: 0.9161 - val_loss: 0.3454 - val_accuracy: 0.8878\n",
      "Epoch 25/40\n",
      "60000/60000 [==============================] - 3s 53us/sample - loss: 0.2189 - accuracy: 0.9164 - val_loss: 0.3319 - val_accuracy: 0.8920\n",
      "Epoch 26/40\n",
      "60000/60000 [==============================] - 3s 51us/sample - loss: 0.2166 - accuracy: 0.9179 - val_loss: 0.3506 - val_accuracy: 0.8862\n",
      "Epoch 27/40\n",
      "60000/60000 [==============================] - 3s 52us/sample - loss: 0.2144 - accuracy: 0.9189 - val_loss: 0.3476 - val_accuracy: 0.8868\n",
      "Epoch 28/40\n",
      "60000/60000 [==============================] - 3s 53us/sample - loss: 0.2090 - accuracy: 0.9202 - val_loss: 0.3601 - val_accuracy: 0.8882\n",
      "Epoch 29/40\n",
      "60000/60000 [==============================] - 3s 52us/sample - loss: 0.2053 - accuracy: 0.9216 - val_loss: 0.3647 - val_accuracy: 0.8850\n",
      "Epoch 30/40\n",
      "60000/60000 [==============================] - 3s 53us/sample - loss: 0.2068 - accuracy: 0.9213 - val_loss: 0.3632 - val_accuracy: 0.8881\n",
      "Epoch 31/40\n",
      "60000/60000 [==============================] - 3s 50us/sample - loss: 0.2039 - accuracy: 0.9220 - val_loss: 0.3477 - val_accuracy: 0.8907\n",
      "Epoch 32/40\n",
      "60000/60000 [==============================] - 3s 46us/sample - loss: 0.1985 - accuracy: 0.9242 - val_loss: 0.3676 - val_accuracy: 0.8847\n",
      "Epoch 33/40\n",
      "60000/60000 [==============================] - 3s 49us/sample - loss: 0.1994 - accuracy: 0.9235 - val_loss: 0.3472 - val_accuracy: 0.8916\n",
      "Epoch 34/40\n",
      "60000/60000 [==============================] - 3s 48us/sample - loss: 0.1959 - accuracy: 0.9243 - val_loss: 0.3503 - val_accuracy: 0.8895\n",
      "Epoch 35/40\n",
      "60000/60000 [==============================] - 3s 46us/sample - loss: 0.1936 - accuracy: 0.9271 - val_loss: 0.3664 - val_accuracy: 0.8821\n",
      "Epoch 36/40\n",
      "60000/60000 [==============================] - 3s 49us/sample - loss: 0.1929 - accuracy: 0.9267 - val_loss: 0.3612 - val_accuracy: 0.8869\n",
      "Epoch 37/40\n",
      "60000/60000 [==============================] - 3s 47us/sample - loss: 0.1889 - accuracy: 0.9277 - val_loss: 0.3564 - val_accuracy: 0.8884\n",
      "Epoch 38/40\n",
      "60000/60000 [==============================] - 3s 48us/sample - loss: 0.1874 - accuracy: 0.9286 - val_loss: 0.3664 - val_accuracy: 0.8918\n",
      "Epoch 39/40\n",
      "60000/60000 [==============================] - 3s 49us/sample - loss: 0.1872 - accuracy: 0.9282 - val_loss: 0.3780 - val_accuracy: 0.8903\n",
      "Epoch 40/40\n",
      "60000/60000 [==============================] - 3s 48us/sample - loss: 0.1843 - accuracy: 0.9290 - val_loss: 0.3794 - val_accuracy: 0.8897\n",
      "Wall time: 2min\n"
     ]
    },
    {
     "data": {
      "text/plain": [
       "<tensorflow.python.keras.callbacks.History at 0x1da2befd488>"
      ]
     },
     "execution_count": 55,
     "metadata": {},
     "output_type": "execute_result"
    }
   ],
   "source": [
    "%%time\n",
    "log_dir='logs\\\\fit3\\\\' + datetime.datetime.now().strftime('%Y%m%d-%H%M%S')\n",
    "tensorboard_callback = tf.keras.callbacks.TensorBoard(log_dir=log_dir, histogram_freq=1)\n",
    "\n",
    "model.fit(x=train_images, \n",
    "          y=train_labels, \n",
    "          epochs=40, \n",
    "          validation_data=(test_images, test_labels), \n",
    "          callbacks=[tensorboard_callback])\n"
   ]
  },
  {
   "cell_type": "code",
   "execution_count": 0,
   "metadata": {
    "colab": {},
    "colab_type": "code",
    "id": "qlUy6ZlRlOZ8"
   },
   "outputs": [],
   "source": [
    "#!kill 1234   # sometime TensorBoard does not show all data.  If it shows reusing previous instance use kill command listed\n",
    "#%tensorboard --logdir logs/fit\n",
    "#tensorboard --logdir logs\\fit3"
   ]
  },
  {
   "cell_type": "markdown",
   "metadata": {
    "colab_type": "text",
    "id": "3wrym729ZWre"
   },
   "source": [
    "### Implementing Early Stopping\n",
    "\n",
    "Early stopping involves having the training stop when the model has been trained enough.  \n",
    "\n",
    "Often training is slow in terms of time, and expensive in terms of compute time on big clusters or a cloud service.  So it is useful to be able to stop training as soon as reasonable.  And reasonable is usually when the metric like lose quits decreasing.  So the question is, how can we know when the loss quits decreasing?  \n",
    "\n",
    "We could run a bunch of trials and use a tool like TensorBoard to plot curves.  But it is tedious to write a model with 20 epochs, run it, see loss was decreasing, then repeat that with 40 epochs, etc.  Worse, if we change the model or it's parameters, like adjusting the dropout percentage, the number of epochs required to see when the loss stops decreasing might be different.\n",
    "\n",
    "So what we need is an automated way to detect when training has quit improving and terminate training.  And fortunately Keras has an early stopping feature that does just this!"
   ]
  },
  {
   "cell_type": "markdown",
   "metadata": {
    "colab_type": "text",
    "id": "_lKTkBVvN2dI"
   },
   "source": [
    "We start with the same model, optimizer, loss, and log clearing code as before."
   ]
  },
  {
   "cell_type": "code",
   "execution_count": 56,
   "metadata": {
    "colab": {},
    "colab_type": "code",
    "id": "D0FSUxUT3Cuf"
   },
   "outputs": [],
   "source": [
    "# Load the tensorboard extension\n",
    "#% reload_ext tensorboard"
   ]
  },
  {
   "cell_type": "code",
   "execution_count": 57,
   "metadata": {
    "colab": {},
    "colab_type": "code",
    "id": "dGm6LMEL2--j"
   },
   "outputs": [
    {
     "name": "stdout",
     "output_type": "stream",
     "text": [
      "D:\\Users\\Rob\\Documents\\python\\tf37_tensorflow_ps\\logs\\fit\\20201124-195222\\train\\events.out.tfevents.1606265542.REDONE.7040.227152.v2\n",
      "D:\\Users\\Rob\\Documents\\python\\tf37_tensorflow_ps\\logs\\fit\\20201124-195222\\validation\\events.out.tfevents.1606265545.REDONE.7040.241775.v2\n",
      "Deleted file - D:\\Users\\Rob\\Documents\\python\\tf37_tensorflow_ps\\logs\\fit3\\20201124-203524\\train\\events.out.tfevents.1606268124.REDONE.7040.1360413.v2\n",
      "Deleted file - D:\\Users\\Rob\\Documents\\python\\tf37_tensorflow_ps\\logs\\fit3\\20201124-203524\\train\\events.out.tfevents.1606268124.REDONE.profile-empty\n",
      "Deleted file - D:\\Users\\Rob\\Documents\\python\\tf37_tensorflow_ps\\logs\\fit3\\20201124-203524\\train\\plugins\\profile\\2020-11-24_20-35-24\\local.trace\n",
      "Deleted file - D:\\Users\\Rob\\Documents\\python\\tf37_tensorflow_ps\\logs\\fit3\\20201124-203524\\validation\\events.out.tfevents.1606268128.REDONE.7040.1375075.v2\n"
     ]
    },
    {
     "name": "stderr",
     "output_type": "stream",
     "text": [
      "Access is denied.\n",
      "Access is denied.\n",
      "logs\\fit\\202011~1\\train\\events.out.tfevents.1606265542.REDONE.7040.227152.v2 - Access is denied.\n",
      "logs\\fit\\202011~1\\VALIDA~1\\events.out.tfevents.1606265545.REDONE.7040.241775.v2 - Access is denied.\n",
      "A subdirectory or file logs already exists.\n"
     ]
    }
   ],
   "source": [
    "# Clear any logs from previous runs\n",
    "#!rm -rf ./logs/ \n",
    "!del /S /Q \"logs\"\n",
    "!rmdir /S /q \"logs\" \n",
    "#dels directory itself so remake it\n",
    "!mkdir logs"
   ]
  },
  {
   "cell_type": "code",
   "execution_count": 58,
   "metadata": {
    "colab": {},
    "colab_type": "code",
    "id": "62luPqB8NqaI"
   },
   "outputs": [],
   "source": [
    "model = tf.keras.models.Sequential()      # Create a new sequential model\n",
    "model.add(tf.keras.layers.Flatten(input_shape=(28,28)))    # keras processing layer - no neurons\n",
    "model.add(tf.keras.layers.Dense(128, activation='relu', name='dense-128-relu'))   # 128 neurons connected to pixels\n",
    "model.add(tf.keras.layers.Dense(10, activation='softmax', name='dense-10-softmax')) # determine probability of each of the 10 classes"
   ]
  },
  {
   "cell_type": "code",
   "execution_count": 59,
   "metadata": {
    "colab": {},
    "colab_type": "code",
    "id": "ROXcHFavNqaS"
   },
   "outputs": [],
   "source": [
    "model.compile(optimizer='adam',\n",
    "              loss='sparse_categorical_crossentropy',\n",
    "              metrics=['accuracy'])"
   ]
  },
  {
   "cell_type": "markdown",
   "metadata": {
    "colab_type": "text",
    "id": "F6TY_BVDOou_"
   },
   "source": [
    "We create a new EarlyStopping callback.\n",
    "\n",
    "And we set the **monitor** parameter to the parameter to monitor, which is **validation loss**. And the  **patience** parameter to the maximum number of epochs without improvement allowed.  And if the parameter does not improve within the patience number of epochs, the training will be terminated.\n",
    "\n",
    "This new callback gets added to the list of callbacks."
   ]
  },
  {
   "cell_type": "code",
   "execution_count": 60,
   "metadata": {
    "colab": {},
    "colab_type": "code",
    "id": "1o3tiyB_NyhV",
    "scrolled": true
   },
   "outputs": [
    {
     "name": "stdout",
     "output_type": "stream",
     "text": [
      "Train on 60000 samples, validate on 10000 samples\n",
      "Epoch 1/40\n",
      "60000/60000 [==============================] - 3s 55us/sample - loss: 0.4934 - accuracy: 0.8278 - val_loss: 0.4346 - val_accuracy: 0.8459\n",
      "Epoch 2/40\n",
      "60000/60000 [==============================] - 3s 49us/sample - loss: 0.3766 - accuracy: 0.8628 - val_loss: 0.3858 - val_accuracy: 0.8612\n",
      "Epoch 3/40\n",
      "60000/60000 [==============================] - 3s 54us/sample - loss: 0.3371 - accuracy: 0.8768 - val_loss: 0.3809 - val_accuracy: 0.8628\n",
      "Epoch 4/40\n",
      "60000/60000 [==============================] - 3s 52us/sample - loss: 0.3161 - accuracy: 0.8848 - val_loss: 0.3557 - val_accuracy: 0.8752\n",
      "Epoch 5/40\n",
      "60000/60000 [==============================] - 3s 53us/sample - loss: 0.2962 - accuracy: 0.8908 - val_loss: 0.3424 - val_accuracy: 0.8794\n",
      "Epoch 6/40\n",
      "60000/60000 [==============================] - 3s 53us/sample - loss: 0.2820 - accuracy: 0.8956 - val_loss: 0.3440 - val_accuracy: 0.8734\n",
      "Epoch 7/40\n",
      "60000/60000 [==============================] - 3s 54us/sample - loss: 0.2683 - accuracy: 0.8990 - val_loss: 0.3285 - val_accuracy: 0.8849\n",
      "Epoch 8/40\n",
      "60000/60000 [==============================] - 3s 54us/sample - loss: 0.2569 - accuracy: 0.9046 - val_loss: 0.3202 - val_accuracy: 0.8878\n",
      "Epoch 9/40\n",
      "60000/60000 [==============================] - 3s 52us/sample - loss: 0.2494 - accuracy: 0.9074 - val_loss: 0.3206 - val_accuracy: 0.8888\n",
      "Epoch 10/40\n",
      "60000/60000 [==============================] - 3s 50us/sample - loss: 0.2374 - accuracy: 0.9109 - val_loss: 0.3447 - val_accuracy: 0.8823\n",
      "Epoch 11/40\n",
      "60000/60000 [==============================] - 3s 50us/sample - loss: 0.2318 - accuracy: 0.9131 - val_loss: 0.3349 - val_accuracy: 0.8856\n",
      "Epoch 12/40\n",
      "60000/60000 [==============================] - 3s 51us/sample - loss: 0.2226 - accuracy: 0.9169 - val_loss: 0.3412 - val_accuracy: 0.8808\n"
     ]
    },
    {
     "data": {
      "text/plain": [
       "<tensorflow.python.keras.callbacks.History at 0x1da2b6c7908>"
      ]
     },
     "execution_count": 60,
     "metadata": {},
     "output_type": "execute_result"
    }
   ],
   "source": [
    "log_dir='logs\\\\fit4\\\\' + datetime.datetime.now().strftime('%Y%m%d-%H%M%S')\n",
    "tensorboard_callback = tf.keras.callbacks.TensorBoard(log_dir=log_dir, histogram_freq=1)\n",
    "#### ADDED EARLY STOPPING CALLBACK ####\n",
    "#patience requires 4 observations of increasing loss before stopping\n",
    "early_stopping_callback = tf.keras.callbacks.EarlyStopping(monitor='val_loss', patience=4)\n",
    "\n",
    "model.fit(x=train_images, \n",
    "          y=train_labels, \n",
    "          epochs=40, \n",
    "          validation_data=(test_images, test_labels), \n",
    "          callbacks=[tensorboard_callback, early_stopping_callback])\n"
   ]
  },
  {
   "cell_type": "code",
   "execution_count": 0,
   "metadata": {
    "colab": {},
    "colab_type": "code",
    "id": "vUIOxIxcQSRH"
   },
   "outputs": [],
   "source": [
    "#!kill 1234   # sometime TensorBoard does not show all data.  If it shows reusing previous instance use kill command listed\n",
    "#%tensorboard --logdir logs/fit\n",
    "#tensorboard --logdir logs\\fit4"
   ]
  },
  {
   "cell_type": "markdown",
   "metadata": {
    "colab_type": "text",
    "id": "AwGPItyphqXT"
   },
   "source": [
    "## Save Your Model\n",
    "\n",
    "Now that we have our model working well.  We can save it for reuse.\n",
    "\n",
    "By saving the model's structure and the associated trained weights we preserve our work.  Those weights are well over 101,000 values for which we had to work hard to get to the proper numbers!!\n"
   ]
  },
  {
   "cell_type": "code",
   "execution_count": 61,
   "metadata": {
    "colab": {},
    "colab_type": "code",
    "id": "0w5Rq8SsgWE6"
   },
   "outputs": [
    {
     "name": "stdout",
     "output_type": "stream",
     "text": [
      "WARNING:tensorflow:From C:\\Users\\Rob.DESKTOP-HBG5EOT\\.conda\\envs\\tf37\\lib\\site-packages\\tensorflow_core\\python\\ops\\resource_variable_ops.py:1786: calling BaseResourceVariable.__init__ (from tensorflow.python.ops.resource_variable_ops) with constraint is deprecated and will be removed in a future version.\n",
      "Instructions for updating:\n",
      "If using Keras pass *_constraint arguments to layers.\n",
      "INFO:tensorflow:Assets written to: mysavedmodelv1\\assets\n"
     ]
    }
   ],
   "source": [
    "# We use the Python tempfile library to create files in a generated folder.  \n",
    "# If you want to used a defined path, replace this code with your own \n",
    "# path definitions. \n",
    "import tempfile\n",
    "import os\n",
    "\n",
    "# get the tempfile location for this Colab session\n",
    "#MODEL_DIR = tempfile.gettempdir()\n",
    "#version = 1   # NOTE: Adjust if you don't want to replace a version of your model\n",
    "#export_path = os.path.join(MODEL_DIR, str(version))  # the final path includes the version\n",
    "#print('Saving model to : {}\\n'.format(export_path))\n",
    "\n",
    "# if path already exists delete everything at the location\n",
    "#if os.path.isdir(export_path):\n",
    "#  print('\\nPreviously saved model found, deleting it\\n')\n",
    "#  !rm -r {export_path}\n",
    "\n",
    "# Save the model  \n",
    "tf.saved_model.save(model, 'mysavedmodelv1')\n",
    "\n",
    "# Print save complete message\n",
    "#print('Model saved')\n"
   ]
  },
  {
   "cell_type": "markdown",
   "metadata": {
    "colab_type": "text",
    "id": "8YbP9MjFLkRJ"
   },
   "source": [
    "\n",
    "\n",
    "# Deploying our Trained Model\n",
    "\n",
    "Once we are satisified with the model's performance we can deploy it so other programs can use it.  This is a complex subject since the deployment strategies depend on how our model will be used.\n",
    "\n",
    "In this script we will show a very basic way of deploying the model.  We will do just enough so we can make predictions with our trained model from Python.\n",
    "\n"
   ]
  },
  {
   "cell_type": "markdown",
   "metadata": {
    "colab_type": "text",
    "id": "BjXJXg2dZKlZ"
   },
   "source": [
    "## TensorFlow ModelServer\n",
    "\n",
    "We are going to use the Tensorflow ModelServer to serve our model.  This install may only work in Colab.  \n",
    "\n",
    "*The recommendation for general installation and usage of the server is to use a docker container.  This is documented in the repo, https://github.com/tensorflow/serving/blob/master/tensorflow_serving/g3doc/setup.md*"
   ]
  },
  {
   "cell_type": "markdown",
   "metadata": {
    "colab_type": "text",
    "id": "BTWb0-KjnHSP"
   },
   "source": [
    "## Add TensorFlow Serving as installable\n",
    "\n",
    "Before we can install the TensorFlow ModelServer we need to make it known to the APT installer so the installer know where to fetch the bits.\n",
    "\n",
    "We do this by adding a key in to the APT database refering to the tensorflow-serving files location."
   ]
  },
  {
   "cell_type": "code",
   "execution_count": 0,
   "metadata": {
    "colab": {},
    "colab_type": "code",
    "id": "yadLd4SqnwMT"
   },
   "outputs": [],
   "source": [
    "# add the key\n",
    "!echo 'deb http://storage.googleapis.com/tensorflow-serving-apt stable tensorflow-model-server tensorflow-model-server-universal' | tee /etc/apt/sources.list.d/tensorflow-serving.list && \\\n",
    "curl https://storage.googleapis.com/tensorflow-serving-apt/tensorflow-serving.release.pub.gpg | apt-key add -\n",
    "# update the database with the new key\n",
    "!apt update"
   ]
  },
  {
   "cell_type": "markdown",
   "metadata": {
    "colab_type": "text",
    "id": "W1ZVp_VOU7Wu"
   },
   "source": [
    "### Install TensorFlow ModelServer\n",
    "\n",
    "We use apt-get to fetch and install TensorFlow ModelServer"
   ]
  },
  {
   "cell_type": "code",
   "execution_count": 0,
   "metadata": {
    "colab": {},
    "colab_type": "code",
    "id": "ygwa9AgRloYy"
   },
   "outputs": [],
   "source": [
    "!apt-get install tensorflow-model-server"
   ]
  },
  {
   "cell_type": "markdown",
   "metadata": {
    "colab_type": "text",
    "id": "k5NrYdQeVm52"
   },
   "source": [
    "### Start TensorFlow ModelServer\n",
    "\n",
    "This is where we start TensorFlow ModelServer and load our model.  After it loads we can start making inference requests using REST.  There are some important parameters:\n",
    "\n",
    "* `rest_api_port`: The port that you'll use for REST requests.\n",
    "* `model_name`: You'll use this in the URL of the REST requests.  It can be anything.\n",
    "* `model_base_path`: This is the path to the directory where you've saved your model.\n",
    "\n",
    "We need to define these as Python variables and as shell environment variables.  This will make this information available in Python code and in \n",
    "the shell where we will start the TensorFlow ModelServer process."
   ]
  },
  {
   "cell_type": "code",
   "execution_count": 0,
   "metadata": {
    "colab": {},
    "colab_type": "code",
    "id": "aUgp3vUdU5GS"
   },
   "outputs": [],
   "source": [
    "# Define the environment variable where our saved model resides\n",
    "os.environ['MODEL_DIR'] = MODEL_DIR\n",
    "# Define the Python constant and environment variable to point to the port number used to access our model\n",
    "REST_PORT = '8501'\n",
    "os.environ['REST_PORT'] = REST_PORT\n",
    "# Define the Python constant and environment variable to point to the our model name.\n",
    "#  This is an abitrary name.\n",
    "MODEL_NAME = 'fashion_mnist'\n",
    "os.environ['MODEL_NAME'] = MODEL_NAME"
   ]
  },
  {
   "cell_type": "code",
   "execution_count": 0,
   "metadata": {
    "colab": {},
    "colab_type": "code",
    "id": "kJDhHNJVnaLN"
   },
   "outputs": [],
   "source": [
    "# Run the shell command to launch tensorflow_model_server.  Output status and error\n",
    "#  messages to the file server.log\n",
    "%%bash --bg \n",
    "nohup tensorflow_model_server \\\n",
    "  --rest_api_port=\"${REST_PORT}\" \\\n",
    "  --model_name=\"${MODEL_NAME}\" \\\n",
    "  --model_base_path=\"${MODEL_DIR}\" >server.log 2>&1\n"
   ]
  },
  {
   "cell_type": "code",
   "execution_count": 0,
   "metadata": {
    "colab": {},
    "colab_type": "code",
    "id": "IxbeiOCUUs2z"
   },
   "outputs": [],
   "source": [
    "# Display the tail (last few lines) of the server log which will show any errors\n",
    "!tail server.log"
   ]
  },
  {
   "cell_type": "markdown",
   "metadata": {
    "colab_type": "text",
    "id": "vwg1JKaGXWAg"
   },
   "source": [
    "### Function to display image with user defined title"
   ]
  },
  {
   "cell_type": "code",
   "execution_count": 0,
   "metadata": {
    "colab": {},
    "colab_type": "code",
    "id": "Luqm_Jyff9iR"
   },
   "outputs": [],
   "source": [
    "def show_image(index, title, show_colorbar=False):\n",
    "  plt.figure()\n",
    "  plt.title('\\n\\n{}'.format(title), fontdict={'size': 16})\n",
    "  plt.imshow(test_images[index].reshape(28,28), cmap='gray')  # data is grayscale, but displays in color without cmap='gray'\n",
    "  if (show_colorbar):\n",
    "    plt.colorbar()\n",
    "  plt.axis('off')\n",
    "  plt.show()\n",
    "  \n",
    "  \n"
   ]
  },
  {
   "cell_type": "markdown",
   "metadata": {
    "colab_type": "text",
    "id": "x-Cc6WAFf4eg"
   },
   "source": [
    "## Make a REST request to predict class of our example image\n",
    "\n",
    "\n"
   ]
  },
  {
   "cell_type": "code",
   "execution_count": 0,
   "metadata": {
    "colab": {},
    "colab_type": "code",
    "id": "ReGh9AElrE4_"
   },
   "outputs": [],
   "source": [
    "!pip install -q requests    # Install the requests library which makes HTTP requests to the TensorFlow server \n",
    "                            # using our trained our model \n",
    "import requests     # import requests "
   ]
  },
  {
   "cell_type": "code",
   "execution_count": 0,
   "metadata": {
    "colab": {},
    "colab_type": "code",
    "id": "3dJFAJ9LqXMk"
   },
   "outputs": [],
   "source": [
    "# Select a random image to classify\n",
    "import random\n",
    "image_index = random.randint(0,len(test_images)-1)\n"
   ]
  },
  {
   "cell_type": "code",
   "execution_count": 0,
   "metadata": {
    "colab": {},
    "colab_type": "code",
    "id": "pll06kNWsCBF"
   },
   "outputs": [],
   "source": [
    " # Import json library and create the json data structure to be passed in the request.\n",
    "import json\n",
    "\n",
    "# The data is assumed to be a list of images, a 4D tensor of the shape [*,28,28,1].  \n",
    "# Convert the single 3d to 4d\n",
    "check_images = np.reshape(test_images[image_index],(-1,28,28,1))\n",
    "\n",
    "# Construct json data passed to server.  \"instances\" will hold the image(s) we \n",
    "#   want the model to classify\n",
    "data = json.dumps({'signature_name': 'serving_default', 'instances': check_images.tolist()})  "
   ]
  },
  {
   "cell_type": "code",
   "execution_count": 0,
   "metadata": {
    "colab": {},
    "colab_type": "code",
    "id": "gelYGr-s2RXw"
   },
   "outputs": [],
   "source": [
    "# Create the request\n",
    "\n",
    "# HTTP request header\n",
    "headers = {'content-type': 'application/json'}\n",
    "\n",
    "# Build the url to the service using the constants we defined earlier, should be of the form:\n",
    "#      http://localhost:8501/v1/models/fashion_mnist:predict\n",
    "predict_service_url = 'http://localhost:' + REST_PORT + '/v1/models/' + MODEL_NAME + ':predict'\n",
    "\n",
    "# Make request to the service.  Pass the headers and data.  Wait for the server's reponse.\n",
    "json_response = requests.post(predict_service_url, data=data, headers=headers)\n",
    "\n",
    "# Parse the response.  For each images we pass we get a list of probabilities \n",
    "predictions = json.loads(json_response.text)['predictions']\n",
    "# predictions[0] is the 10 probabilites for our first and only image.\n",
    "# predictions[0] has values in the form [0.1, 0.05, ...., 0.6]\n",
    "\n",
    "# The numpy argmax function returns the index of the highest value.  This is \n",
    "# the highest probabilty class predicted by our model. \n",
    "predicted_class = np.argmax(predictions[0])\n",
    "\n",
    "# Display image, the actual class and the predicted class\n",
    "show_image(image_index, 'Model predicted class: {} (class {}). \\n Actually class: {} (class {})'.format(\n",
    "  class_names[predicted_class], predicted_class, class_names[test_labels[image_index]], test_labels[image_index]))"
   ]
  }
 ],
 "metadata": {
  "accelerator": "GPU",
  "colab": {
   "collapsed_sections": [],
   "name": "Fashion_MNIST.ipynb",
   "provenance": []
  },
  "kernelspec": {
   "display_name": "Python 3",
   "language": "python",
   "name": "python3"
  },
  "language_info": {
   "codemirror_mode": {
    "name": "ipython",
    "version": 3
   },
   "file_extension": ".py",
   "mimetype": "text/x-python",
   "name": "python",
   "nbconvert_exporter": "python",
   "pygments_lexer": "ipython3",
   "version": "3.7.9"
  }
 },
 "nbformat": 4,
 "nbformat_minor": 1
}
