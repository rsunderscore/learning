{
 "cells": [
  {
   "cell_type": "code",
   "execution_count": 1,
   "metadata": {},
   "outputs": [],
   "source": [
    "import numpy as np \n",
    "import matplotlib.pyplot as plt\n",
    "\n",
    "import torch "
   ]
  },
  {
   "cell_type": "markdown",
   "metadata": {},
   "source": [
    "#### Creating Dataset\n",
    "A simple dataset using numpy arrays"
   ]
  },
  {
   "cell_type": "code",
   "execution_count": 2,
   "metadata": {},
   "outputs": [],
   "source": [
    "x_train = np.array ([[4.7], [2.4], [7.5], [7.1], [4.3], [7.816], \n",
    "                     [8.9], [5.2], [8.59], [2.1], [8] , \n",
    "                     [10], [4.5], [6], [4]],\n",
    "                    dtype = np.float32)\n",
    "\n",
    "y_train = np.array ([[2.6], [1.6], [3.09], [2.4], [2.4], [3.357], \n",
    "                     [2.6], [1.96], [3.53], [1.76], [3.2] , \n",
    "                     [3.5], [1.6], [2.5], [2.2]], \n",
    "                    dtype = np.float32)"
   ]
  },
  {
   "cell_type": "markdown",
   "metadata": {},
   "source": [
    "#### View the data\n",
    "There seems to be some relationship which can be plotted between x_train and y_train. A regression line can be drawn to represent the relationship"
   ]
  },
  {
   "cell_type": "code",
   "execution_count": 3,
   "metadata": {},
   "outputs": [
    {
     "data": {
      "image/png": "[encoded data removed]",
      "text/plain": [
       "<Figure size 864x576 with 1 Axes>"
      ]
     },
     "metadata": {
      "needs_background": "light"
     },
     "output_type": "display_data"
    }
   ],
   "source": [
    "plt.figure(figsize=(12, 8))\n",
    "\n",
    "plt.scatter(x_train, y_train, label='Original data', s=250, c='g')\n",
    "\n",
    "plt.legend()\n",
    "plt.show()"
   ]
  },
  {
   "cell_type": "markdown",
   "metadata": {},
   "source": [
    "#### Converting data to pytorch tensors\n",
    "By defualt requires_grad = False"
   ]
  },
  {
   "cell_type": "code",
   "execution_count": 5,
   "metadata": {},
   "outputs": [
    {
     "name": "stdout",
     "output_type": "stream",
     "text": [
      "requires_grad for X_train:  False\n",
      "requires_grad for Y_train:  False\n"
     ]
    }
   ],
   "source": [
    "#convert to tensor\n",
    "X_train = torch.from_numpy(x_train) \n",
    "Y_train = torch.from_numpy(y_train)\n",
    "#pring grad property\n",
    "print('requires_grad for X_train: ', X_train.requires_grad)\n",
    "print('requires_grad for Y_train: ', Y_train.requires_grad)"
   ]
  },
  {
   "cell_type": "markdown",
   "metadata": {},
   "source": [
    "#### Set the details for our neural network\n",
    "Input, output and hidden layer sizes plus the learning rate"
   ]
  },
  {
   "cell_type": "code",
   "execution_count": 6,
   "metadata": {},
   "outputs": [],
   "source": [
    "input_size = 1 \n",
    "hidden_size = 1\n",
    "output_size = 1"
   ]
  },
  {
   "cell_type": "markdown",
   "metadata": {},
   "source": [
    "#### Create random Tensors for weights.<br>\n",
    "Setting requires_grad=True indicates that we want to compute gradients with respect to these Tensors during the backward pass"
   ]
  },
  {
   "cell_type": "code",
   "execution_count": 7,
   "metadata": {},
   "outputs": [
    {
     "data": {
      "text/plain": [
       "torch.Size([1, 1])"
      ]
     },
     "execution_count": 7,
     "metadata": {},
     "output_type": "execute_result"
    }
   ],
   "source": [
    "#manual construction of layers\n",
    "#weights for input to NN -- grad is true here\n",
    "w1 = torch.rand(input_size, \n",
    "                hidden_size, \n",
    "                \n",
    "                requires_grad=True)\n",
    "w1.shape"
   ]
  },
  {
   "cell_type": "code",
   "execution_count": 10,
   "metadata": {},
   "outputs": [
    {
     "data": {
      "text/plain": [
       "torch.Size([1, 1])"
      ]
     },
     "execution_count": 10,
     "metadata": {},
     "output_type": "execute_result"
    }
   ],
   "source": [
    "#weights for hidden layer - grad is true here\n",
    "w2 = torch.rand(hidden_size, \n",
    "                output_size, \n",
    "                \n",
    "                requires_grad=True)\n",
    "w2.shape"
   ]
  },
  {
   "cell_type": "markdown",
   "metadata": {},
   "source": [
    "## Training\n",
    "\n",
    "#### Foward Pass:\n",
    "* Predicting Y with input data X\n",
    "* finding (matrix X matrix) using .mm function, finding product of X_train and w1 and activation function is identity function\n",
    "* again doing mat product data with second weight w2\n",
    "\n",
    "#### Finding Loss:\n",
    "* Finding difference between Y_train and Y_pred by squaring the difference and then summing out, similar to nn.MSELoss \n",
    "\n",
    "\n",
    "#### For the loss_backward() function call:\n",
    "* backward pass will compute the gradient of loss with respect to all Tensors with requires_grad=True. \n",
    "* After this call w1.grad and w2.grad will be Tensors holding the gradient of the loss with respect to w1 and w2 respectively.\n",
    "\n",
    "#### Manually updating the weights\n",
    "* weights have requires_grad=True, but we don't need to track this in autograd. So will wrap it in torch.no_grad\n",
    "* reducing weight with multiple of learning rate and gradient\n",
    "* manually zero the weight gradients after updating weights"
   ]
  },
  {
   "cell_type": "code",
   "execution_count": 11,
   "metadata": {},
   "outputs": [],
   "source": [
    "#design hyperparameter - step size towards next value\n",
    "learning_rate = 1e-6"
   ]
  },
  {
   "cell_type": "code",
   "execution_count": 12,
   "metadata": {},
   "outputs": [],
   "source": [
    "# Start at 10. Change this to 100, 1000 and 3000 and run the code all the way to the plot at the bottom\n",
    "#loop is the training iterations/epochs\n",
    "for iter in range(1, 10):\n",
    "    \n",
    "    y_pred = X_train.mm(w1).mm(w2) #forward pass for prediction\n",
    "    loss = (y_pred - Y_train).pow(2).sum() #loss function - mean square error\n",
    "    \n",
    "    if iter % 50 ==0:\n",
    "        print(iter, loss.item()) #print ou loss every 50 epochs\n",
    "        #to check for convergence\n",
    "        \n",
    "    loss.backward() #calculates gradients for the tesnors w2 and w1\n",
    "    \n",
    "    with torch.no_grad(): #update the weights\n",
    "        #don't track gradients during this step\n",
    "        w1 -= learning_rate * w1.grad #modify the weight tensor by the gradient\n",
    "        w2 -= learning_rate * w2.grad\n",
    "        w1.grad.zero_()#re-initialize the gradients for the next pass\n",
    "        w2.grad.zero_()"
   ]
  },
  {
   "cell_type": "code",
   "execution_count": 13,
   "metadata": {},
   "outputs": [
    {
     "name": "stdout",
     "output_type": "stream",
     "text": [
      "w1:  tensor([[0.7632]], requires_grad=True)\n",
      "w2:  tensor([[0.3711]], requires_grad=True)\n"
     ]
    }
   ],
   "source": [
    "#final wights after all loops\n",
    "print ('w1: ', w1)\n",
    "print ('w2: ', w2)"
   ]
  },
  {
   "cell_type": "markdown",
   "metadata": {},
   "source": [
    "#### Checking the output\n",
    "use the trained model for output using train data to see if it was close"
   ]
  },
  {
   "cell_type": "markdown",
   "metadata": {},
   "source": [
    "Converting data into a tensor"
   ]
  },
  {
   "cell_type": "code",
   "execution_count": 14,
   "metadata": {},
   "outputs": [
    {
     "data": {
      "text/plain": [
       "tensor([[ 4.7000],\n",
       "        [ 2.4000],\n",
       "        [ 7.5000],\n",
       "        [ 7.1000],\n",
       "        [ 4.3000],\n",
       "        [ 7.8160],\n",
       "        [ 8.9000],\n",
       "        [ 5.2000],\n",
       "        [ 8.5900],\n",
       "        [ 2.1000],\n",
       "        [ 8.0000],\n",
       "        [10.0000],\n",
       "        [ 4.5000],\n",
       "        [ 6.0000],\n",
       "        [ 4.0000]])"
      ]
     },
     "execution_count": 14,
     "metadata": {},
     "output_type": "execute_result"
    }
   ],
   "source": [
    "\n",
    "x_train_tensor = torch.from_numpy(x_train)\n",
    "x_train_tensor"
   ]
  },
  {
   "cell_type": "markdown",
   "metadata": {},
   "source": [
    "#### Get the predicted values using the weights \n",
    "Using final weights calculated from our training in order to get the predicted values"
   ]
  },
  {
   "cell_type": "code",
   "execution_count": 15,
   "metadata": {},
   "outputs": [
    {
     "data": {
      "text/plain": [
       "tensor([[1.3311],\n",
       "        [0.6797],\n",
       "        [2.1241],\n",
       "        [2.0108],\n",
       "        [1.2178],\n",
       "        [2.2136],\n",
       "        [2.5205],\n",
       "        [1.4727],\n",
       "        [2.4328],\n",
       "        [0.5947],\n",
       "        [2.2657],\n",
       "        [2.8321],\n",
       "        [1.2744],\n",
       "        [1.6992],\n",
       "        [1.1328]], grad_fn=<MmBackward>)"
      ]
     },
     "execution_count": 15,
     "metadata": {},
     "output_type": "execute_result"
    }
   ],
   "source": [
    "#matrix multiply weights by input tensor to get predictions\n",
    "predicted_in_tensor = x_train_tensor.mm(w1).mm(w2)\n",
    "predicted_in_tensor"
   ]
  },
  {
   "cell_type": "markdown",
   "metadata": {},
   "source": [
    "#### Convert the prediction to a numpy array\n",
    "This will be used to plot the regression line in a plot"
   ]
  },
  {
   "cell_type": "code",
   "execution_count": 16,
   "metadata": {},
   "outputs": [
    {
     "data": {
      "text/plain": [
       "array([[1.331076  ],\n",
       "       [0.67969847],\n",
       "       [2.1240575 ],\n",
       "       [2.0107744 ],\n",
       "       [1.2177931 ],\n",
       "       [2.2135513 ],\n",
       "       [2.5205483 ],\n",
       "       [1.4726799 ],\n",
       "       [2.432754  ],\n",
       "       [0.5947361 ],\n",
       "       [2.2656615 ],\n",
       "       [2.8320768 ],\n",
       "       [1.2744346 ],\n",
       "       [1.6992462 ],\n",
       "       [1.1328307 ]], dtype=float32)"
      ]
     },
     "execution_count": 16,
     "metadata": {},
     "output_type": "execute_result"
    }
   ],
   "source": [
    "#detach predictions from computation graph and convert to numpy array\n",
    "predicted = predicted_in_tensor.detach().numpy()\n",
    "predicted"
   ]
  },
  {
   "cell_type": "markdown",
   "metadata": {},
   "source": [
    "#### Plotting\n",
    "Our training has produced a rather accurate regression line"
   ]
  },
  {
   "cell_type": "code",
   "execution_count": 17,
   "metadata": {},
   "outputs": [
    {
     "data": {
      "image/png": "[encoded data removed]",
      "text/plain": [
       "<Figure size 864x576 with 1 Axes>"
      ]
     },
     "metadata": {
      "needs_background": "light"
     },
     "output_type": "display_data"
    }
   ],
   "source": [
    "plt.figure(figsize=(12, 8))\n",
    "\n",
    "plt.scatter(x_train, y_train, label = 'Original data', s=250, c='g') \n",
    "\n",
    "plt.plot(x_train, predicted, label = 'Fitted line ')\n",
    "\n",
    "plt.legend() \n",
    "\n",
    "plt.show()\n",
    "#not a great match b/c didn't train long enough"
   ]
  },
  {
   "cell_type": "code",
   "execution_count": null,
   "metadata": {},
   "outputs": [],
   "source": []
  },
  {
   "cell_type": "markdown",
   "metadata": {
    "collapsed": true
   },
   "source": [
    "# re-do with training for 1000 epochs"
   ]
  },
  {
   "cell_type": "code",
   "execution_count": 24,
   "metadata": {},
   "outputs": [
    {
     "name": "stdout",
     "output_type": "stream",
     "text": [
      "50 10.292611122131348\n",
      "100 9.731087684631348\n",
      "150 9.215676307678223\n",
      "200 8.74320125579834\n",
      "250 8.310644149780273\n",
      "300 7.915120601654053\n",
      "350 7.553880214691162\n",
      "400 7.224338531494141\n",
      "450 6.924039840698242\n",
      "500 6.650661468505859\n",
      "550 6.402080535888672\n",
      "600 6.176258087158203\n",
      "650 5.97130823135376\n",
      "700 5.785462856292725\n",
      "750 5.617093563079834\n",
      "800 5.464677333831787\n",
      "850 5.326816082000732\n",
      "900 5.202212810516357\n",
      "950 5.089678764343262\n"
     ]
    }
   ],
   "source": [
    "# Start at 10. Change this to 100, 1000 and 3000 and run the code all the way to the plot at the bottom\n",
    "#loop is the training iterations/epochs\n",
    "for iter in range(1, 1000):\n",
    "    \n",
    "    y_pred = X_train.mm(w1).mm(w2) #forward pass for prediction\n",
    "    loss = (y_pred - Y_train).pow(2).sum() #loss function - mean square error\n",
    "    \n",
    "    if iter % 50 ==0:\n",
    "        print(iter, loss.item()) #print ou loss every 50 epochs\n",
    "        #to check for convergence\n",
    "        \n",
    "    loss.backward() #calculates gradients for the tesnors w2 and w1\n",
    "    \n",
    "    with torch.no_grad(): #update the weights\n",
    "        #don't track gradients during this step\n",
    "        w1 -= learning_rate * w1.grad #modify the weight tensor by the gradient\n",
    "        w2 -= learning_rate * w2.grad\n",
    "        w1.grad.zero_()#re-initialize the gradients for the next pass\n",
    "        w2.grad.zero_()"
   ]
  },
  {
   "cell_type": "code",
   "execution_count": 25,
   "metadata": {},
   "outputs": [
    {
     "name": "stdout",
     "output_type": "stream",
     "text": [
      "w1:  tensor([[0.8029]], requires_grad=True)\n",
      "w2:  tensor([[0.4471]], requires_grad=True)\n"
     ]
    }
   ],
   "source": [
    "#final wights after all loops\n",
    "print ('w1: ', w1)\n",
    "print ('w2: ', w2)"
   ]
  },
  {
   "cell_type": "markdown",
   "metadata": {},
   "source": [
    "#### Checking the output\n",
    "use the trained model for output using train data to see if it was close"
   ]
  },
  {
   "cell_type": "markdown",
   "metadata": {},
   "source": [
    "Converting data into a tensor"
   ]
  },
  {
   "cell_type": "code",
   "execution_count": 26,
   "metadata": {},
   "outputs": [
    {
     "data": {
      "text/plain": [
       "tensor([[ 4.7000],\n",
       "        [ 2.4000],\n",
       "        [ 7.5000],\n",
       "        [ 7.1000],\n",
       "        [ 4.3000],\n",
       "        [ 7.8160],\n",
       "        [ 8.9000],\n",
       "        [ 5.2000],\n",
       "        [ 8.5900],\n",
       "        [ 2.1000],\n",
       "        [ 8.0000],\n",
       "        [10.0000],\n",
       "        [ 4.5000],\n",
       "        [ 6.0000],\n",
       "        [ 4.0000]])"
      ]
     },
     "execution_count": 26,
     "metadata": {},
     "output_type": "execute_result"
    }
   ],
   "source": [
    "\n",
    "x_train_tensor = torch.from_numpy(x_train)\n",
    "x_train_tensor"
   ]
  },
  {
   "cell_type": "markdown",
   "metadata": {},
   "source": [
    "#### Get the predicted values using the weights \n",
    "Using final weights calculated from our training in order to get the predicted values"
   ]
  },
  {
   "cell_type": "code",
   "execution_count": 27,
   "metadata": {},
   "outputs": [
    {
     "data": {
      "text/plain": [
       "tensor([[1.6874],\n",
       "        [0.8616],\n",
       "        [2.6926],\n",
       "        [2.5490],\n",
       "        [1.5438],\n",
       "        [2.8061],\n",
       "        [3.1952],\n",
       "        [1.8669],\n",
       "        [3.0839],\n",
       "        [0.7539],\n",
       "        [2.8721],\n",
       "        [3.5902],\n",
       "        [1.6156],\n",
       "        [2.1541],\n",
       "        [1.4361]], grad_fn=<MmBackward>)"
      ]
     },
     "execution_count": 27,
     "metadata": {},
     "output_type": "execute_result"
    }
   ],
   "source": [
    "#matrix multiply weights by input tensor to get predictions\n",
    "predicted_in_tensor = x_train_tensor.mm(w1).mm(w2)\n",
    "predicted_in_tensor"
   ]
  },
  {
   "cell_type": "markdown",
   "metadata": {},
   "source": [
    "#### Convert the prediction to a numpy array\n",
    "This will be used to plot the regression line in a plot"
   ]
  },
  {
   "cell_type": "code",
   "execution_count": 28,
   "metadata": {},
   "outputs": [
    {
     "data": {
      "text/plain": [
       "array([[1.6873711],\n",
       "       [0.8616364],\n",
       "       [2.6926136],\n",
       "       [2.5490077],\n",
       "       [1.5437653],\n",
       "       [2.8060625],\n",
       "       [3.1952345],\n",
       "       [1.8668786],\n",
       "       [3.0839403],\n",
       "       [0.7539318],\n",
       "       [2.8721213],\n",
       "       [3.5901515],\n",
       "       [1.6155682],\n",
       "       [2.154091 ],\n",
       "       [1.4360607]], dtype=float32)"
      ]
     },
     "execution_count": 28,
     "metadata": {},
     "output_type": "execute_result"
    }
   ],
   "source": [
    "#detach predictions from computation graph and convert to numpy array\n",
    "predicted = predicted_in_tensor.detach().numpy()\n",
    "predicted"
   ]
  },
  {
   "cell_type": "markdown",
   "metadata": {},
   "source": [
    "#### Plotting\n",
    "Our training has produced a rather accurate regression line"
   ]
  },
  {
   "cell_type": "code",
   "execution_count": 29,
   "metadata": {},
   "outputs": [
    {
     "data": {
      "image/png": "[encoded data removed]",
      "text/plain": [
       "<Figure size 864x576 with 1 Axes>"
      ]
     },
     "metadata": {
      "needs_background": "light"
     },
     "output_type": "display_data"
    }
   ],
   "source": [
    "plt.figure(figsize=(12, 8))\n",
    "\n",
    "plt.scatter(x_train, y_train, label = 'Original data', s=250, c='g') \n",
    "\n",
    "plt.plot(x_train, predicted, label = 'Fitted line ')\n",
    "\n",
    "plt.legend() \n",
    "\n",
    "plt.show()\n",
    "#still not great with 100 iterations, okay with 100 iterations"
   ]
  },
  {
   "cell_type": "code",
   "execution_count": null,
   "metadata": {},
   "outputs": [],
   "source": []
  },
  {
   "cell_type": "markdown",
   "metadata": {
    "collapsed": true
   },
   "source": [
    "# re-do with training for 3000 epochs"
   ]
  },
  {
   "cell_type": "code",
   "execution_count": 31,
   "metadata": {
    "scrolled": true
   },
   "outputs": [
    {
     "name": "stdout",
     "output_type": "stream",
     "text": [
      "50 4.177831649780273\n",
      "100 4.168377876281738\n",
      "150 4.1599249839782715\n",
      "200 4.152368068695068\n",
      "250 4.145613670349121\n",
      "300 4.139576435089111\n",
      "350 4.134183406829834\n",
      "400 4.129364490509033\n",
      "450 4.125060081481934\n",
      "500 4.121216773986816\n",
      "550 4.117784023284912\n",
      "600 4.114718914031982\n",
      "650 4.111982822418213\n",
      "700 4.1095404624938965\n",
      "750 4.107360363006592\n",
      "800 4.105413436889648\n",
      "850 4.103677272796631\n",
      "900 4.102128982543945\n",
      "950 4.1007466316223145\n",
      "1000 4.099512577056885\n",
      "1050 4.098412036895752\n",
      "1100 4.097430229187012\n",
      "1150 4.096555709838867\n",
      "1200 4.095774173736572\n",
      "1250 4.095078945159912\n",
      "1300 4.094457149505615\n",
      "1350 4.093903541564941\n",
      "1400 4.093409538269043\n",
      "1450 4.09296989440918\n",
      "1500 4.092577934265137\n",
      "1550 4.092227935791016\n",
      "1600 4.091915607452393\n",
      "1650 4.091637134552002\n",
      "1700 4.091389179229736\n",
      "1750 4.091168403625488\n",
      "1800 4.09097146987915\n",
      "1850 4.090795516967773\n",
      "1900 4.090639114379883\n",
      "1950 4.090500354766846\n",
      "2000 4.090374946594238\n",
      "2050 4.090265274047852\n",
      "2100 4.090165138244629\n",
      "2150 4.090078353881836\n",
      "2200 4.089999198913574\n",
      "2250 4.089929103851318\n",
      "2300 4.089866638183594\n",
      "2350 4.0898118019104\n",
      "2400 4.089762210845947\n",
      "2450 4.089717864990234\n",
      "2500 4.08967924118042\n",
      "2550 4.0896430015563965\n",
      "2600 4.0896124839782715\n",
      "2650 4.089584827423096\n",
      "2700 4.089560031890869\n",
      "2750 4.089537143707275\n",
      "2800 4.0895185470581055\n",
      "2850 4.08950138092041\n",
      "2900 4.089484691619873\n",
      "2950 4.089470863342285\n"
     ]
    }
   ],
   "source": [
    "# Start at 10. Change this to 100, 1000 and 3000 and run the code all the way to the plot at the bottom\n",
    "#loop is the training iterations/epochs\n",
    "for iter in range(1, 3000):\n",
    "    \n",
    "    y_pred = X_train.mm(w1).mm(w2) #forward pass for prediction\n",
    "    loss = (y_pred - Y_train).pow(2).sum() #loss function - mean square error\n",
    "    \n",
    "    if iter % 50 ==0:\n",
    "        print(iter, loss.item()) #print ou loss every 50 epochs\n",
    "        #to check for convergence\n",
    "        \n",
    "    loss.backward() #calculates gradients for the tesnors w2 and w1\n",
    "    \n",
    "    with torch.no_grad(): #update the weights\n",
    "        #don't track gradients during this step\n",
    "        w1 -= learning_rate * w1.grad #modify the weight tensor by the gradient\n",
    "        w2 -= learning_rate * w2.grad\n",
    "        w1.grad.zero_()#re-initialize the gradients for the next pass\n",
    "        w2.grad.zero_()"
   ]
  },
  {
   "cell_type": "code",
   "execution_count": 32,
   "metadata": {},
   "outputs": [
    {
     "name": "stdout",
     "output_type": "stream",
     "text": [
      "w1:  tensor([[0.8227]], requires_grad=True)\n",
      "w2:  tensor([[0.4817]], requires_grad=True)\n"
     ]
    }
   ],
   "source": [
    "#final wights after all loops\n",
    "print ('w1: ', w1)\n",
    "print ('w2: ', w2)"
   ]
  },
  {
   "cell_type": "markdown",
   "metadata": {},
   "source": [
    "#### Checking the output\n",
    "use the trained model for output using train data to see if it was close"
   ]
  },
  {
   "cell_type": "markdown",
   "metadata": {},
   "source": [
    "Converting data into a tensor"
   ]
  },
  {
   "cell_type": "code",
   "execution_count": 33,
   "metadata": {},
   "outputs": [
    {
     "data": {
      "text/plain": [
       "tensor([[ 4.7000],\n",
       "        [ 2.4000],\n",
       "        [ 7.5000],\n",
       "        [ 7.1000],\n",
       "        [ 4.3000],\n",
       "        [ 7.8160],\n",
       "        [ 8.9000],\n",
       "        [ 5.2000],\n",
       "        [ 8.5900],\n",
       "        [ 2.1000],\n",
       "        [ 8.0000],\n",
       "        [10.0000],\n",
       "        [ 4.5000],\n",
       "        [ 6.0000],\n",
       "        [ 4.0000]])"
      ]
     },
     "execution_count": 33,
     "metadata": {},
     "output_type": "execute_result"
    }
   ],
   "source": [
    "\n",
    "x_train_tensor = torch.from_numpy(x_train)\n",
    "x_train_tensor"
   ]
  },
  {
   "cell_type": "markdown",
   "metadata": {},
   "source": [
    "#### Get the predicted values using the weights \n",
    "Using final weights calculated from our training in order to get the predicted values"
   ]
  },
  {
   "cell_type": "code",
   "execution_count": 34,
   "metadata": {},
   "outputs": [
    {
     "data": {
      "text/plain": [
       "tensor([[1.8623],\n",
       "        [0.9510],\n",
       "        [2.9718],\n",
       "        [2.8133],\n",
       "        [1.7038],\n",
       "        [3.0970],\n",
       "        [3.5266],\n",
       "        [2.0605],\n",
       "        [3.4037],\n",
       "        [0.8321],\n",
       "        [3.1699],\n",
       "        [3.9624],\n",
       "        [1.7831],\n",
       "        [2.3775],\n",
       "        [1.5850]], grad_fn=<MmBackward>)"
      ]
     },
     "execution_count": 34,
     "metadata": {},
     "output_type": "execute_result"
    }
   ],
   "source": [
    "#matrix multiply weights by input tensor to get predictions\n",
    "predicted_in_tensor = x_train_tensor.mm(w1).mm(w2)\n",
    "predicted_in_tensor"
   ]
  },
  {
   "cell_type": "markdown",
   "metadata": {},
   "source": [
    "#### Convert the prediction to a numpy array\n",
    "This will be used to plot the regression line in a plot"
   ]
  },
  {
   "cell_type": "code",
   "execution_count": 35,
   "metadata": {},
   "outputs": [
    {
     "data": {
      "text/plain": [
       "array([[1.8623409 ],\n",
       "       [0.95098275],\n",
       "       [2.9718208 ],\n",
       "       [2.8133235 ],\n",
       "       [1.7038441 ],\n",
       "       [3.0970335 ],\n",
       "       [3.5265605 ],\n",
       "       [2.0604625 ],\n",
       "       [3.4037256 ],\n",
       "       [0.83210975],\n",
       "       [3.1699421 ],\n",
       "       [3.9624279 ],\n",
       "       [1.7830925 ],\n",
       "       [2.3774567 ],\n",
       "       [1.5849711 ]], dtype=float32)"
      ]
     },
     "execution_count": 35,
     "metadata": {},
     "output_type": "execute_result"
    }
   ],
   "source": [
    "#detach predictions from computation graph and convert to numpy array\n",
    "predicted = predicted_in_tensor.detach().numpy()\n",
    "predicted"
   ]
  },
  {
   "cell_type": "markdown",
   "metadata": {},
   "source": [
    "#### Plotting\n",
    "Our training has produced a rather accurate regression line"
   ]
  },
  {
   "cell_type": "code",
   "execution_count": 36,
   "metadata": {},
   "outputs": [
    {
     "data": {
      "image/png": "[encoded data removed]",
      "text/plain": [
       "<Figure size 864x576 with 1 Axes>"
      ]
     },
     "metadata": {
      "needs_background": "light"
     },
     "output_type": "display_data"
    }
   ],
   "source": [
    "plt.figure(figsize=(12, 8))\n",
    "\n",
    "plt.scatter(x_train, y_train, label = 'Original data', s=250, c='g') \n",
    "\n",
    "plt.plot(x_train, predicted, label = 'Fitted line ')\n",
    "\n",
    "plt.legend() \n",
    "\n",
    "plt.show()\n",
    "#still not great with 100 iterations, okay with 100 iterations\n",
    "#3000 iterations ~ 'perfect' per training"
   ]
  },
  {
   "cell_type": "code",
   "execution_count": null,
   "metadata": {},
   "outputs": [],
   "source": []
  }
 ],
 "metadata": {
  "kernelspec": {
   "display_name": "Python 3",
   "language": "python",
   "name": "python3"
  },
  "language_info": {
   "codemirror_mode": {
    "name": "ipython",
    "version": 3
   },
   "file_extension": ".py",
   "mimetype": "text/x-python",
   "name": "python",
   "nbconvert_exporter": "python",
   "pygments_lexer": "ipython3",
   "version": "3.8.5"
  }
 },
 "nbformat": 4,
 "nbformat_minor": 2
}
