{
 "cells": [
  {
   "cell_type": "code",
   "execution_count": 1,
   "metadata": {},
   "outputs": [],
   "source": [
    "import numpy as np \n",
    "import torch\n",
    "import torch.nn as nn"
   ]
  },
  {
   "cell_type": "code",
   "execution_count": 2,
   "metadata": {},
   "outputs": [],
   "source": [
    "W = torch.randn(6)\n",
    "\n",
    "x = torch.tensor([10.0, 10.0, 10.0, 10.0, 10.0, 10.0])\n",
    "\n",
    "b = torch.tensor(3)"
   ]
  },
  {
   "cell_type": "code",
   "execution_count": 3,
   "metadata": {},
   "outputs": [
    {
     "data": {
      "text/plain": [
       "tensor([ 0.7629,  0.0597, -0.9506,  0.0266, -0.5785, -1.0391])"
      ]
     },
     "execution_count": 3,
     "metadata": {},
     "output_type": "execute_result"
    }
   ],
   "source": [
    "W"
   ]
  },
  {
   "cell_type": "code",
   "execution_count": 9,
   "metadata": {},
   "outputs": [
    {
     "data": {
      "text/plain": [
       "tensor([10.6292,  3.5969, -6.5055,  3.2659, -2.7850, -7.3910])"
      ]
     },
     "execution_count": 9,
     "metadata": {},
     "output_type": "execute_result"
    }
   ],
   "source": [
    "y = W*x + b #creating and executing computation graph at the same time\n",
    "y"
   ]
  },
  {
   "cell_type": "markdown",
   "metadata": {},
   "source": [
    "#### Working Dynamically"
   ]
  },
  {
   "cell_type": "code",
   "execution_count": 6,
   "metadata": {},
   "outputs": [
    {
     "data": {
      "text/plain": [
       "tensor([  7.6292,   0.5969,  -9.5055,   0.2659,  -5.7850, -10.3910])"
      ]
     },
     "execution_count": 6,
     "metadata": {},
     "output_type": "execute_result"
    }
   ],
   "source": [
    "W*x"
   ]
  },
  {
   "cell_type": "code",
   "execution_count": 7,
   "metadata": {},
   "outputs": [
    {
     "data": {
      "text/plain": [
       "tensor(3)"
      ]
     },
     "execution_count": 7,
     "metadata": {},
     "output_type": "execute_result"
    }
   ],
   "source": [
    "b"
   ]
  },
  {
   "cell_type": "code",
   "execution_count": 10,
   "metadata": {},
   "outputs": [],
   "source": [
    "#weight tensors\n",
    "W1 = torch.tensor(6)\n",
    "W2 = torch.tensor(6)\n",
    "W3 = torch.tensor(6)\n",
    "\n",
    "x1 = torch.tensor([2, 2, 2])\n",
    "x2 = torch.tensor([3, 3, 3])\n",
    "x3 = torch.tensor([4, 4, 4])\n",
    "\n",
    "b = torch.tensor(10)#bias tensor"
   ]
  },
  {
   "cell_type": "code",
   "execution_count": 11,
   "metadata": {},
   "outputs": [
    {
     "data": {
      "text/plain": [
       "(tensor(6), tensor(6), tensor(6))"
      ]
     },
     "execution_count": 11,
     "metadata": {},
     "output_type": "execute_result"
    }
   ],
   "source": [
    "W1, W2, W3"
   ]
  },
  {
   "cell_type": "code",
   "execution_count": 12,
   "metadata": {},
   "outputs": [
    {
     "data": {
      "text/plain": [
       "tensor([30, 30, 30])"
      ]
     },
     "execution_count": 12,
     "metadata": {},
     "output_type": "execute_result"
    }
   ],
   "source": [
    "intermediate_value = W1 * x1 + W2 * x2\n",
    "\n",
    "intermediate_value"
   ]
  },
  {
   "cell_type": "code",
   "execution_count": 13,
   "metadata": {},
   "outputs": [
    {
     "data": {
      "text/plain": [
       "tensor([64, 64, 64])"
      ]
     },
     "execution_count": 13,
     "metadata": {},
     "output_type": "execute_result"
    }
   ],
   "source": [
    "final_value = W1 * x1 + W2 * x2 + W3 * x3 + b\n",
    "\n",
    "final_value"
   ]
  },
  {
   "cell_type": "markdown",
   "metadata": {},
   "source": [
    "### Viewing PyTorch computation graphs\n",
    "\n",
    "https://github.com/waleedka/hiddenlayer"
   ]
  },
  {
   "cell_type": "markdown",
   "metadata": {},
   "source": [
    "#### Computation Graph"
   ]
  },
  {
   "cell_type": "code",
   "execution_count": 14,
   "metadata": {},
   "outputs": [],
   "source": [
    "import hiddenlayer as hl"
   ]
  },
  {
   "cell_type": "code",
   "execution_count": 15,
   "metadata": {},
   "outputs": [],
   "source": [
    "x_train = np.array ([[1.7], [2.5], [5.5], [7.9], [8.8],\n",
    "                     [2.4],[2.4], [8.89], [5], [4.4]],\n",
    "                    dtype = np.float32)\n",
    "\n",
    "y_train = np.array ([[1.9], [2.68], [4.22], [8.19], [9.69],\n",
    "                     [3.4],[2.6], [8.8], [5.6], [4.7]],\n",
    "                    dtype = np.float32)"
   ]
  },
  {
   "cell_type": "code",
   "execution_count": 16,
   "metadata": {},
   "outputs": [
    {
     "data": {
      "text/plain": [
       "torch.Size([10, 1])"
      ]
     },
     "execution_count": 16,
     "metadata": {},
     "output_type": "execute_result"
    }
   ],
   "source": [
    "X_train = torch.tensor(x_train)\n",
    "Y_train = torch.tensor(y_train)\n",
    "\n",
    "X_train.shape"
   ]
  },
  {
   "cell_type": "code",
   "execution_count": 17,
   "metadata": {},
   "outputs": [],
   "source": [
    "inp = 1 #input\n",
    "out = 1 #output\n",
    "\n",
    "hid = 100 #100 neurons in hidden layer"
   ]
  },
  {
   "cell_type": "code",
   "execution_count": 18,
   "metadata": {},
   "outputs": [],
   "source": [
    "model1 = torch.nn.Sequential(torch.nn.Linear(inp, hid),\n",
    "                             torch.nn.Linear(hid, out))"
   ]
  },
  {
   "cell_type": "code",
   "execution_count": 19,
   "metadata": {},
   "outputs": [
    {
     "name": "stderr",
     "output_type": "stream",
     "text": [
      "\r\n",
      "(dot.exe:9060): Pango-WARNING **: couldn't load font \"Times Not-Rotated 10\", falling back to \"Sans Not-Rotated 10\", expect ugly output.\r\n"
     ]
    },
    {
     "data": {
      "image/svg+xml": [
       "<?xml version=\"1.0\" encoding=\"UTF-8\" standalone=\"no\"?>\r\n",
       "<!DOCTYPE svg PUBLIC \"-//W3C//DTD SVG 1.1//EN\"\r\n",
       " \"http://www.w3.org/Graphics/SVG/1.1/DTD/svg11.dtd\">\r\n",
       "<!-- Generated by graphviz version 2.38.0 (20140413.2041)\r\n",
       " -->\r\n",
       "<!-- Title: %3 Pages: 1 -->\r\n",
       "<svg width=\"198pt\" height=\"116pt\"\r\n",
       " viewBox=\"0.00 0.00 198.00 116.00\" xmlns=\"http://www.w3.org/2000/svg\" xmlns:xlink=\"http://www.w3.org/1999/xlink\">\r\n",
       "<g id=\"graph0\" class=\"graph\" transform=\"scale(1 1) rotate(0) translate(72 80)\">\r\n",
       "<title>%3</title>\r\n",
       "<polygon fill=\"#ffffff\" stroke=\"none\" points=\"-72,36 -72,-80 126,-80 126,36 -72,36\"/>\r\n",
       "<!-- 595489113071551700 -->\r\n",
       "<g id=\"node1\" class=\"node\"><title>595489113071551700</title>\r\n",
       "<polygon fill=\"#e8e8e8\" stroke=\"#000000\" points=\"54,-44 0,-44 0,-0 54,-0 54,-44\"/>\r\n",
       "<text text-anchor=\"start\" x=\"12\" y=\"-28\" font-family=\"Times\" font-size=\"10.00\" fill=\"#000000\">Linear</text>\r\n",
       "<text text-anchor=\"start\" x=\"34\" y=\"-7\" font-family=\"Times\" font-size=\"10.00\" fill=\"#000000\">x2</text>\r\n",
       "</g>\r\n",
       "</g>\r\n",
       "</svg>\r\n"
      ],
      "text/plain": [
       "<hiddenlayer.graph.Graph at 0x220ce753a00>"
      ]
     },
     "execution_count": 19,
     "metadata": {},
     "output_type": "execute_result"
    }
   ],
   "source": [
    "hl.build_graph(model1, torch.zeros([10, 1])) #must feed in test data"
   ]
  },
  {
   "cell_type": "code",
   "execution_count": 24,
   "metadata": {},
   "outputs": [
    {
     "name": "stderr",
     "output_type": "stream",
     "text": [
      "\r\n",
      "(dot.exe:8964): Pango-WARNING **: couldn't load font \"Times Not-Rotated 10\", falling back to \"Sans Not-Rotated 10\", expect ugly output.\r\n"
     ]
    },
    {
     "data": {
      "image/svg+xml": [
       "<?xml version=\"1.0\" encoding=\"UTF-8\" standalone=\"no\"?>\r\n",
       "<!DOCTYPE svg PUBLIC \"-//W3C//DTD SVG 1.1//EN\"\r\n",
       " \"http://www.w3.org/Graphics/SVG/1.1/DTD/svg11.dtd\">\r\n",
       "<!-- Generated by graphviz version 2.38.0 (20140413.2041)\r\n",
       " -->\r\n",
       "<!-- Title: %3 Pages: 1 -->\r\n",
       "<svg width=\"582pt\" height=\"162pt\"\r\n",
       " viewBox=\"0.00 0.00 582.00 162.00\" xmlns=\"http://www.w3.org/2000/svg\" xmlns:xlink=\"http://www.w3.org/1999/xlink\">\r\n",
       "<g id=\"graph0\" class=\"graph\" transform=\"scale(1 1) rotate(0) translate(72 126)\">\r\n",
       "<title>%3</title>\r\n",
       "<polygon fill=\"#ffffff\" stroke=\"none\" points=\"-72,36 -72,-126 510,-126 510,36 -72,36\"/>\r\n",
       "<!-- /outputs/5 -->\r\n",
       "<g id=\"node1\" class=\"node\"><title>/outputs/5</title>\r\n",
       "<polygon fill=\"#e8e8e8\" stroke=\"#000000\" points=\"66,-90 0,-90 0,-54 66,-54 66,-90\"/>\r\n",
       "<text text-anchor=\"start\" x=\"8\" y=\"-69\" font-family=\"Times\" font-size=\"10.00\" fill=\"#000000\">Transpose</text>\r\n",
       "</g>\r\n",
       "<!-- /outputs/6 -->\r\n",
       "<g id=\"node2\" class=\"node\"><title>/outputs/6</title>\r\n",
       "<polygon fill=\"#e8e8e8\" stroke=\"#000000\" points=\"156,-90 102,-90 102,-54 156,-54 156,-90\"/>\r\n",
       "<text text-anchor=\"start\" x=\"112\" y=\"-69\" font-family=\"Times\" font-size=\"10.00\" fill=\"#000000\">MatMul</text>\r\n",
       "</g>\r\n",
       "<!-- /outputs/5&#45;&gt;/outputs/6 -->\r\n",
       "<g id=\"edge1\" class=\"edge\"><title>/outputs/5&#45;&gt;/outputs/6</title>\r\n",
       "<path fill=\"none\" stroke=\"#000000\" d=\"M66.0866,-72C74.4051,-72 83.4191,-72 91.9272,-72\"/>\r\n",
       "<polygon fill=\"#000000\" stroke=\"#000000\" points=\"91.9738,-75.5001 101.974,-72 91.9737,-68.5001 91.9738,-75.5001\"/>\r\n",
       "</g>\r\n",
       "<!-- /outputs/7 -->\r\n",
       "<g id=\"node3\" class=\"node\"><title>/outputs/7</title>\r\n",
       "<polygon fill=\"#e8e8e8\" stroke=\"#000000\" points=\"252,-90 198,-90 198,-54 252,-54 252,-90\"/>\r\n",
       "<text text-anchor=\"start\" x=\"216\" y=\"-69\" font-family=\"Times\" font-size=\"10.00\" fill=\"#000000\">Add</text>\r\n",
       "</g>\r\n",
       "<!-- /outputs/6&#45;&gt;/outputs/7 -->\r\n",
       "<g id=\"edge2\" class=\"edge\"><title>/outputs/6&#45;&gt;/outputs/7</title>\r\n",
       "<path fill=\"none\" stroke=\"#000000\" d=\"M156.184,-72C165.963,-72 177.247,-72 187.771,-72\"/>\r\n",
       "<polygon fill=\"#000000\" stroke=\"#000000\" points=\"187.956,-75.5001 197.956,-72 187.956,-68.5001 187.956,-75.5001\"/>\r\n",
       "</g>\r\n",
       "<!-- /outputs/9 -->\r\n",
       "<g id=\"node5\" class=\"node\"><title>/outputs/9</title>\r\n",
       "<polygon fill=\"#e8e8e8\" stroke=\"#000000\" points=\"348,-63 294,-63 294,-27 348,-27 348,-63\"/>\r\n",
       "<text text-anchor=\"start\" x=\"304\" y=\"-42\" font-family=\"Times\" font-size=\"10.00\" fill=\"#000000\">MatMul</text>\r\n",
       "</g>\r\n",
       "<!-- /outputs/7&#45;&gt;/outputs/9 -->\r\n",
       "<g id=\"edge3\" class=\"edge\"><title>/outputs/7&#45;&gt;/outputs/9</title>\r\n",
       "<path fill=\"none\" stroke=\"#000000\" d=\"M252.184,-64.479C262.064,-61.6411 273.483,-58.3614 284.099,-55.3119\"/>\r\n",
       "<polygon fill=\"#000000\" stroke=\"#000000\" points=\"285.311,-58.6054 293.956,-52.4807 283.379,-51.8775 285.311,-58.6054\"/>\r\n",
       "</g>\r\n",
       "<!-- /outputs/8 -->\r\n",
       "<g id=\"node4\" class=\"node\"><title>/outputs/8</title>\r\n",
       "<polygon fill=\"#e8e8e8\" stroke=\"#000000\" points=\"258,-36 192,-36 192,-0 258,-0 258,-36\"/>\r\n",
       "<text text-anchor=\"start\" x=\"200\" y=\"-15\" font-family=\"Times\" font-size=\"10.00\" fill=\"#000000\">Transpose</text>\r\n",
       "</g>\r\n",
       "<!-- /outputs/8&#45;&gt;/outputs/9 -->\r\n",
       "<g id=\"edge4\" class=\"edge\"><title>/outputs/8&#45;&gt;/outputs/9</title>\r\n",
       "<path fill=\"none\" stroke=\"#000000\" d=\"M258.087,-27.2164C266.497,-29.632 275.617,-32.2518 284.208,-34.7192\"/>\r\n",
       "<polygon fill=\"#000000\" stroke=\"#000000\" points=\"283.396,-38.1276 293.974,-37.5244 285.329,-31.3996 283.396,-38.1276\"/>\r\n",
       "</g>\r\n",
       "<!-- /outputs/10 -->\r\n",
       "<g id=\"node6\" class=\"node\"><title>/outputs/10</title>\r\n",
       "<polygon fill=\"#e8e8e8\" stroke=\"#000000\" points=\"438,-63 384,-63 384,-27 438,-27 438,-63\"/>\r\n",
       "<text text-anchor=\"start\" x=\"402\" y=\"-42\" font-family=\"Times\" font-size=\"10.00\" fill=\"#000000\">Add</text>\r\n",
       "</g>\r\n",
       "<!-- /outputs/9&#45;&gt;/outputs/10 -->\r\n",
       "<g id=\"edge5\" class=\"edge\"><title>/outputs/9&#45;&gt;/outputs/10</title>\r\n",
       "<path fill=\"none\" stroke=\"#000000\" d=\"M348.403,-45C356.393,-45 365.311,-45 373.824,-45\"/>\r\n",
       "<polygon fill=\"#000000\" stroke=\"#000000\" points=\"373.919,-48.5001 383.919,-45 373.919,-41.5001 373.919,-48.5001\"/>\r\n",
       "</g>\r\n",
       "</g>\r\n",
       "</svg>\r\n"
      ],
      "text/plain": [
       "<hiddenlayer.graph.Graph at 0x220ce77ea30>"
      ]
     },
     "execution_count": 24,
     "metadata": {},
     "output_type": "execute_result"
    }
   ],
   "source": [
    "hl.build_graph(model1, torch.zeros([1]))\n",
    "#viz is auto-expanded to show contents of each layer if only 1 data point is passed as input\n",
    "#demo shows numbers on the some ecges that are not shown here"
   ]
  },
  {
   "cell_type": "code",
   "execution_count": 22,
   "metadata": {},
   "outputs": [],
   "source": [
    "model2 = torch.nn.Sequential(torch.nn.Linear(inp, hid),\n",
    "                             torch.nn.Linear(hid, hid),\n",
    "                             torch.nn.Sigmoid(),\n",
    "                             torch.nn.Linear(hid, out))"
   ]
  },
  {
   "cell_type": "code",
   "execution_count": 23,
   "metadata": {},
   "outputs": [
    {
     "name": "stderr",
     "output_type": "stream",
     "text": [
      "\r\n",
      "(dot.exe:8088): Pango-WARNING **: couldn't load font \"Times Not-Rotated 10\", falling back to \"Sans Not-Rotated 10\", expect ugly output.\r\n"
     ]
    },
    {
     "data": {
      "image/svg+xml": [
       "<?xml version=\"1.0\" encoding=\"UTF-8\" standalone=\"no\"?>\r\n",
       "<!DOCTYPE svg PUBLIC \"-//W3C//DTD SVG 1.1//EN\"\r\n",
       " \"http://www.w3.org/Graphics/SVG/1.1/DTD/svg11.dtd\">\r\n",
       "<!-- Generated by graphviz version 2.38.0 (20140413.2041)\r\n",
       " -->\r\n",
       "<!-- Title: %3 Pages: 1 -->\r\n",
       "<svg width=\"380pt\" height=\"116pt\"\r\n",
       " viewBox=\"0.00 0.00 380.00 116.00\" xmlns=\"http://www.w3.org/2000/svg\" xmlns:xlink=\"http://www.w3.org/1999/xlink\">\r\n",
       "<g id=\"graph0\" class=\"graph\" transform=\"scale(1 1) rotate(0) translate(72 80)\">\r\n",
       "<title>%3</title>\r\n",
       "<polygon fill=\"#ffffff\" stroke=\"none\" points=\"-72,36 -72,-80 308,-80 308,36 -72,36\"/>\r\n",
       "<!-- /outputs/9 -->\r\n",
       "<g id=\"node1\" class=\"node\"><title>/outputs/9</title>\r\n",
       "<polygon fill=\"#e8e8e8\" stroke=\"#000000\" points=\"146,-40 90,-40 90,-4 146,-4 146,-40\"/>\r\n",
       "<text text-anchor=\"start\" x=\"98\" y=\"-19\" font-family=\"Times\" font-size=\"10.00\" fill=\"#000000\">Sigmoid</text>\r\n",
       "</g>\r\n",
       "<!-- /outputs/10 -->\r\n",
       "<g id=\"node2\" class=\"node\"><title>/outputs/10</title>\r\n",
       "<polygon fill=\"#e8e8e8\" stroke=\"#000000\" points=\"236,-40 182,-40 182,-4 236,-4 236,-40\"/>\r\n",
       "<text text-anchor=\"start\" x=\"194\" y=\"-19\" font-family=\"Times\" font-size=\"10.00\" fill=\"#000000\">Linear</text>\r\n",
       "</g>\r\n",
       "<!-- /outputs/9&#45;&gt;/outputs/10 -->\r\n",
       "<g id=\"edge1\" class=\"edge\"><title>/outputs/9&#45;&gt;/outputs/10</title>\r\n",
       "<path fill=\"none\" stroke=\"#000000\" d=\"M146.187,-22C154.255,-22 163.222,-22 171.768,-22\"/>\r\n",
       "<polygon fill=\"#000000\" stroke=\"#000000\" points=\"171.895,-25.5001 181.895,-22 171.895,-18.5001 171.895,-25.5001\"/>\r\n",
       "</g>\r\n",
       "<!-- 5425470033105463578 -->\r\n",
       "<g id=\"node3\" class=\"node\"><title>5425470033105463578</title>\r\n",
       "<polygon fill=\"#e8e8e8\" stroke=\"#000000\" points=\"54,-44 0,-44 0,-0 54,-0 54,-44\"/>\r\n",
       "<text text-anchor=\"start\" x=\"12\" y=\"-28\" font-family=\"Times\" font-size=\"10.00\" fill=\"#000000\">Linear</text>\r\n",
       "<text text-anchor=\"start\" x=\"34\" y=\"-7\" font-family=\"Times\" font-size=\"10.00\" fill=\"#000000\">x2</text>\r\n",
       "</g>\r\n",
       "<!-- 5425470033105463578&#45;&gt;/outputs/9 -->\r\n",
       "<g id=\"edge2\" class=\"edge\"><title>5425470033105463578&#45;&gt;/outputs/9</title>\r\n",
       "<path fill=\"none\" stroke=\"#000000\" d=\"M54.2216,-22C62.1684,-22 71.0565,-22 79.5879,-22\"/>\r\n",
       "<polygon fill=\"#000000\" stroke=\"#000000\" points=\"79.7302,-25.5001 89.7301,-22 79.7301,-18.5001 79.7302,-25.5001\"/>\r\n",
       "</g>\r\n",
       "</g>\r\n",
       "</svg>\r\n"
      ],
      "text/plain": [
       "<hiddenlayer.graph.Graph at 0x220ce78ea60>"
      ]
     },
     "execution_count": 23,
     "metadata": {},
     "output_type": "execute_result"
    }
   ],
   "source": [
    "hl.build_graph(model2, torch.zeros([10, 1]))"
   ]
  },
  {
   "cell_type": "code",
   "execution_count": 25,
   "metadata": {},
   "outputs": [
    {
     "name": "stderr",
     "output_type": "stream",
     "text": [
      "\r\n",
      "(dot.exe:9232): Pango-WARNING **: couldn't load font \"Times Not-Rotated 10\", falling back to \"Sans Not-Rotated 10\", expect ugly output.\r\n"
     ]
    },
    {
     "data": {
      "image/svg+xml": [
       "<?xml version=\"1.0\" encoding=\"UTF-8\" standalone=\"no\"?>\r\n",
       "<!DOCTYPE svg PUBLIC \"-//W3C//DTD SVG 1.1//EN\"\r\n",
       " \"http://www.w3.org/Graphics/SVG/1.1/DTD/svg11.dtd\">\r\n",
       "<!-- Generated by graphviz version 2.38.0 (20140413.2041)\r\n",
       " -->\r\n",
       "<!-- Title: %3 Pages: 1 -->\r\n",
       "<svg width=\"864pt\" height=\"189pt\"\r\n",
       " viewBox=\"0.00 0.00 864.00 189.00\" xmlns=\"http://www.w3.org/2000/svg\" xmlns:xlink=\"http://www.w3.org/1999/xlink\">\r\n",
       "<g id=\"graph0\" class=\"graph\" transform=\"scale(1 1) rotate(0) translate(72 153)\">\r\n",
       "<title>%3</title>\r\n",
       "<polygon fill=\"#ffffff\" stroke=\"none\" points=\"-72,36 -72,-153 792,-153 792,36 -72,36\"/>\r\n",
       "<!-- /outputs/7 -->\r\n",
       "<g id=\"node1\" class=\"node\"><title>/outputs/7</title>\r\n",
       "<polygon fill=\"#e8e8e8\" stroke=\"#000000\" points=\"66,-117 0,-117 0,-81 66,-81 66,-117\"/>\r\n",
       "<text text-anchor=\"start\" x=\"8\" y=\"-96\" font-family=\"Times\" font-size=\"10.00\" fill=\"#000000\">Transpose</text>\r\n",
       "</g>\r\n",
       "<!-- /outputs/8 -->\r\n",
       "<g id=\"node2\" class=\"node\"><title>/outputs/8</title>\r\n",
       "<polygon fill=\"#e8e8e8\" stroke=\"#000000\" points=\"156,-117 102,-117 102,-81 156,-81 156,-117\"/>\r\n",
       "<text text-anchor=\"start\" x=\"112\" y=\"-96\" font-family=\"Times\" font-size=\"10.00\" fill=\"#000000\">MatMul</text>\r\n",
       "</g>\r\n",
       "<!-- /outputs/7&#45;&gt;/outputs/8 -->\r\n",
       "<g id=\"edge1\" class=\"edge\"><title>/outputs/7&#45;&gt;/outputs/8</title>\r\n",
       "<path fill=\"none\" stroke=\"#000000\" d=\"M66.0866,-99C74.4051,-99 83.4191,-99 91.9272,-99\"/>\r\n",
       "<polygon fill=\"#000000\" stroke=\"#000000\" points=\"91.9738,-102.5 101.974,-99 91.9737,-95.5001 91.9738,-102.5\"/>\r\n",
       "</g>\r\n",
       "<!-- /outputs/9 -->\r\n",
       "<g id=\"node3\" class=\"node\"><title>/outputs/9</title>\r\n",
       "<polygon fill=\"#e8e8e8\" stroke=\"#000000\" points=\"252,-117 198,-117 198,-81 252,-81 252,-117\"/>\r\n",
       "<text text-anchor=\"start\" x=\"216\" y=\"-96\" font-family=\"Times\" font-size=\"10.00\" fill=\"#000000\">Add</text>\r\n",
       "</g>\r\n",
       "<!-- /outputs/8&#45;&gt;/outputs/9 -->\r\n",
       "<g id=\"edge2\" class=\"edge\"><title>/outputs/8&#45;&gt;/outputs/9</title>\r\n",
       "<path fill=\"none\" stroke=\"#000000\" d=\"M156.184,-99C165.963,-99 177.247,-99 187.771,-99\"/>\r\n",
       "<polygon fill=\"#000000\" stroke=\"#000000\" points=\"187.956,-102.5 197.956,-99 187.956,-95.5001 187.956,-102.5\"/>\r\n",
       "</g>\r\n",
       "<!-- /outputs/11 -->\r\n",
       "<g id=\"node5\" class=\"node\"><title>/outputs/11</title>\r\n",
       "<polygon fill=\"#e8e8e8\" stroke=\"#000000\" points=\"348,-90 294,-90 294,-54 348,-54 348,-90\"/>\r\n",
       "<text text-anchor=\"start\" x=\"304\" y=\"-69\" font-family=\"Times\" font-size=\"10.00\" fill=\"#000000\">MatMul</text>\r\n",
       "</g>\r\n",
       "<!-- /outputs/9&#45;&gt;/outputs/11 -->\r\n",
       "<g id=\"edge3\" class=\"edge\"><title>/outputs/9&#45;&gt;/outputs/11</title>\r\n",
       "<path fill=\"none\" stroke=\"#000000\" d=\"M252.184,-91.479C262.064,-88.6411 273.483,-85.3614 284.099,-82.3119\"/>\r\n",
       "<polygon fill=\"#000000\" stroke=\"#000000\" points=\"285.311,-85.6054 293.956,-79.4807 283.379,-78.8775 285.311,-85.6054\"/>\r\n",
       "</g>\r\n",
       "<!-- /outputs/10 -->\r\n",
       "<g id=\"node4\" class=\"node\"><title>/outputs/10</title>\r\n",
       "<polygon fill=\"#e8e8e8\" stroke=\"#000000\" points=\"258,-63 192,-63 192,-27 258,-27 258,-63\"/>\r\n",
       "<text text-anchor=\"start\" x=\"200\" y=\"-42\" font-family=\"Times\" font-size=\"10.00\" fill=\"#000000\">Transpose</text>\r\n",
       "</g>\r\n",
       "<!-- /outputs/10&#45;&gt;/outputs/11 -->\r\n",
       "<g id=\"edge4\" class=\"edge\"><title>/outputs/10&#45;&gt;/outputs/11</title>\r\n",
       "<path fill=\"none\" stroke=\"#000000\" d=\"M258.087,-54.2164C266.497,-56.632 275.617,-59.2518 284.208,-61.7192\"/>\r\n",
       "<polygon fill=\"#000000\" stroke=\"#000000\" points=\"283.396,-65.1276 293.974,-64.5244 285.329,-58.3996 283.396,-65.1276\"/>\r\n",
       "</g>\r\n",
       "<!-- /outputs/12 -->\r\n",
       "<g id=\"node6\" class=\"node\"><title>/outputs/12</title>\r\n",
       "<polygon fill=\"#e8e8e8\" stroke=\"#000000\" points=\"438,-90 384,-90 384,-54 438,-54 438,-90\"/>\r\n",
       "<text text-anchor=\"start\" x=\"402\" y=\"-69\" font-family=\"Times\" font-size=\"10.00\" fill=\"#000000\">Add</text>\r\n",
       "</g>\r\n",
       "<!-- /outputs/11&#45;&gt;/outputs/12 -->\r\n",
       "<g id=\"edge5\" class=\"edge\"><title>/outputs/11&#45;&gt;/outputs/12</title>\r\n",
       "<path fill=\"none\" stroke=\"#000000\" d=\"M348.403,-72C356.393,-72 365.311,-72 373.824,-72\"/>\r\n",
       "<polygon fill=\"#000000\" stroke=\"#000000\" points=\"373.919,-75.5001 383.919,-72 373.919,-68.5001 373.919,-75.5001\"/>\r\n",
       "</g>\r\n",
       "<!-- /outputs/13 -->\r\n",
       "<g id=\"node7\" class=\"node\"><title>/outputs/13</title>\r\n",
       "<polygon fill=\"#e8e8e8\" stroke=\"#000000\" points=\"535,-90 479,-90 479,-54 535,-54 535,-90\"/>\r\n",
       "<text text-anchor=\"start\" x=\"487\" y=\"-69\" font-family=\"Times\" font-size=\"10.00\" fill=\"#000000\">Sigmoid</text>\r\n",
       "</g>\r\n",
       "<!-- /outputs/12&#45;&gt;/outputs/13 -->\r\n",
       "<g id=\"edge6\" class=\"edge\"><title>/outputs/12&#45;&gt;/outputs/13</title>\r\n",
       "<path fill=\"none\" stroke=\"#000000\" d=\"M438.184,-72C447.619,-72 458.456,-72 468.658,-72\"/>\r\n",
       "<polygon fill=\"#000000\" stroke=\"#000000\" points=\"468.975,-75.5001 478.975,-72 468.975,-68.5001 468.975,-75.5001\"/>\r\n",
       "</g>\r\n",
       "<!-- /outputs/15 -->\r\n",
       "<g id=\"node9\" class=\"node\"><title>/outputs/15</title>\r\n",
       "<polygon fill=\"#e8e8e8\" stroke=\"#000000\" points=\"630,-63 576,-63 576,-27 630,-27 630,-63\"/>\r\n",
       "<text text-anchor=\"start\" x=\"586\" y=\"-42\" font-family=\"Times\" font-size=\"10.00\" fill=\"#000000\">MatMul</text>\r\n",
       "</g>\r\n",
       "<!-- /outputs/13&#45;&gt;/outputs/15 -->\r\n",
       "<g id=\"edge7\" class=\"edge\"><title>/outputs/13&#45;&gt;/outputs/15</title>\r\n",
       "<path fill=\"none\" stroke=\"#000000\" d=\"M535.189,-64.1905C544.786,-61.4338 555.732,-58.2896 565.948,-55.3554\"/>\r\n",
       "<polygon fill=\"#000000\" stroke=\"#000000\" points=\"567.198,-58.6379 575.843,-52.5132 565.265,-51.91 567.198,-58.6379\"/>\r\n",
       "</g>\r\n",
       "<!-- /outputs/14 -->\r\n",
       "<g id=\"node8\" class=\"node\"><title>/outputs/14</title>\r\n",
       "<polygon fill=\"#e8e8e8\" stroke=\"#000000\" points=\"540,-36 474,-36 474,-0 540,-0 540,-36\"/>\r\n",
       "<text text-anchor=\"start\" x=\"482\" y=\"-15\" font-family=\"Times\" font-size=\"10.00\" fill=\"#000000\">Transpose</text>\r\n",
       "</g>\r\n",
       "<!-- /outputs/14&#45;&gt;/outputs/15 -->\r\n",
       "<g id=\"edge8\" class=\"edge\"><title>/outputs/14&#45;&gt;/outputs/15</title>\r\n",
       "<path fill=\"none\" stroke=\"#000000\" d=\"M540.087,-27.2164C548.497,-29.632 557.617,-32.2518 566.208,-34.7192\"/>\r\n",
       "<polygon fill=\"#000000\" stroke=\"#000000\" points=\"565.396,-38.1276 575.974,-37.5244 567.329,-31.3996 565.396,-38.1276\"/>\r\n",
       "</g>\r\n",
       "<!-- /outputs/16 -->\r\n",
       "<g id=\"node10\" class=\"node\"><title>/outputs/16</title>\r\n",
       "<polygon fill=\"#e8e8e8\" stroke=\"#000000\" points=\"720,-63 666,-63 666,-27 720,-27 720,-63\"/>\r\n",
       "<text text-anchor=\"start\" x=\"684\" y=\"-42\" font-family=\"Times\" font-size=\"10.00\" fill=\"#000000\">Add</text>\r\n",
       "</g>\r\n",
       "<!-- /outputs/15&#45;&gt;/outputs/16 -->\r\n",
       "<g id=\"edge9\" class=\"edge\"><title>/outputs/15&#45;&gt;/outputs/16</title>\r\n",
       "<path fill=\"none\" stroke=\"#000000\" d=\"M630.403,-45C638.393,-45 647.311,-45 655.824,-45\"/>\r\n",
       "<polygon fill=\"#000000\" stroke=\"#000000\" points=\"655.919,-48.5001 665.919,-45 655.919,-41.5001 655.919,-48.5001\"/>\r\n",
       "</g>\r\n",
       "</g>\r\n",
       "</svg>\r\n"
      ],
      "text/plain": [
       "<hiddenlayer.graph.Graph at 0x220ce79a7f0>"
      ]
     },
     "execution_count": 25,
     "metadata": {},
     "output_type": "execute_result"
    }
   ],
   "source": [
    "hl.build_graph(model2, torch.zeros([1]))"
   ]
  },
  {
   "cell_type": "code",
   "execution_count": 26,
   "metadata": {},
   "outputs": [],
   "source": [
    "inp = 2\n",
    "out = 1\n",
    "\n",
    "hid = 100"
   ]
  },
  {
   "cell_type": "code",
   "execution_count": 27,
   "metadata": {},
   "outputs": [],
   "source": [
    "model3 = torch.nn.Sequential(torch.nn.Linear(inp, hid),\n",
    "                             torch.nn.Linear(hid, hid),\n",
    "                             torch.nn.Sigmoid(),\n",
    "                             torch.nn.Linear(hid, out))"
   ]
  },
  {
   "cell_type": "code",
   "execution_count": 28,
   "metadata": {},
   "outputs": [
    {
     "name": "stderr",
     "output_type": "stream",
     "text": [
      "\r\n",
      "(dot.exe:5360): Pango-WARNING **: couldn't load font \"Times Not-Rotated 10\", falling back to \"Sans Not-Rotated 10\", expect ugly output.\r\n"
     ]
    },
    {
     "data": {
      "image/svg+xml": [
       "<?xml version=\"1.0\" encoding=\"UTF-8\" standalone=\"no\"?>\r\n",
       "<!DOCTYPE svg PUBLIC \"-//W3C//DTD SVG 1.1//EN\"\r\n",
       " \"http://www.w3.org/Graphics/SVG/1.1/DTD/svg11.dtd\">\r\n",
       "<!-- Generated by graphviz version 2.38.0 (20140413.2041)\r\n",
       " -->\r\n",
       "<!-- Title: %3 Pages: 1 -->\r\n",
       "<svg width=\"380pt\" height=\"116pt\"\r\n",
       " viewBox=\"0.00 0.00 380.00 116.00\" xmlns=\"http://www.w3.org/2000/svg\" xmlns:xlink=\"http://www.w3.org/1999/xlink\">\r\n",
       "<g id=\"graph0\" class=\"graph\" transform=\"scale(1 1) rotate(0) translate(72 80)\">\r\n",
       "<title>%3</title>\r\n",
       "<polygon fill=\"#ffffff\" stroke=\"none\" points=\"-72,36 -72,-80 308,-80 308,36 -72,36\"/>\r\n",
       "<!-- /outputs/9 -->\r\n",
       "<g id=\"node1\" class=\"node\"><title>/outputs/9</title>\r\n",
       "<polygon fill=\"#e8e8e8\" stroke=\"#000000\" points=\"146,-40 90,-40 90,-4 146,-4 146,-40\"/>\r\n",
       "<text text-anchor=\"start\" x=\"98\" y=\"-19\" font-family=\"Times\" font-size=\"10.00\" fill=\"#000000\">Sigmoid</text>\r\n",
       "</g>\r\n",
       "<!-- /outputs/10 -->\r\n",
       "<g id=\"node2\" class=\"node\"><title>/outputs/10</title>\r\n",
       "<polygon fill=\"#e8e8e8\" stroke=\"#000000\" points=\"236,-40 182,-40 182,-4 236,-4 236,-40\"/>\r\n",
       "<text text-anchor=\"start\" x=\"194\" y=\"-19\" font-family=\"Times\" font-size=\"10.00\" fill=\"#000000\">Linear</text>\r\n",
       "</g>\r\n",
       "<!-- /outputs/9&#45;&gt;/outputs/10 -->\r\n",
       "<g id=\"edge1\" class=\"edge\"><title>/outputs/9&#45;&gt;/outputs/10</title>\r\n",
       "<path fill=\"none\" stroke=\"#000000\" d=\"M146.187,-22C154.255,-22 163.222,-22 171.768,-22\"/>\r\n",
       "<polygon fill=\"#000000\" stroke=\"#000000\" points=\"171.895,-25.5001 181.895,-22 171.895,-18.5001 171.895,-25.5001\"/>\r\n",
       "</g>\r\n",
       "<!-- 15807135199866188236 -->\r\n",
       "<g id=\"node3\" class=\"node\"><title>15807135199866188236</title>\r\n",
       "<polygon fill=\"#e8e8e8\" stroke=\"#000000\" points=\"54,-44 0,-44 0,-0 54,-0 54,-44\"/>\r\n",
       "<text text-anchor=\"start\" x=\"12\" y=\"-28\" font-family=\"Times\" font-size=\"10.00\" fill=\"#000000\">Linear</text>\r\n",
       "<text text-anchor=\"start\" x=\"34\" y=\"-7\" font-family=\"Times\" font-size=\"10.00\" fill=\"#000000\">x2</text>\r\n",
       "</g>\r\n",
       "<!-- 15807135199866188236&#45;&gt;/outputs/9 -->\r\n",
       "<g id=\"edge2\" class=\"edge\"><title>15807135199866188236&#45;&gt;/outputs/9</title>\r\n",
       "<path fill=\"none\" stroke=\"#000000\" d=\"M54.2216,-22C62.1684,-22 71.0565,-22 79.5879,-22\"/>\r\n",
       "<polygon fill=\"#000000\" stroke=\"#000000\" points=\"79.7302,-25.5001 89.7301,-22 79.7301,-18.5001 79.7302,-25.5001\"/>\r\n",
       "</g>\r\n",
       "</g>\r\n",
       "</svg>\r\n"
      ],
      "text/plain": [
       "<hiddenlayer.graph.Graph at 0x220ce7a0d00>"
      ]
     },
     "execution_count": 28,
     "metadata": {},
     "output_type": "execute_result"
    }
   ],
   "source": [
    "hl.build_graph(model3, torch.zeros([10, 2]))"
   ]
  },
  {
   "cell_type": "code",
   "execution_count": 29,
   "metadata": {},
   "outputs": [
    {
     "name": "stderr",
     "output_type": "stream",
     "text": [
      "\r\n",
      "(dot.exe:6928): Pango-WARNING **: couldn't load font \"Times Not-Rotated 10\", falling back to \"Sans Not-Rotated 10\", expect ugly output.\r\n"
     ]
    },
    {
     "data": {
      "image/svg+xml": [
       "<?xml version=\"1.0\" encoding=\"UTF-8\" standalone=\"no\"?>\r\n",
       "<!DOCTYPE svg PUBLIC \"-//W3C//DTD SVG 1.1//EN\"\r\n",
       " \"http://www.w3.org/Graphics/SVG/1.1/DTD/svg11.dtd\">\r\n",
       "<!-- Generated by graphviz version 2.38.0 (20140413.2041)\r\n",
       " -->\r\n",
       "<!-- Title: %3 Pages: 1 -->\r\n",
       "<svg width=\"864pt\" height=\"189pt\"\r\n",
       " viewBox=\"0.00 0.00 864.00 189.00\" xmlns=\"http://www.w3.org/2000/svg\" xmlns:xlink=\"http://www.w3.org/1999/xlink\">\r\n",
       "<g id=\"graph0\" class=\"graph\" transform=\"scale(1 1) rotate(0) translate(72 153)\">\r\n",
       "<title>%3</title>\r\n",
       "<polygon fill=\"#ffffff\" stroke=\"none\" points=\"-72,36 -72,-153 792,-153 792,36 -72,36\"/>\r\n",
       "<!-- /outputs/7 -->\r\n",
       "<g id=\"node1\" class=\"node\"><title>/outputs/7</title>\r\n",
       "<polygon fill=\"#e8e8e8\" stroke=\"#000000\" points=\"66,-117 0,-117 0,-81 66,-81 66,-117\"/>\r\n",
       "<text text-anchor=\"start\" x=\"8\" y=\"-96\" font-family=\"Times\" font-size=\"10.00\" fill=\"#000000\">Transpose</text>\r\n",
       "</g>\r\n",
       "<!-- /outputs/8 -->\r\n",
       "<g id=\"node2\" class=\"node\"><title>/outputs/8</title>\r\n",
       "<polygon fill=\"#e8e8e8\" stroke=\"#000000\" points=\"156,-117 102,-117 102,-81 156,-81 156,-117\"/>\r\n",
       "<text text-anchor=\"start\" x=\"112\" y=\"-96\" font-family=\"Times\" font-size=\"10.00\" fill=\"#000000\">MatMul</text>\r\n",
       "</g>\r\n",
       "<!-- /outputs/7&#45;&gt;/outputs/8 -->\r\n",
       "<g id=\"edge1\" class=\"edge\"><title>/outputs/7&#45;&gt;/outputs/8</title>\r\n",
       "<path fill=\"none\" stroke=\"#000000\" d=\"M66.0866,-99C74.4051,-99 83.4191,-99 91.9272,-99\"/>\r\n",
       "<polygon fill=\"#000000\" stroke=\"#000000\" points=\"91.9738,-102.5 101.974,-99 91.9737,-95.5001 91.9738,-102.5\"/>\r\n",
       "</g>\r\n",
       "<!-- /outputs/9 -->\r\n",
       "<g id=\"node3\" class=\"node\"><title>/outputs/9</title>\r\n",
       "<polygon fill=\"#e8e8e8\" stroke=\"#000000\" points=\"252,-117 198,-117 198,-81 252,-81 252,-117\"/>\r\n",
       "<text text-anchor=\"start\" x=\"216\" y=\"-96\" font-family=\"Times\" font-size=\"10.00\" fill=\"#000000\">Add</text>\r\n",
       "</g>\r\n",
       "<!-- /outputs/8&#45;&gt;/outputs/9 -->\r\n",
       "<g id=\"edge2\" class=\"edge\"><title>/outputs/8&#45;&gt;/outputs/9</title>\r\n",
       "<path fill=\"none\" stroke=\"#000000\" d=\"M156.184,-99C165.963,-99 177.247,-99 187.771,-99\"/>\r\n",
       "<polygon fill=\"#000000\" stroke=\"#000000\" points=\"187.956,-102.5 197.956,-99 187.956,-95.5001 187.956,-102.5\"/>\r\n",
       "</g>\r\n",
       "<!-- /outputs/11 -->\r\n",
       "<g id=\"node5\" class=\"node\"><title>/outputs/11</title>\r\n",
       "<polygon fill=\"#e8e8e8\" stroke=\"#000000\" points=\"348,-90 294,-90 294,-54 348,-54 348,-90\"/>\r\n",
       "<text text-anchor=\"start\" x=\"304\" y=\"-69\" font-family=\"Times\" font-size=\"10.00\" fill=\"#000000\">MatMul</text>\r\n",
       "</g>\r\n",
       "<!-- /outputs/9&#45;&gt;/outputs/11 -->\r\n",
       "<g id=\"edge3\" class=\"edge\"><title>/outputs/9&#45;&gt;/outputs/11</title>\r\n",
       "<path fill=\"none\" stroke=\"#000000\" d=\"M252.184,-91.479C262.064,-88.6411 273.483,-85.3614 284.099,-82.3119\"/>\r\n",
       "<polygon fill=\"#000000\" stroke=\"#000000\" points=\"285.311,-85.6054 293.956,-79.4807 283.379,-78.8775 285.311,-85.6054\"/>\r\n",
       "</g>\r\n",
       "<!-- /outputs/10 -->\r\n",
       "<g id=\"node4\" class=\"node\"><title>/outputs/10</title>\r\n",
       "<polygon fill=\"#e8e8e8\" stroke=\"#000000\" points=\"258,-63 192,-63 192,-27 258,-27 258,-63\"/>\r\n",
       "<text text-anchor=\"start\" x=\"200\" y=\"-42\" font-family=\"Times\" font-size=\"10.00\" fill=\"#000000\">Transpose</text>\r\n",
       "</g>\r\n",
       "<!-- /outputs/10&#45;&gt;/outputs/11 -->\r\n",
       "<g id=\"edge4\" class=\"edge\"><title>/outputs/10&#45;&gt;/outputs/11</title>\r\n",
       "<path fill=\"none\" stroke=\"#000000\" d=\"M258.087,-54.2164C266.497,-56.632 275.617,-59.2518 284.208,-61.7192\"/>\r\n",
       "<polygon fill=\"#000000\" stroke=\"#000000\" points=\"283.396,-65.1276 293.974,-64.5244 285.329,-58.3996 283.396,-65.1276\"/>\r\n",
       "</g>\r\n",
       "<!-- /outputs/12 -->\r\n",
       "<g id=\"node6\" class=\"node\"><title>/outputs/12</title>\r\n",
       "<polygon fill=\"#e8e8e8\" stroke=\"#000000\" points=\"438,-90 384,-90 384,-54 438,-54 438,-90\"/>\r\n",
       "<text text-anchor=\"start\" x=\"402\" y=\"-69\" font-family=\"Times\" font-size=\"10.00\" fill=\"#000000\">Add</text>\r\n",
       "</g>\r\n",
       "<!-- /outputs/11&#45;&gt;/outputs/12 -->\r\n",
       "<g id=\"edge5\" class=\"edge\"><title>/outputs/11&#45;&gt;/outputs/12</title>\r\n",
       "<path fill=\"none\" stroke=\"#000000\" d=\"M348.403,-72C356.393,-72 365.311,-72 373.824,-72\"/>\r\n",
       "<polygon fill=\"#000000\" stroke=\"#000000\" points=\"373.919,-75.5001 383.919,-72 373.919,-68.5001 373.919,-75.5001\"/>\r\n",
       "</g>\r\n",
       "<!-- /outputs/13 -->\r\n",
       "<g id=\"node7\" class=\"node\"><title>/outputs/13</title>\r\n",
       "<polygon fill=\"#e8e8e8\" stroke=\"#000000\" points=\"535,-90 479,-90 479,-54 535,-54 535,-90\"/>\r\n",
       "<text text-anchor=\"start\" x=\"487\" y=\"-69\" font-family=\"Times\" font-size=\"10.00\" fill=\"#000000\">Sigmoid</text>\r\n",
       "</g>\r\n",
       "<!-- /outputs/12&#45;&gt;/outputs/13 -->\r\n",
       "<g id=\"edge6\" class=\"edge\"><title>/outputs/12&#45;&gt;/outputs/13</title>\r\n",
       "<path fill=\"none\" stroke=\"#000000\" d=\"M438.184,-72C447.619,-72 458.456,-72 468.658,-72\"/>\r\n",
       "<polygon fill=\"#000000\" stroke=\"#000000\" points=\"468.975,-75.5001 478.975,-72 468.975,-68.5001 468.975,-75.5001\"/>\r\n",
       "</g>\r\n",
       "<!-- /outputs/15 -->\r\n",
       "<g id=\"node9\" class=\"node\"><title>/outputs/15</title>\r\n",
       "<polygon fill=\"#e8e8e8\" stroke=\"#000000\" points=\"630,-63 576,-63 576,-27 630,-27 630,-63\"/>\r\n",
       "<text text-anchor=\"start\" x=\"586\" y=\"-42\" font-family=\"Times\" font-size=\"10.00\" fill=\"#000000\">MatMul</text>\r\n",
       "</g>\r\n",
       "<!-- /outputs/13&#45;&gt;/outputs/15 -->\r\n",
       "<g id=\"edge7\" class=\"edge\"><title>/outputs/13&#45;&gt;/outputs/15</title>\r\n",
       "<path fill=\"none\" stroke=\"#000000\" d=\"M535.189,-64.1905C544.786,-61.4338 555.732,-58.2896 565.948,-55.3554\"/>\r\n",
       "<polygon fill=\"#000000\" stroke=\"#000000\" points=\"567.198,-58.6379 575.843,-52.5132 565.265,-51.91 567.198,-58.6379\"/>\r\n",
       "</g>\r\n",
       "<!-- /outputs/14 -->\r\n",
       "<g id=\"node8\" class=\"node\"><title>/outputs/14</title>\r\n",
       "<polygon fill=\"#e8e8e8\" stroke=\"#000000\" points=\"540,-36 474,-36 474,-0 540,-0 540,-36\"/>\r\n",
       "<text text-anchor=\"start\" x=\"482\" y=\"-15\" font-family=\"Times\" font-size=\"10.00\" fill=\"#000000\">Transpose</text>\r\n",
       "</g>\r\n",
       "<!-- /outputs/14&#45;&gt;/outputs/15 -->\r\n",
       "<g id=\"edge8\" class=\"edge\"><title>/outputs/14&#45;&gt;/outputs/15</title>\r\n",
       "<path fill=\"none\" stroke=\"#000000\" d=\"M540.087,-27.2164C548.497,-29.632 557.617,-32.2518 566.208,-34.7192\"/>\r\n",
       "<polygon fill=\"#000000\" stroke=\"#000000\" points=\"565.396,-38.1276 575.974,-37.5244 567.329,-31.3996 565.396,-38.1276\"/>\r\n",
       "</g>\r\n",
       "<!-- /outputs/16 -->\r\n",
       "<g id=\"node10\" class=\"node\"><title>/outputs/16</title>\r\n",
       "<polygon fill=\"#e8e8e8\" stroke=\"#000000\" points=\"720,-63 666,-63 666,-27 720,-27 720,-63\"/>\r\n",
       "<text text-anchor=\"start\" x=\"684\" y=\"-42\" font-family=\"Times\" font-size=\"10.00\" fill=\"#000000\">Add</text>\r\n",
       "</g>\r\n",
       "<!-- /outputs/15&#45;&gt;/outputs/16 -->\r\n",
       "<g id=\"edge9\" class=\"edge\"><title>/outputs/15&#45;&gt;/outputs/16</title>\r\n",
       "<path fill=\"none\" stroke=\"#000000\" d=\"M630.403,-45C638.393,-45 647.311,-45 655.824,-45\"/>\r\n",
       "<polygon fill=\"#000000\" stroke=\"#000000\" points=\"655.919,-48.5001 665.919,-45 655.919,-41.5001 655.919,-48.5001\"/>\r\n",
       "</g>\r\n",
       "</g>\r\n",
       "</svg>\r\n"
      ],
      "text/plain": [
       "<hiddenlayer.graph.Graph at 0x220c8e05a90>"
      ]
     },
     "execution_count": 29,
     "metadata": {},
     "output_type": "execute_result"
    }
   ],
   "source": [
    "hl.build_graph(model3, torch.zeros([2]))"
   ]
  }
 ],
 "metadata": {
  "kernelspec": {
   "display_name": "Python 3",
   "language": "python",
   "name": "python3"
  },
  "language_info": {
   "codemirror_mode": {
    "name": "ipython",
    "version": 3
   },
   "file_extension": ".py",
   "mimetype": "text/x-python",
   "name": "python",
   "nbconvert_exporter": "python",
   "pygments_lexer": "ipython3",
   "version": "3.8.5"
  }
 },
 "nbformat": 4,
 "nbformat_minor": 2
}
