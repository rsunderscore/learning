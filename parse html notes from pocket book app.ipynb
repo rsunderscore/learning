{
 "cells": [
  {
   "cell_type": "code",
   "execution_count": 25,
   "metadata": {},
   "outputs": [],
   "source": [
    "import pandas as pd\n",
    "from bs4 import BeautifulSoup\n",
    "import os\n",
    "import pathlib\n",
    "from glob import glob"
   ]
  },
  {
   "cell_type": "code",
   "execution_count": 124,
   "metadata": {},
   "outputs": [],
   "source": [
    "def notesfromhtmltodf(html):\n",
    "    \n",
    "    soup=BeautifulSoup(html)\n",
    "    reslist=[]\n",
    "    for commented in soup.find_all(class_='bm-note'):\n",
    "        #print(commented.text, commented.find_previous(class_='bm-page').text, commented.find_previous(class_='bm-text').text)\n",
    "        reslist.append({'pg':commented.find_previous(class_='bm-page').text.strip(), 'highlight': commented.find_previous(class_='bm-text').text.strip(), 'comment':commented.text.strip()})\n",
    "    for highlighted in soup.find_all(class_='bm-text'):\n",
    "        #print(commented.text, commented.find_previous(class_='bm-page').text, commented.find_previous(class_='bm-text').text)\n",
    "        reslist.append({'pg':highlighted.find_previous(class_='bm-page').text.strip(), 'highlight': highlighted.text.strip(), 'comment': None})\n",
    "\n",
    "\n",
    "    notesdf = pd.DataFrame(reslist).drop_duplicates(subset=['pg','highlight'],keep='first')\n",
    "    notesdf['pg'] = notesdf['pg'].apply(int) #string by default\n",
    "    return notesdf.sort_values('pg')"
   ]
  },
  {
   "cell_type": "code",
   "execution_count": 159,
   "metadata": {},
   "outputs": [],
   "source": [
    "def notesdftomd(notesdf, startpage = 0):\n",
    "    for (i,row) in notesdf[notesdf['pg']>startpage].iterrows():\n",
    "        print(f\"- \\\"{row['highlight']}\\\"{'; ***'+row['comment']+'*** ' if row['comment'] else ' '} (pg {row['pg']})\")"
   ]
  },
  {
   "cell_type": "code",
   "execution_count": 162,
   "metadata": {},
   "outputs": [
    {
     "data": {
      "text/plain": [
       "107001"
      ]
     },
     "execution_count": 162,
     "metadata": {},
     "output_type": "execute_result"
    }
   ],
   "source": [
    "fname = 'D:\\\\Users\\\\Rob\\\\Documents\\\\python\\\\..\\\\..\\\\downloads\\\\packt sale books\\\\Python Machine Learning notes.html'\n",
    "with open(fname, 'r', encoding='utf8') as f:\n",
    "    s = f.read()\n",
    "len(s)"
   ]
  },
  {
   "cell_type": "code",
   "execution_count": 74,
   "metadata": {},
   "outputs": [],
   "source": [
    "partsdict = ['pageno':'bm-page','highlight':'bm_text', 'note':'bm-note']"
   ]
  },
  {
   "cell_type": "code",
   "execution_count": 97,
   "metadata": {},
   "outputs": [],
   "source": [
    "full_note_example=\"\"\"<div id=\"2CB060FF-F1B1-50FB-BEAA-A7F7D4971D42\" class=\"bookmark bm-color-none\">\n",
    "      <p class=\"bm-page\">146</p>\n",
    "      <div class=\"bm-text\">\n",
    "        <p>-selected model, which is available via the best_estimator_</p>\n",
    "      </div>\n",
    "      <div class=\"bm-note\">\n",
    "        <p>for use with test data</p>\n",
    "      </div>\n",
    "    </div>\"\"\""
   ]
  },
  {
   "cell_type": "code",
   "execution_count": 127,
   "metadata": {},
   "outputs": [
    {
     "data": {
      "text/html": [
       "<div>\n",
       "<style scoped>\n",
       "    .dataframe tbody tr th:only-of-type {\n",
       "        vertical-align: middle;\n",
       "    }\n",
       "\n",
       "    .dataframe tbody tr th {\n",
       "        vertical-align: top;\n",
       "    }\n",
       "\n",
       "    .dataframe thead th {\n",
       "        text-align: right;\n",
       "    }\n",
       "</style>\n",
       "<table border=\"1\" class=\"dataframe\">\n",
       "  <thead>\n",
       "    <tr style=\"text-align: right;\">\n",
       "      <th></th>\n",
       "      <th>pg</th>\n",
       "      <th>highlight</th>\n",
       "      <th>comment</th>\n",
       "    </tr>\n",
       "  </thead>\n",
       "  <tbody>\n",
       "    <tr>\n",
       "      <th>13</th>\n",
       "      <td>39</td>\n",
       "      <td>append an underscore (_) to attributes that ar...</td>\n",
       "      <td>None</td>\n",
       "    </tr>\n",
       "    <tr>\n",
       "      <th>14</th>\n",
       "      <td>50</td>\n",
       "      <td>normalization procedure helps gradient descent...</td>\n",
       "      <td>None</td>\n",
       "    </tr>\n",
       "    <tr>\n",
       "      <th>16</th>\n",
       "      <td>51</td>\n",
       "      <td>SSE remains non-zero even though all flower ex...</td>\n",
       "      <td>None</td>\n",
       "    </tr>\n",
       "    <tr>\n",
       "      <th>15</th>\n",
       "      <td>51</td>\n",
       "      <td>standardization helps with gradient descent le...</td>\n",
       "      <td>None</td>\n",
       "    </tr>\n",
       "    <tr>\n",
       "      <th>0</th>\n",
       "      <td>52</td>\n",
       "      <td>update the weights incrementally for each trai...</td>\n",
       "      <td>sgd diff from gd</td>\n",
       "    </tr>\n",
       "    <tr>\n",
       "      <th>...</th>\n",
       "      <td>...</td>\n",
       "      <td>...</td>\n",
       "      <td>...</td>\n",
       "    </tr>\n",
       "    <tr>\n",
       "      <th>190</th>\n",
       "      <td>232</td>\n",
       "      <td>Ridge Regression, least absolute shrinkage and...</td>\n",
       "      <td>None</td>\n",
       "    </tr>\n",
       "    <tr>\n",
       "      <th>191</th>\n",
       "      <td>319</td>\n",
       "      <td>￼You can find the list of all activation funct...</td>\n",
       "      <td>None</td>\n",
       "    </tr>\n",
       "    <tr>\n",
       "      <th>192</th>\n",
       "      <td>442</td>\n",
       "      <td>EM distance can be interpreted as the minimal ...</td>\n",
       "      <td>None</td>\n",
       "    </tr>\n",
       "    <tr>\n",
       "      <th>193</th>\n",
       "      <td>454</td>\n",
       "      <td>dynamic programming is about recursive problem...</td>\n",
       "      <td>None</td>\n",
       "    </tr>\n",
       "    <tr>\n",
       "      <th>194</th>\n",
       "      <td>454</td>\n",
       "      <td>difference between recursion and dynamic progr...</td>\n",
       "      <td>None</td>\n",
       "    </tr>\n",
       "  </tbody>\n",
       "</table>\n",
       "<p>245 rows × 3 columns</p>\n",
       "</div>"
      ],
      "text/plain": [
       "      pg                                          highlight           comment\n",
       "13    39  append an underscore (_) to attributes that ar...              None\n",
       "14    50  normalization procedure helps gradient descent...              None\n",
       "16    51  SSE remains non-zero even though all flower ex...              None\n",
       "15    51  standardization helps with gradient descent le...              None\n",
       "0     52  update the weights incrementally for each trai...  sgd diff from gd\n",
       "..   ...                                                ...               ...\n",
       "190  232  Ridge Regression, least absolute shrinkage and...              None\n",
       "191  319  ￼You can find the list of all activation funct...              None\n",
       "192  442  EM distance can be interpreted as the minimal ...              None\n",
       "193  454  dynamic programming is about recursive problem...              None\n",
       "194  454  difference between recursion and dynamic progr...              None\n",
       "\n",
       "[245 rows x 3 columns]"
      ]
     },
     "execution_count": 127,
     "metadata": {},
     "output_type": "execute_result"
    }
   ],
   "source": [
    "notesdf = notesfromhtmltodf(s)\n",
    "notesdf"
   ]
  },
  {
   "cell_type": "code",
   "execution_count": 161,
   "metadata": {},
   "outputs": [
    {
     "name": "stdout",
     "output_type": "stream",
     "text": [
      "- \"stemming and lemmatization have little impact on the performance of text classification\"  (pg 187)\n",
      "- \"lemmatization is computationally more difficult and expensive compared to stemming and\"  (pg 187)\n",
      "- \"of-core learning, which allows us to work with such large datasets by fitting the classifier incrementally on smaller batches of a dataset.Text\"  (pg 191)\n",
      "- \"Latent Dirichlet Allocation (LDA). However, note that while Latent Dirichlet Allocation is often abbreviated as LDA, it is not to be confused with linear discriminant analysis,\"  (pg 194)\n",
      "- \"regression using the RANdom SAmple Consensus (RANSAC) algorithm, which fits a regression model to a subset of the data, the so-called inliers\"  (pg 228)\n",
      "- \"Ridge Regression, least absolute shrinkage and selection operator (LASSO), and elastic Net\"  (pg 232)\n",
      "- \"￼You can find the list of all activation functions available in the Keras API at https://www.tensorflow.org/versions/r2.0/api_docs/python/tf/keras/activations.\"  (pg 319)\n",
      "- \"EM distance can be interpreted as the minimal amount of work needed to transform one distribution into the other\"  (pg 442)\n",
      "- \"dynamic programming is about recursive problem solving—\"  (pg 454)\n",
      "- \"difference between recursion and dynamic programming is that dynamic programming stores the results of subproblems\"  (pg 454)\n"
     ]
    }
   ],
   "source": [
    "notesdftomd(notesdf, 180)"
   ]
  },
  {
   "cell_type": "code",
   "execution_count": null,
   "metadata": {},
   "outputs": [],
   "source": []
  }
 ],
 "metadata": {
  "kernelspec": {
   "display_name": "Python 3",
   "language": "python",
   "name": "python3"
  },
  "language_info": {
   "codemirror_mode": {
    "name": "ipython",
    "version": 3
   },
   "file_extension": ".py",
   "mimetype": "text/x-python",
   "name": "python",
   "nbconvert_exporter": "python",
   "pygments_lexer": "ipython3",
   "version": "3.8.5"
  }
 },
 "nbformat": 4,
 "nbformat_minor": 4
}
