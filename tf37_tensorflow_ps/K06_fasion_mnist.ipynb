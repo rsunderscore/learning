{
 "cells": [
  {
   "cell_type": "markdown",
   "metadata": {},
   "source": [
    "# CNN example\n",
    "Train a ConvNet on the MNIST fashion data.  This data consists of 10 classes of fashion images such as shorts, dresses, shoes, purses, etc.  These images replace the handwritten digits in the classic MNIST dataset.\n",
    "This change makes it harder to get a high score and more closely reflects real world usage of image classification.  And at the same time, is still small enough for the average PC to train in a short time.\n",
    "See https://github.com/zalandoresearch/fashion-mnist for information and code on Fashion MNIST\n",
    "\n",
    "This code is based on MNIST example found at Keras.io"
   ]
  },
  {
   "cell_type": "code",
   "execution_count": 1,
   "metadata": {},
   "outputs": [
    {
     "name": "stderr",
     "output_type": "stream",
     "text": [
      "Using TensorFlow backend.\n"
     ]
    },
    {
     "data": {
      "text/plain": [
       "'2.3.1'"
      ]
     },
     "execution_count": 1,
     "metadata": {},
     "output_type": "execute_result"
    }
   ],
   "source": [
    "import keras\n",
    "keras.__version__"
   ]
  },
  {
   "cell_type": "code",
   "execution_count": 29,
   "metadata": {},
   "outputs": [
    {
     "name": "stdout",
     "output_type": "stream",
     "text": [
      "Wall time: 375 ms\n"
     ]
    },
    {
     "data": {
      "text/plain": [
       "((60000, 28, 28), (10000, 28, 28), (60000,), (10000,))"
      ]
     },
     "execution_count": 29,
     "metadata": {},
     "output_type": "execute_result"
    }
   ],
   "source": [
    "#from __future__ import print_function\n",
    "from keras.datasets import fashion_mnist  # new with Keras 2.1.2.  Yah!!\n",
    "# the data, shuffled and split between train and test sets\n",
    "%time (x_train, y_train), (x_test, y_test) = fashion_mnist.load_data()\n",
    "x_train.shape, x_test.shape, y_train.shape, y_test.shape"
   ]
  },
  {
   "cell_type": "code",
   "execution_count": 5,
   "metadata": {},
   "outputs": [],
   "source": [
    "#setup\n",
    "from keras.models import Sequential\n",
    "from keras.layers import Dense, Dropout, Flatten\n",
    "from keras.layers import Conv2D, MaxPooling2D\n",
    "from keras import backend as K\n",
    "\n",
    "#   Supress warning and informational messages\n",
    "import os\n",
    "#os.environ['TF_CPP_MIN_LOG_LEVEL'] = '3' \n",
    "\n",
    "# Number of classes - do not change unless the data changes\n",
    "num_classes = 10\n",
    "\n",
    "# sizes of batch and # of epochs of data\n",
    "batch_size = 128\n",
    "epochs = 24\n",
    "\n",
    "# input image dimensions\n",
    "img_rows, img_cols = 28, 28"
   ]
  },
  {
   "cell_type": "code",
   "execution_count": 30,
   "metadata": {},
   "outputs": [
    {
     "data": {
      "text/plain": [
       "'channels_last'"
      ]
     },
     "execution_count": 30,
     "metadata": {},
     "output_type": "execute_result"
    }
   ],
   "source": [
    "#   Deal with format issues between different backends.  \n",
    "# Some put the # of channels in the image before the width and height \n",
    "# of image.\n",
    "# tensorflow is 'channels_last'\n",
    "# might get a 'dimension mismatch' error if this is not done\n",
    "#getting errors from fit (training) - eems to expect a batchsize\n",
    "if K.image_data_format() == 'channels_first':\n",
    "    x_train = x_train.reshape(x_train.shape[0], 1, img_rows, img_cols)\n",
    "    x_test = X_test.reshape(x_test.shape[0], 1, img_rows, img_cols)\n",
    "    input_shape = (1, img_rows, img_cols)\n",
    "else:\n",
    "    x_train = x_train.reshape(x_train.shape[0], img_rows, img_cols, 1)\n",
    "    x_test = x_test.reshape(x_test.shape[0], img_rows, img_cols, 1)\n",
    "    input_shape = (img_rows, img_cols, 1)\n",
    "K.image_data_format()"
   ]
  },
  {
   "cell_type": "code",
   "execution_count": 31,
   "metadata": {},
   "outputs": [
    {
     "name": "stdout",
     "output_type": "stream",
     "text": [
      "x_train shape: (60000, 28, 28, 1)\n",
      "x_test shape: (10000, 28, 28, 1)\n"
     ]
    }
   ],
   "source": [
    "#   Type convert and scale the test and training data to be 0-1 \n",
    "# instead of 0-255\n",
    "x_train = x_train.astype('float32')\n",
    "x_test = x_test.astype('float32')\n",
    "x_train /= 255\n",
    "x_test /= 255\n",
    "print('x_train shape:', x_train.shape)\n",
    "print('x_test shape:', x_test.shape)\n"
   ]
  },
  {
   "cell_type": "code",
   "execution_count": 32,
   "metadata": {
    "scrolled": false
   },
   "outputs": [
    {
     "name": "stdout",
     "output_type": "stream",
     "text": [
      "[9 0 0 3]\n",
      "[[0. 0. 0. 0. 0. 0. 0. 0. 0. 1.]\n",
      " [1. 0. 0. 0. 0. 0. 0. 0. 0. 0.]\n",
      " [1. 0. 0. 0. 0. 0. 0. 0. 0. 0.]\n",
      " [0. 0. 0. 1. 0. 0. 0. 0. 0. 0.]]\n"
     ]
    }
   ],
   "source": [
    "print(y_train[:4])\n",
    "# convert class vectors to binary class matrices.  One-hot encoding\n",
    "# prevent classification from assuming class is an ordered number\n",
    "#  3 => 0 0 0 1 0 0 0 0 0 0 and 1 => 0 1 0 0 0 0 0 0 0 0 \n",
    "y_train = keras.utils.to_categorical(y_train, num_classes)\n",
    "y_test = keras.utils.to_categorical(y_test, num_classes)\n",
    "print(y_train[:4])   # verify one-hot encoding"
   ]
  },
  {
   "cell_type": "code",
   "execution_count": 46,
   "metadata": {},
   "outputs": [
    {
     "name": "stdout",
     "output_type": "stream",
     "text": [
      "Model: \"sequential_6\"\n",
      "_________________________________________________________________\n",
      "Layer (type)                 Output Shape              Param #   \n",
      "=================================================================\n",
      "conv2d_10 (Conv2D)           (None, 26, 26, 32)        320       \n",
      "_________________________________________________________________\n",
      "conv2d_11 (Conv2D)           (None, 24, 24, 64)        18496     \n",
      "_________________________________________________________________\n",
      "max_pooling2d_9 (MaxPooling2 (None, 12, 12, 64)        0         \n",
      "_________________________________________________________________\n",
      "flatten_5 (Flatten)          (None, 9216)              0         \n",
      "_________________________________________________________________\n",
      "dense_9 (Dense)              (None, 128)               1179776   \n",
      "_________________________________________________________________\n",
      "dropout_5 (Dropout)          (None, 128)               0         \n",
      "_________________________________________________________________\n",
      "dense_10 (Dense)             (None, 10)                1290      \n",
      "=================================================================\n",
      "Total params: 1,199,882\n",
      "Trainable params: 1,199,882\n",
      "Non-trainable params: 0\n",
      "_________________________________________________________________\n"
     ]
    }
   ],
   "source": [
    "# Define the model\n",
    "model = Sequential()\n",
    "def v1(model):\n",
    "    # V1 \n",
    "    # time series data might use 1D and video might use 3D\n",
    "    model.add(Conv2D(32, kernel_size=(3, 3),activation='relu', \n",
    "                     input_shape=input_shape))\n",
    "    model.add(MaxPooling2D(pool_size=(2, 2)))\n",
    "    # 2nd round of convolution\n",
    "    model.add(Conv2D(32, (3, 3), activation='relu'))\n",
    "    model.add(MaxPooling2D(pool_size=(2, 2)))\n",
    "\n",
    "    model.add(Flatten())#convert output to 1D feature vector for dense layers\n",
    "    model.add(Dense(128, activation='relu'))\n",
    "    model.add(Dropout(0.5))# cope with over-fitting\n",
    "    #classification layer\n",
    "    model.add(Dense(num_classes, activation='softmax'))\n",
    "    return model\n",
    "\n",
    "def v2(model):\n",
    "    # V2 - changing the 2nd conv layer to have 64 filters\n",
    "    model.add(Conv2D(32, kernel_size=(3, 3), activation='relu', \n",
    "                     input_shape=input_shape))\n",
    "    model.add(MaxPooling2D(pool_size=(2, 2)))\n",
    "    model.add(Conv2D(64, (3, 3), activation='relu'))\n",
    "    model.add(MaxPooling2D(pool_size=(2, 2)))\n",
    "    model.add(Flatten())\n",
    "    model.add(Dense(128, activation='relu'))\n",
    "    model.add(Dropout(0.5))\n",
    "    model.add(Dense(num_classes, activation='softmax'))\n",
    "    return model\n",
    "\n",
    "def v3(model):\n",
    "    #V3 - removing early pooling layer\n",
    "    model.add(Conv2D(32, kernel_size=(3, 3),\n",
    "                     activation='relu',\n",
    "                     input_shape=input_shape))\n",
    "    # model.add(MaxPooling2D(pool_size=(2, 2)))\n",
    "    model.add(Conv2D(64, (3, 3), activation='relu'))\n",
    "    model.add(MaxPooling2D(pool_size=(2, 2)))\n",
    "    ## model.add(Dropout(0.25)) #not in the video\n",
    "    model.add(Flatten())\n",
    "    model.add(Dense(128, activation='relu'))\n",
    "    model.add(Dropout(0.5))\n",
    "    model.add(Dense(num_classes, activation='softmax'))\n",
    "    return model\n",
    "\n",
    "def v3_1(model): #not covered in video\n",
    "    #V3 - additional dropout\n",
    "    model.add(Conv2D(64, kernel_size=(3, 3),\n",
    "                     activation='relu',\n",
    "                     input_shape=input_shape))\n",
    "    model.add(MaxPooling2D(pool_size=(2, 2)))\n",
    "    model.add(Conv2D(64, (3, 3), activation='relu'))\n",
    "    model.add(MaxPooling2D(pool_size=(2, 2)))\n",
    "    model.add(Dropout(0.25))\n",
    "    model.add(Flatten())\n",
    "    model.add(Dense(128, activation='relu'))\n",
    "    model.add(Dropout(0.5))\n",
    "    model.add(Dense(num_classes, activation='softmax'))\n",
    "    return model\n",
    "\n",
    "def v4(model):#not covered in video\n",
    "    #V4 - remove 1st max pool\n",
    "    model.add(Conv2D(32, kernel_size=(3, 3),\n",
    "                     activation='relu',\n",
    "                     input_shape=input_shape))\n",
    "    #model.add(MaxPooling2D(pool_size=(2, 2)))\n",
    "    model.add(Conv2D(64, (3, 3), activation='relu'))\n",
    "    model.add(MaxPooling2D(pool_size=(2, 2)))\n",
    "    model.add(Dropout(0.25))\n",
    "    model.add(Flatten())\n",
    "    model.add(Dense(128, activation='relu'))\n",
    "    model.add(Dropout(0.5))\n",
    "    model.add(Dense(num_classes, activation='softmax'))\n",
    "    return model\n",
    "\n",
    "model = v3(model)\n",
    "\n",
    "model.summary()"
   ]
  },
  {
   "cell_type": "code",
   "execution_count": 47,
   "metadata": {},
   "outputs": [],
   "source": [
    "#   define compile to minimize categorical loss, \n",
    "# use ada delta optimized, and optimize to maximizing accuracy\n",
    "model.compile(loss=keras.losses.categorical_crossentropy,\n",
    "              optimizer=keras.optimizers.Adadelta(),\n",
    "              metrics=['accuracy'])"
   ]
  },
  {
   "cell_type": "code",
   "execution_count": 50,
   "metadata": {
    "scrolled": true
   },
   "outputs": [
    {
     "name": "stdout",
     "output_type": "stream",
     "text": [
      "Train on 60000 samples, validate on 10000 samples\n",
      "Epoch 1/24\n",
      "60000/60000 [==============================] - 54s 892us/step - loss: 0.5712 - accuracy: 0.7982 - val_loss: 0.3624 - val_accuracy: 0.8727\n",
      "Epoch 2/24\n",
      "60000/60000 [==============================] - 53s 883us/step - loss: 0.3573 - accuracy: 0.8736 - val_loss: 0.3026 - val_accuracy: 0.8894\n",
      "Epoch 3/24\n",
      "60000/60000 [==============================] - 53s 879us/step - loss: 0.3022 - accuracy: 0.8924 - val_loss: 0.2729 - val_accuracy: 0.9020\n",
      "Epoch 4/24\n",
      "60000/60000 [==============================] - 53s 885us/step - loss: 0.2679 - accuracy: 0.9032 - val_loss: 0.2584 - val_accuracy: 0.9079\n",
      "Epoch 5/24\n",
      "60000/60000 [==============================] - 52s 873us/step - loss: 0.2455 - accuracy: 0.9117 - val_loss: 0.2493 - val_accuracy: 0.9079\n",
      "Epoch 6/24\n",
      "60000/60000 [==============================] - 53s 877us/step - loss: 0.2222 - accuracy: 0.9207 - val_loss: 0.2339 - val_accuracy: 0.9141\n",
      "Epoch 7/24\n",
      "60000/60000 [==============================] - 53s 875us/step - loss: 0.2036 - accuracy: 0.9282 - val_loss: 0.2378 - val_accuracy: 0.9143\n",
      "Epoch 8/24\n",
      "60000/60000 [==============================] - 52s 869us/step - loss: 0.1886 - accuracy: 0.9315 - val_loss: 0.2259 - val_accuracy: 0.9197\n",
      "Epoch 9/24\n",
      "60000/60000 [==============================] - 52s 867us/step - loss: 0.1748 - accuracy: 0.9365 - val_loss: 0.2249 - val_accuracy: 0.9243\n",
      "Epoch 10/24\n",
      "60000/60000 [==============================] - 52s 868us/step - loss: 0.1613 - accuracy: 0.9413 - val_loss: 0.2226 - val_accuracy: 0.9187\n",
      "Epoch 11/24\n",
      "60000/60000 [==============================] - 52s 872us/step - loss: 0.1520 - accuracy: 0.9444 - val_loss: 0.2299 - val_accuracy: 0.9216\n",
      "Epoch 12/24\n",
      "60000/60000 [==============================] - 52s 863us/step - loss: 0.1386 - accuracy: 0.9496 - val_loss: 0.2142 - val_accuracy: 0.9258\n",
      "Epoch 13/24\n",
      "60000/60000 [==============================] - 51s 855us/step - loss: 0.1296 - accuracy: 0.9531 - val_loss: 0.2227 - val_accuracy: 0.9239\n",
      "Epoch 14/24\n",
      "60000/60000 [==============================] - 52s 871us/step - loss: 0.1219 - accuracy: 0.9555 - val_loss: 0.2288 - val_accuracy: 0.9274\n",
      "Epoch 15/24\n",
      "60000/60000 [==============================] - 51s 846us/step - loss: 0.1127 - accuracy: 0.9579 - val_loss: 0.2500 - val_accuracy: 0.9223\n",
      "Epoch 16/24\n",
      "60000/60000 [==============================] - 52s 872us/step - loss: 0.1042 - accuracy: 0.9609 - val_loss: 0.2531 - val_accuracy: 0.9275\n",
      "Epoch 17/24\n",
      "60000/60000 [==============================] - 52s 862us/step - loss: 0.1000 - accuracy: 0.9632 - val_loss: 0.2416 - val_accuracy: 0.9298\n",
      "Epoch 18/24\n",
      "60000/60000 [==============================] - 52s 869us/step - loss: 0.0936 - accuracy: 0.9654 - val_loss: 0.2541 - val_accuracy: 0.9289\n",
      "Epoch 19/24\n",
      "60000/60000 [==============================] - 52s 862us/step - loss: 0.0886 - accuracy: 0.9677 - val_loss: 0.2552 - val_accuracy: 0.9284\n",
      "Epoch 20/24\n",
      "60000/60000 [==============================] - 52s 864us/step - loss: 0.0806 - accuracy: 0.9708 - val_loss: 0.2775 - val_accuracy: 0.9292\n",
      "Epoch 21/24\n",
      "60000/60000 [==============================] - 52s 873us/step - loss: 0.0770 - accuracy: 0.9719 - val_loss: 0.2759 - val_accuracy: 0.9294\n",
      "Epoch 22/24\n",
      "60000/60000 [==============================] - 53s 875us/step - loss: 0.0721 - accuracy: 0.9738 - val_loss: 0.2507 - val_accuracy: 0.9298\n",
      "Epoch 23/24\n",
      "60000/60000 [==============================] - 52s 870us/step - loss: 0.0691 - accuracy: 0.9747 - val_loss: 0.2723 - val_accuracy: 0.9301\n",
      "Epoch 24/24\n",
      "60000/60000 [==============================] - 52s 869us/step - loss: 0.0672 - accuracy: 0.9752 - val_loss: 0.2553 - val_accuracy: 0.9298\n",
      "Wall time: 20min 54s\n"
     ]
    }
   ],
   "source": [
    "%%time \n",
    "# v2=8 min; v3 ~ 20min\n",
    "#   Train the model and test/validate the mode with the test data after each cycle (epoch) through the training data\n",
    "#   Return history of loss and accuracy for each epoch\n",
    "# strange errors about dimensions of test data\n",
    "print(f\"batch_size {batch_size} epochs={epochs}\")\n",
    "hist = model.fit(x_train, y_train, batch_size=batch_size,\n",
    "          epochs=epochs, verbose=1,\n",
    "          validation_data=(x_test, y_test))"
   ]
  },
  {
   "cell_type": "code",
   "execution_count": 51,
   "metadata": {},
   "outputs": [
    {
     "name": "stdout",
     "output_type": "stream",
     "text": [
      "Test loss: 0.2552990923136473\n",
      "Test accuracy: 0.9297999739646912\n"
     ]
    }
   ],
   "source": [
    "#   Evaluate the model with the test data to get the scores on \"real\" data.\n",
    "# ideally this would be an entirely separate dataset not used for validation\n",
    "score = model.evaluate(x_test, y_test, verbose=0)\n",
    "print('Test loss:', score[0])\n",
    "print('Test accuracy:', score[1])"
   ]
  },
  {
   "cell_type": "code",
   "execution_count": 52,
   "metadata": {},
   "outputs": [
    {
     "data": {
      "image/png": "[encoded data removed]",
      "text/plain": [
       "<Figure size 432x288 with 1 Axes>"
      ]
     },
     "metadata": {
      "needs_background": "light"
     },
     "output_type": "display_data"
    }
   ],
   "source": [
    "#   Plot data to see relationships in training and validation data\n",
    "# changed acc to accuracy\n",
    "import numpy as np\n",
    "import matplotlib.pyplot as plt\n",
    "epoch_list = list(range(1, len(hist.history['accuracy']) + 1))  # values for x axis [1, 2, ..., # of epochs]\n",
    "plt.plot(epoch_list, hist.history['accuracy'], epoch_list,\n",
    "         hist.history['val_accuracy'])\n",
    "plt.legend(('Training Accuracy', 'Validation Accuracy'))\n",
    "plt.show()"
   ]
  },
  {
   "cell_type": "code",
   "execution_count": 40,
   "metadata": {},
   "outputs": [
    {
     "data": {
      "text/plain": [
       "dict_keys(['val_loss', 'val_accuracy', 'loss', 'accuracy'])"
      ]
     },
     "execution_count": 40,
     "metadata": {},
     "output_type": "execute_result"
    }
   ],
   "source": [
    "hist.history.keys()"
   ]
  },
  {
   "cell_type": "markdown",
   "metadata": {},
   "source": [
    "# why do we never show how the model is used"
   ]
  },
  {
   "cell_type": "code",
   "execution_count": 73,
   "metadata": {},
   "outputs": [
    {
     "data": {
      "image/png": "[encoded data removed]",
      "text/plain": [
       "<Figure size 432x288 with 2 Axes>"
      ]
     },
     "metadata": {
      "needs_background": "light"
     },
     "output_type": "display_data"
    }
   ],
   "source": [
    "#orig y_test is lost so need to convert it back\n",
    "y_labels = [list(x).index(1) for x in y_test]\n",
    "# Define class names to display\n",
    "class_names = ['T-shirt/top', 'Trouser', 'Pullover', 'Dress', 'Coat',\n",
    "                  'Sandal', 'Shirt', 'Sneaker', 'Bag', 'Ankle boot']\n",
    "def show_image(index, images, labels, class_names):\n",
    "    #return str(labels[index]) + ' (' +  class_names[labels[index]] + ')'\n",
    "    img_label = str(labels[index]) + ' (' +  class_names[labels[index]] + ')'\n",
    "    plt.figure()\n",
    "    plt.title('Image Label ' + img_label) \n",
    "    plt.imshow(images[index], cmap='gray')  # data is grayscale, but displays in color without cmap='gray'\n",
    "    plt.colorbar()\n",
    "    plt.show()\n",
    "\n",
    "show_image(10, x_test, y_labels, class_names)\n"
   ]
  },
  {
   "cell_type": "code",
   "execution_count": 75,
   "metadata": {},
   "outputs": [
    {
     "data": {
      "text/plain": [
       "(28, 28, 1)"
      ]
     },
     "execution_count": 75,
     "metadata": {},
     "output_type": "execute_result"
    }
   ],
   "source": [
    "x_test[10].shape"
   ]
  },
  {
   "cell_type": "code",
   "execution_count": 94,
   "metadata": {},
   "outputs": [],
   "source": [
    "y_pred = model.predict(x_test[:100])#input needs to be multiple rows"
   ]
  },
  {
   "cell_type": "code",
   "execution_count": 99,
   "metadata": {},
   "outputs": [],
   "source": [
    "y_max = [list(x).index(x.max()) for x in y_pred]"
   ]
  },
  {
   "cell_type": "code",
   "execution_count": 105,
   "metadata": {},
   "outputs": [
    {
     "data": {
      "text/html": [
       "<div>\n",
       "<style scoped>\n",
       "    .dataframe tbody tr th:only-of-type {\n",
       "        vertical-align: middle;\n",
       "    }\n",
       "\n",
       "    .dataframe tbody tr th {\n",
       "        vertical-align: top;\n",
       "    }\n",
       "\n",
       "    .dataframe thead th {\n",
       "        text-align: right;\n",
       "    }\n",
       "</style>\n",
       "<table border=\"1\" class=\"dataframe\">\n",
       "  <thead>\n",
       "    <tr style=\"text-align: right;\">\n",
       "      <th></th>\n",
       "      <th>orig</th>\n",
       "      <th>pred</th>\n",
       "    </tr>\n",
       "  </thead>\n",
       "  <tbody>\n",
       "    <tr>\n",
       "      <th>98</th>\n",
       "      <td>4</td>\n",
       "      <td>4</td>\n",
       "    </tr>\n",
       "    <tr>\n",
       "      <th>19</th>\n",
       "      <td>0</td>\n",
       "      <td>0</td>\n",
       "    </tr>\n",
       "    <tr>\n",
       "      <th>93</th>\n",
       "      <td>7</td>\n",
       "      <td>7</td>\n",
       "    </tr>\n",
       "    <tr>\n",
       "      <th>85</th>\n",
       "      <td>0</td>\n",
       "      <td>0</td>\n",
       "    </tr>\n",
       "    <tr>\n",
       "      <th>68</th>\n",
       "      <td>9</td>\n",
       "      <td>7</td>\n",
       "    </tr>\n",
       "    <tr>\n",
       "      <th>10</th>\n",
       "      <td>4</td>\n",
       "      <td>4</td>\n",
       "    </tr>\n",
       "    <tr>\n",
       "      <th>97</th>\n",
       "      <td>1</td>\n",
       "      <td>1</td>\n",
       "    </tr>\n",
       "    <tr>\n",
       "      <th>45</th>\n",
       "      <td>7</td>\n",
       "      <td>7</td>\n",
       "    </tr>\n",
       "    <tr>\n",
       "      <th>12</th>\n",
       "      <td>7</td>\n",
       "      <td>7</td>\n",
       "    </tr>\n",
       "    <tr>\n",
       "      <th>34</th>\n",
       "      <td>8</td>\n",
       "      <td>8</td>\n",
       "    </tr>\n",
       "  </tbody>\n",
       "</table>\n",
       "</div>"
      ],
      "text/plain": [
       "    orig  pred\n",
       "98     4     4\n",
       "19     0     0\n",
       "93     7     7\n",
       "85     0     0\n",
       "68     9     7\n",
       "10     4     4\n",
       "97     1     1\n",
       "45     7     7\n",
       "12     7     7\n",
       "34     8     8"
      ]
     },
     "execution_count": 105,
     "metadata": {},
     "output_type": "execute_result"
    }
   ],
   "source": [
    "import pandas as pd\n",
    "res = pd.DataFrame(zip(y_labels, y_max), columns =['orig','pred'])\n",
    "res.sample(10)"
   ]
  },
  {
   "cell_type": "code",
   "execution_count": 107,
   "metadata": {},
   "outputs": [
    {
     "data": {
      "text/plain": [
       "False    91\n",
       "True      9\n",
       "dtype: int64"
      ]
     },
     "execution_count": 107,
     "metadata": {},
     "output_type": "execute_result"
    }
   ],
   "source": [
    "res.apply(lambda x: x['orig'] != x['pred'], axis=1).value_counts()"
   ]
  },
  {
   "cell_type": "code",
   "execution_count": 108,
   "metadata": {},
   "outputs": [
    {
     "data": {
      "text/html": [
       "<div>\n",
       "<style scoped>\n",
       "    .dataframe tbody tr th:only-of-type {\n",
       "        vertical-align: middle;\n",
       "    }\n",
       "\n",
       "    .dataframe tbody tr th {\n",
       "        vertical-align: top;\n",
       "    }\n",
       "\n",
       "    .dataframe thead th {\n",
       "        text-align: right;\n",
       "    }\n",
       "</style>\n",
       "<table border=\"1\" class=\"dataframe\">\n",
       "  <thead>\n",
       "    <tr style=\"text-align: right;\">\n",
       "      <th></th>\n",
       "      <th>orig</th>\n",
       "      <th>pred</th>\n",
       "    </tr>\n",
       "  </thead>\n",
       "  <tbody>\n",
       "    <tr>\n",
       "      <th>17</th>\n",
       "      <td>4</td>\n",
       "      <td>6</td>\n",
       "    </tr>\n",
       "    <tr>\n",
       "      <th>23</th>\n",
       "      <td>9</td>\n",
       "      <td>5</td>\n",
       "    </tr>\n",
       "    <tr>\n",
       "      <th>25</th>\n",
       "      <td>4</td>\n",
       "      <td>6</td>\n",
       "    </tr>\n",
       "    <tr>\n",
       "      <th>42</th>\n",
       "      <td>3</td>\n",
       "      <td>4</td>\n",
       "    </tr>\n",
       "    <tr>\n",
       "      <th>48</th>\n",
       "      <td>2</td>\n",
       "      <td>6</td>\n",
       "    </tr>\n",
       "    <tr>\n",
       "      <th>49</th>\n",
       "      <td>2</td>\n",
       "      <td>6</td>\n",
       "    </tr>\n",
       "    <tr>\n",
       "      <th>67</th>\n",
       "      <td>3</td>\n",
       "      <td>4</td>\n",
       "    </tr>\n",
       "    <tr>\n",
       "      <th>68</th>\n",
       "      <td>9</td>\n",
       "      <td>7</td>\n",
       "    </tr>\n",
       "    <tr>\n",
       "      <th>74</th>\n",
       "      <td>2</td>\n",
       "      <td>4</td>\n",
       "    </tr>\n",
       "  </tbody>\n",
       "</table>\n",
       "</div>"
      ],
      "text/plain": [
       "    orig  pred\n",
       "17     4     6\n",
       "23     9     5\n",
       "25     4     6\n",
       "42     3     4\n",
       "48     2     6\n",
       "49     2     6\n",
       "67     3     4\n",
       "68     9     7\n",
       "74     2     4"
      ]
     },
     "execution_count": 108,
     "metadata": {},
     "output_type": "execute_result"
    }
   ],
   "source": [
    "res[res.apply(lambda x: x['orig'] != x['pred'], axis=1)]"
   ]
  },
  {
   "cell_type": "code",
   "execution_count": 130,
   "metadata": {},
   "outputs": [
    {
     "name": "stdout",
     "output_type": "stream",
     "text": [
      " thought this was Shirt\n"
     ]
    },
    {
     "data": {
      "image/png": "[encoded data removed]",
      "text/plain": [
       "<Figure size 432x288 with 2 Axes>"
      ]
     },
     "metadata": {
      "needs_background": "light"
     },
     "output_type": "display_data"
    }
   ],
   "source": [
    "ixval = 17\n",
    "r = res.loc[ixval]\n",
    "\n",
    "print(f\" thought this was {class_names[r['pred']]}\")\n",
    "show_image(ixval, x_test, y_labels, class_names)"
   ]
  },
  {
   "cell_type": "code",
   "execution_count": null,
   "metadata": {},
   "outputs": [],
   "source": []
  }
 ],
 "metadata": {
  "kernelspec": {
   "display_name": "Python 3",
   "language": "python",
   "name": "python3"
  },
  "language_info": {
   "codemirror_mode": {
    "name": "ipython",
    "version": 3
   },
   "file_extension": ".py",
   "mimetype": "text/x-python",
   "name": "python",
   "nbconvert_exporter": "python",
   "pygments_lexer": "ipython3",
   "version": "3.7.9"
  }
 },
 "nbformat": 4,
 "nbformat_minor": 4
}
